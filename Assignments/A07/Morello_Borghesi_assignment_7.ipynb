{
  "cells": [
    {
      "cell_type": "code",
      "execution_count": 1,
      "metadata": {
        "id": "5bun1lQdwoqy"
      },
      "outputs": [
        {
          "data": {
            "text/plain": [
              "device(type='cuda')"
            ]
          },
          "execution_count": 1,
          "metadata": {},
          "output_type": "execute_result"
        }
      ],
      "source": [
        "import torch\n",
        "\n",
        "device = torch.device(\"cuda\" if torch.cuda.is_available() else \"cpu\")\n",
        "\n",
        "device"
      ]
    },
    {
      "cell_type": "code",
      "execution_count": 2,
      "metadata": {
        "id": "IWU1vPVJVcXS"
      },
      "outputs": [],
      "source": [
        "import numpy as np\n",
        "import torch\n",
        "import torch.nn as nn\n",
        "import torch.optim as optim\n",
        "import torch.utils.data as data\n",
        "import re"
      ]
    },
    {
      "cell_type": "markdown",
      "metadata": {
        "id": "UST5r9rhVdqY"
      },
      "source": [
        "1. load dataset"
      ]
    },
    {
      "cell_type": "code",
      "execution_count": 3,
      "metadata": {
        "id": "0Lqa4ncgVlWT"
      },
      "outputs": [],
      "source": [
        "# Download the text file \"Alice's Adventures in Wonderland\" from Project Gutenberg\n",
        "#!mkdir -p ../datasets/wonderland\n",
        "#!wget -O ../datasets/wonderland/wonderland.txt https://www.gutenberg.org/ebooks/11.txt.utf-8\n"
      ]
    },
    {
      "cell_type": "code",
      "execution_count": 4,
      "metadata": {},
      "outputs": [
        {
          "name": "stdout",
          "output_type": "stream",
          "text": [
            "ok  title alices adventures in wonderland  author lewis carroll  release date june   ebook                  most recently updated february    language english  credits arthur dibianca and david widger\n",
            "Total Characters train: 108293\n",
            "Total Characters test: 30941\n",
            "Total Unique Characters (Vocabulary Size): 27\n",
            "Chars:  [' ', 'a', 'b', 'c', 'd', 'e', 'f', 'g', 'h', 'i', 'j', 'k', 'l', 'm', 'n', 'o', 'p', 'q', 'r', 's', 't', 'u', 'v', 'w', 'x', 'y', 'z']\n"
          ]
        }
      ],
      "source": [
        "\n",
        "# Load the text data from the downloaded file\n",
        "filename = \"../datasets/wonderland/wonderland.txt\"\n",
        "with open(filename, 'r', encoding='utf-8') as f:\n",
        "  raw_text = f.read()\n",
        "\n",
        "# Convert all characters to lowercase\n",
        "raw_text = raw_text.lower()\n",
        "\n",
        "# Remove non-alphanumeric characters\n",
        "raw_text = re.sub(r'\\n', ' ', raw_text)\n",
        "raw_text = re.sub(r'[^A-Za-z ]+', '', raw_text)\n",
        "\n",
        "print(raw_text[500:700])\n",
        "# Create a set of unique characters in the text\n",
        "unique_chars = set(raw_text)\n",
        "\n",
        "# Sort the unique characters\n",
        "chars = sorted(list(unique_chars))\n",
        "\n",
        "# Create a dictionary mapping each unique character to a unique integer\n",
        "char_to_int = dict((c, i) for i, c in enumerate(chars))\n",
        "\n",
        "# Split the text into training and testing sets\n",
        "train_start = int(len(raw_text) * 0.1)  # Starting index for training set (10% of text)\n",
        "train_end = int(len(raw_text) * 0.8)  # Ending index for training set (80% of text)\n",
        "test_start = train_end  # Starting index for testing set (remaining 20% of text)\n",
        "\n",
        "raw_text_train = raw_text[train_start:train_end]  # Extract training text\n",
        "raw_text_test = raw_text[test_start:]  # Extract testing text\n",
        "\n",
        "# Calculate and print some summary statistics\n",
        "n_chars_train = len(raw_text_train)\n",
        "n_chars_test = len(raw_text_test)\n",
        "n_vocab = len(chars)\n",
        "\n",
        "print(\"Total Characters train:\", n_chars_train)\n",
        "print(\"Total Characters test:\", n_chars_test)\n",
        "print(\"Total Unique Characters (Vocabulary Size):\", n_vocab)\n",
        "print(\"Chars: \",chars)"
      ]
    },
    {
      "cell_type": "markdown",
      "metadata": {
        "id": "tyapEnC6X5p9"
      },
      "source": [
        "Prepare the dataset of input to output pairs encoded as integers.\n",
        "\n",
        "The model takes input sequences of 100 characters and predicts the character 101"
      ]
    },
    {
      "cell_type": "code",
      "execution_count": 5,
      "metadata": {
        "id": "fMCNdvvvX4YD"
      },
      "outputs": [
        {
          "name": "stdout",
          "output_type": "stream",
          "text": [
            "Total Patterns train:  108193\n",
            "Total Patterns test:  30841\n"
          ]
        }
      ],
      "source": [
        "# Define the sequence length for character prediction\n",
        "seq_length = 100\n",
        "\n",
        "# List to store sequences of characters as integer indices\n",
        "dataX = []\n",
        "\n",
        "# List to store target characters (next character) as integer indices\n",
        "dataY = []\n",
        "\n",
        "# Loop through the training text with a stride of 1 character\n",
        "for i in range(0, n_chars_train - seq_length, 1):\n",
        "  # Extract an input sequence of length 'seq_length' from the training text\n",
        "  seq_in = raw_text_train[i:i + seq_length]\n",
        "\n",
        "  # Extract the target character (next character to predict)\n",
        "  seq_out = raw_text_train[i + seq_length]\n",
        "\n",
        "  # Convert characters in the input sequence to their integer indices using the mapping dictionary\n",
        "  dataX.append([char_to_int[char] for char in seq_in])\n",
        "\n",
        "  # Append the target character's integer index to the output list\n",
        "  dataY.append(char_to_int[seq_out])\n",
        "\n",
        "# Count the total number of training patterns (sequences-target character pairs)\n",
        "n_patterns = len(dataX)\n",
        "print(\"Total Patterns train: \", n_patterns)\n",
        "\n",
        "# Convert the lists of integer indices (dataX and dataY) into PyTorch tensors\n",
        "X_train = torch.tensor(dataX, dtype=torch.float32)\n",
        "y_train = torch.tensor(dataY)\n",
        "\n",
        "# Reshape the input sequences into a 3D tensor with dimensions:\n",
        "#   - n_patterns: Number of training patterns\n",
        "#   - seq_length: Length of the input sequence\n",
        "#   - 1: Number of features (one-hot encoded characters can be represented as floats here)\n",
        "X_train = X_train.reshape(n_patterns, seq_length, 1)\n",
        "\n",
        "# Normalize the input sequences by dividing each element by the vocabulary size\n",
        "# This helps the training process of the model\n",
        "X_train = X_train / float(n_vocab)\n",
        "\n",
        "# Prepare testing data (similar to training data preparation)\n",
        "\n",
        "y_train = torch.tensor(dataY)\n",
        "\n",
        "#test\n",
        "dataX = []\n",
        "dataY = []\n",
        "for i in range(0, n_chars_test - seq_length, 1):\n",
        "    seq_in = raw_text_test[i:i + seq_length]\n",
        "    seq_out = raw_text_test[i + seq_length]\n",
        "    dataX.append([char_to_int[char] for char in seq_in])\n",
        "    dataY.append(char_to_int[seq_out])\n",
        "n_patterns = len(dataX)\n",
        "print(\"Total Patterns test: \", n_patterns)\n",
        "# Convert the testing data lists to tensors, reshape, normalize, and create target tensor\n",
        "X_test = torch.tensor(dataX, dtype=torch.float32).reshape(n_patterns, seq_length, 1)\n",
        "X_test = X_test / float(n_vocab)\n",
        "y_test = torch.tensor(dataY)\n"
      ]
    },
    {
      "cell_type": "markdown",
      "metadata": {
        "id": "SgqlK_ZEYHft"
      },
      "source": [
        "# Model definition.\n",
        "\n",
        "[LSTM](https://pytorch.org/docs/stable/generated/torch.nn.LSTM.html#torch.nn.LSTM)\n",
        "\n",
        "[Explain](https://colah.github.io/posts/2015-08-Understanding-LSTMs/)\n",
        "\n",
        "[Multi layers](https://www.researchgate.net/publication/324600237/figure/fig5/AS:616974627385344@1524109622521/Multivariate-LSTM-with-4-features-and-a-single-output-The-output-of-LSTM-at-time-t-is.png)"
      ]
    },
    {
      "cell_type": "code",
      "execution_count": 49,
      "metadata": {},
      "outputs": [],
      "source": [
        "class CharModelBiLSTM(nn.Module):\n",
        "\n",
        "\n",
        "  def __init__(self, n_vocab):\n",
        "\n",
        "    super().__init__()  # Call the superclass constructor\n",
        "\n",
        "    # Define the LSTM layer\n",
        "    self.lstm = nn.LSTM(\n",
        "        input_size=1,  # Input size: one-hot encoded characters (represented as floats here)\n",
        "        hidden_size=512,  # Hidden size of the LSTM layer\n",
        "        num_layers=6,  # Number of LSTM layers stacked on top of each other\n",
        "        batch_first=True,  # Input tensors are of shape (batch_size, seq_len, features)\n",
        "        dropout=0.2,  # Dropout rate for regularization\n",
        "        bidirectional=True  # Do not use bidirectional LSTM\n",
        "    )\n",
        "\n",
        "\n",
        "    self.linear = nn.Linear(1024, n_vocab)  # Map LSTM output to vocabulary size (number of characters)\n",
        "\n",
        "\n",
        "  def forward(self, x):\n",
        "\n",
        "    x, _ = self.lstm(x)\n",
        "    # Take only the last output from the sequence (represents the model's prediction based on the entire sequence)\n",
        "    x = x[:, -1, :]  # Select the last element from the sequence dimension\n",
        "\n",
        "    # Pass the LSTM output through the linear layer to get logits for the next character prediction\n",
        "    x = self.linear(x)\n",
        "\n",
        "    return x\n"
      ]
    },
    {
      "cell_type": "code",
      "execution_count": 50,
      "metadata": {
        "id": "gbE39z_wYIlO"
      },
      "outputs": [],
      "source": [
        "class CharModelLSTM(nn.Module):\n",
        "\n",
        "\n",
        "  def __init__(self, n_vocab):\n",
        "\n",
        "    super().__init__()  # Call the superclass constructor\n",
        "\n",
        "    # Define the LSTM layer\n",
        "    self.lstm = nn.LSTM(\n",
        "        input_size=1,  # Input size: one-hot encoded characters (represented as floats here)\n",
        "        hidden_size=256,  # Hidden size of the LSTM layer\n",
        "        num_layers=6,  # Number of LSTM layers stacked on top of each other\n",
        "        batch_first=True,  # Input tensors are of shape (batch_size, seq_len, features)\n",
        "        dropout=0.2,  # Dropout rate for regularization\n",
        "        bidirectional=False  # Do not use bidirectional LSTM\n",
        "    )\n",
        "\n",
        "    self.linear = nn.Linear(256, n_vocab)  # Map LSTM output to vocabulary size (number of characters)\n",
        "\n",
        "\n",
        "  def forward(self, x):\n",
        "\n",
        "    x, _ = self.lstm(x)\n",
        "    # Take only the last output from the sequence (represents the model's prediction based on the entire sequence)\n",
        "    x = x[:, -1, :]  # Select the last element from the sequence dimension\n",
        "\n",
        "    # Pass the LSTM output through the linear layer to get logits for the next character prediction\n",
        "    x = self.linear(x)\n",
        "\n",
        "    return x\n"
      ]
    },
    {
      "cell_type": "code",
      "execution_count": 7,
      "metadata": {},
      "outputs": [],
      "source": [
        "class CharModelGRU(nn.Module):\n",
        "    def __init__(self, n_vocab):\n",
        "\n",
        "        super().__init__()  # Call the superclass constructor\n",
        "        self.gru = nn.GRU(\n",
        "            input_size=1,  # Input size: one-hot encoded characters (represented as floats here)\n",
        "            hidden_size=512,  # Hidden size of the LSTM layer\n",
        "            num_layers=6,  # Number of LSTM layers stacked on top of each other\n",
        "            batch_first=True,  # Input tensors are of shape (batch_size, seq_len, features)\n",
        "            dropout=0.2,  # Dropout rate for regularization\n",
        "            bidirectional=True  # Set to False for unidirectional LSTM\n",
        "        )\n",
        "        \n",
        "        self.linear = nn.Linear(1024, n_vocab)\n",
        "        \n",
        "    def forward(self, x):\n",
        "        x, _ = self.gru(x)\n",
        "        x = x[:, -1, :]\n",
        "        x = self.linear(x)\n",
        "        return x\n",
        "    "
      ]
    },
    {
      "cell_type": "code",
      "execution_count": 8,
      "metadata": {},
      "outputs": [],
      "source": [
        "class CharModelRNN(nn.Module):\n",
        "    def __init__(self, n_vocab):\n",
        "\n",
        "        super().__init__()  # Call the superclass constructor\n",
        "    \n",
        "        self.rnn = nn.RNN(\n",
        "            input_size=1,  # Input size: one-hot encoded characters (represented as floats here)\n",
        "            hidden_size=512,  # Hidden size of the LSTM layer\n",
        "            num_layers=6,  # Number of LSTM layers stacked on top of each other\n",
        "            batch_first=True,  # Input tensors are of shape (batch_size, seq_len, features)\n",
        "            dropout=0.2,  # Dropout rate for regularization\n",
        "            bidirectional=True  # Set to False for unidirectional LSTM\n",
        "        )\n",
        "\n",
        "        self.linear = nn.Linear(1024, n_vocab)\n",
        "        \n",
        "    def forward(self, x):\n",
        "        x, _ = self.rnn(x)\n",
        "        x = x[:, -1, :]\n",
        "        x = self.linear(x)\n",
        "        return x\n",
        "    "
      ]
    },
    {
      "cell_type": "markdown",
      "metadata": {
        "id": "krCe-YU9YMpd"
      },
      "source": [
        "Train setup and dataloader"
      ]
    },
    {
      "cell_type": "markdown",
      "metadata": {
        "id": "ORcZ8Wo_aL3F"
      },
      "source": [
        "Train the model"
      ]
    },
    {
      "cell_type": "code",
      "execution_count": 9,
      "metadata": {
        "id": "xUzzGvGYU19p"
      },
      "outputs": [],
      "source": [
        "from tqdm import tqdm\n",
        "import pickle\n",
        "\n",
        "def train(model, optimizer, loss_fn, n_epochs, loader_train, loader_test, name):\n",
        "  best_model = None\n",
        "  best_loss = np.inf\n",
        "  patience = 23\n",
        "  train_total_losses = []\n",
        "  validation_total_losses = []\n",
        "\n",
        "  for epoch in (range(n_epochs)):\n",
        "    model.train()\n",
        "    train_losses = []\n",
        "\n",
        "    for X_batch, y_batch in tqdm(loader_train):\n",
        "\n",
        "      optimizer.zero_grad()\n",
        "\n",
        "      y_pred = model(X_batch.to(device))\n",
        "      loss = loss_fn(y_pred, y_batch.to(device))\n",
        "      train_losses.append(loss.cpu().detach().numpy())\n",
        "      train_total_losses.append(loss.cpu().detach().numpy())\n",
        "\n",
        "      loss.backward()\n",
        "      optimizer.step()\n",
        "    print(\"Epoch %d: Cross-entropy: %.4f\" % (epoch, np.mean(train_losses)))\n",
        "    model.eval()\n",
        "    validation_losses = []\n",
        "\n",
        "\n",
        "    with torch.no_grad():\n",
        "      for X_batch, y_batch in tqdm(loader_test):\n",
        "        y_pred = model(X_batch.to(device))\n",
        "        validation_loss = loss_fn(y_pred.to(device), y_batch.to(device)).cpu()\n",
        "        validation_losses.append(validation_loss)\n",
        "        validation_total_losses.append(validation_loss)\n",
        "\n",
        "      avg_validation_loss = np.mean(validation_losses)\n",
        "\n",
        "      if avg_validation_loss < best_loss:\n",
        "        best_loss = avg_validation_loss\n",
        "        best_model = model.state_dict()\n",
        "        torch.save([best_model, char_to_int], f\"best_{name}.pth\")\n",
        "        patience = 30\n",
        "        print(\"**BEST**\", end=\"\")\n",
        "      else:\n",
        "        patience -= 1\n",
        "\n",
        "      torch.save([best_model, char_to_int], f\"last_{name}.pth\")\n",
        "\n",
        "      print(\"Epoch %d: Validation Cross-entropy: %.4f\" % (epoch, avg_validation_loss))\n",
        "\n",
        "      if patience <= 0:\n",
        "        print(\"Stop training!\")\n",
        "        break\n",
        "      \n",
        "  with open(f\"val_{name}_losses.pkl\", \"wb\") as f:\n",
        "    pickle.dump(validation_total_losses, f)\n",
        "  with open(f\"train_{name}_losses.pkl\", \"wb\") as f:\n",
        "    pickle.dump(train_total_losses, f)\n",
        "  print(\"Done\")\n"
      ]
    },
    {
      "cell_type": "code",
      "execution_count": 10,
      "metadata": {},
      "outputs": [
        {
          "name": "stderr",
          "output_type": "stream",
          "text": [
            "/home/omirako/.local/lib/python3.12/site-packages/tqdm/auto.py:21: TqdmWarning: IProgress not found. Please update jupyter and ipywidgets. See https://ipywidgets.readthedocs.io/en/stable/user_install.html\n",
            "  from .autonotebook import tqdm as notebook_tqdm\n",
            "100%|██████████| 212/212 [01:35<00:00,  2.22it/s]\n"
          ]
        },
        {
          "name": "stdout",
          "output_type": "stream",
          "text": [
            "Epoch 0: Cross-entropy: 2.8162\n"
          ]
        },
        {
          "name": "stderr",
          "output_type": "stream",
          "text": [
            "100%|██████████| 61/61 [00:08<00:00,  7.44it/s]\n"
          ]
        },
        {
          "name": "stdout",
          "output_type": "stream",
          "text": [
            "**BEST**Epoch 0: Validation Cross-entropy: 2.8081\n"
          ]
        },
        {
          "name": "stderr",
          "output_type": "stream",
          "text": [
            "100%|██████████| 212/212 [01:34<00:00,  2.25it/s]\n"
          ]
        },
        {
          "name": "stdout",
          "output_type": "stream",
          "text": [
            "Epoch 1: Cross-entropy: 2.4639\n"
          ]
        },
        {
          "name": "stderr",
          "output_type": "stream",
          "text": [
            "100%|██████████| 61/61 [00:08<00:00,  7.62it/s]\n"
          ]
        },
        {
          "name": "stdout",
          "output_type": "stream",
          "text": [
            "**BEST**Epoch 1: Validation Cross-entropy: 2.5078\n"
          ]
        },
        {
          "name": "stderr",
          "output_type": "stream",
          "text": [
            "100%|██████████| 212/212 [01:33<00:00,  2.26it/s]\n"
          ]
        },
        {
          "name": "stdout",
          "output_type": "stream",
          "text": [
            "Epoch 2: Cross-entropy: 2.1887\n"
          ]
        },
        {
          "name": "stderr",
          "output_type": "stream",
          "text": [
            "100%|██████████| 61/61 [00:07<00:00,  7.63it/s]\n"
          ]
        },
        {
          "name": "stdout",
          "output_type": "stream",
          "text": [
            "**BEST**Epoch 2: Validation Cross-entropy: 2.4020\n"
          ]
        },
        {
          "name": "stderr",
          "output_type": "stream",
          "text": [
            "100%|██████████| 212/212 [01:31<00:00,  2.31it/s]\n"
          ]
        },
        {
          "name": "stdout",
          "output_type": "stream",
          "text": [
            "Epoch 3: Cross-entropy: 2.0256\n"
          ]
        },
        {
          "name": "stderr",
          "output_type": "stream",
          "text": [
            "100%|██████████| 61/61 [00:07<00:00,  7.64it/s]\n"
          ]
        },
        {
          "name": "stdout",
          "output_type": "stream",
          "text": [
            "**BEST**Epoch 3: Validation Cross-entropy: 2.2972\n"
          ]
        },
        {
          "name": "stderr",
          "output_type": "stream",
          "text": [
            "100%|██████████| 212/212 [01:33<00:00,  2.27it/s]\n"
          ]
        },
        {
          "name": "stdout",
          "output_type": "stream",
          "text": [
            "Epoch 4: Cross-entropy: 1.9191\n"
          ]
        },
        {
          "name": "stderr",
          "output_type": "stream",
          "text": [
            "100%|██████████| 61/61 [00:08<00:00,  7.60it/s]\n"
          ]
        },
        {
          "name": "stdout",
          "output_type": "stream",
          "text": [
            "**BEST**Epoch 4: Validation Cross-entropy: 2.2630\n"
          ]
        },
        {
          "name": "stderr",
          "output_type": "stream",
          "text": [
            "100%|██████████| 212/212 [01:33<00:00,  2.27it/s]\n"
          ]
        },
        {
          "name": "stdout",
          "output_type": "stream",
          "text": [
            "Epoch 5: Cross-entropy: 1.8358\n"
          ]
        },
        {
          "name": "stderr",
          "output_type": "stream",
          "text": [
            "100%|██████████| 61/61 [00:07<00:00,  7.63it/s]\n"
          ]
        },
        {
          "name": "stdout",
          "output_type": "stream",
          "text": [
            "**BEST**Epoch 5: Validation Cross-entropy: 2.1676\n"
          ]
        },
        {
          "name": "stderr",
          "output_type": "stream",
          "text": [
            "100%|██████████| 212/212 [01:32<00:00,  2.30it/s]\n"
          ]
        },
        {
          "name": "stdout",
          "output_type": "stream",
          "text": [
            "Epoch 6: Cross-entropy: 1.7775\n"
          ]
        },
        {
          "name": "stderr",
          "output_type": "stream",
          "text": [
            "100%|██████████| 61/61 [00:07<00:00,  8.00it/s]\n"
          ]
        },
        {
          "name": "stdout",
          "output_type": "stream",
          "text": [
            "**BEST**Epoch 6: Validation Cross-entropy: 2.1660\n"
          ]
        },
        {
          "name": "stderr",
          "output_type": "stream",
          "text": [
            "100%|██████████| 212/212 [01:29<00:00,  2.37it/s]\n"
          ]
        },
        {
          "name": "stdout",
          "output_type": "stream",
          "text": [
            "Epoch 7: Cross-entropy: 1.7115\n"
          ]
        },
        {
          "name": "stderr",
          "output_type": "stream",
          "text": [
            "100%|██████████| 61/61 [00:07<00:00,  7.98it/s]\n"
          ]
        },
        {
          "name": "stdout",
          "output_type": "stream",
          "text": [
            "Epoch 7: Validation Cross-entropy: 2.1662\n"
          ]
        },
        {
          "name": "stderr",
          "output_type": "stream",
          "text": [
            "100%|██████████| 212/212 [01:29<00:00,  2.36it/s]\n"
          ]
        },
        {
          "name": "stdout",
          "output_type": "stream",
          "text": [
            "Epoch 8: Cross-entropy: 1.6550\n"
          ]
        },
        {
          "name": "stderr",
          "output_type": "stream",
          "text": [
            "100%|██████████| 61/61 [00:07<00:00,  7.71it/s]\n"
          ]
        },
        {
          "name": "stdout",
          "output_type": "stream",
          "text": [
            "**BEST**Epoch 8: Validation Cross-entropy: 2.1293\n"
          ]
        },
        {
          "name": "stderr",
          "output_type": "stream",
          "text": [
            "100%|██████████| 212/212 [01:31<00:00,  2.31it/s]\n"
          ]
        },
        {
          "name": "stdout",
          "output_type": "stream",
          "text": [
            "Epoch 9: Cross-entropy: 1.6035\n"
          ]
        },
        {
          "name": "stderr",
          "output_type": "stream",
          "text": [
            "100%|██████████| 61/61 [00:08<00:00,  7.62it/s]\n"
          ]
        },
        {
          "name": "stdout",
          "output_type": "stream",
          "text": [
            "**BEST**Epoch 9: Validation Cross-entropy: 2.0872\n"
          ]
        },
        {
          "name": "stderr",
          "output_type": "stream",
          "text": [
            "100%|██████████| 212/212 [01:33<00:00,  2.27it/s]\n"
          ]
        },
        {
          "name": "stdout",
          "output_type": "stream",
          "text": [
            "Epoch 10: Cross-entropy: 1.5670\n"
          ]
        },
        {
          "name": "stderr",
          "output_type": "stream",
          "text": [
            "100%|██████████| 61/61 [00:07<00:00,  7.63it/s]\n"
          ]
        },
        {
          "name": "stdout",
          "output_type": "stream",
          "text": [
            "**BEST**Epoch 10: Validation Cross-entropy: 2.0606\n"
          ]
        },
        {
          "name": "stderr",
          "output_type": "stream",
          "text": [
            "100%|██████████| 212/212 [01:33<00:00,  2.27it/s]\n"
          ]
        },
        {
          "name": "stdout",
          "output_type": "stream",
          "text": [
            "Epoch 11: Cross-entropy: 1.5262\n"
          ]
        },
        {
          "name": "stderr",
          "output_type": "stream",
          "text": [
            "100%|██████████| 61/61 [00:08<00:00,  7.62it/s]\n"
          ]
        },
        {
          "name": "stdout",
          "output_type": "stream",
          "text": [
            "**BEST**Epoch 11: Validation Cross-entropy: 2.0591\n"
          ]
        },
        {
          "name": "stderr",
          "output_type": "stream",
          "text": [
            "100%|██████████| 212/212 [01:33<00:00,  2.27it/s]\n"
          ]
        },
        {
          "name": "stdout",
          "output_type": "stream",
          "text": [
            "Epoch 12: Cross-entropy: 1.4940\n"
          ]
        },
        {
          "name": "stderr",
          "output_type": "stream",
          "text": [
            "100%|██████████| 61/61 [00:08<00:00,  7.62it/s]\n"
          ]
        },
        {
          "name": "stdout",
          "output_type": "stream",
          "text": [
            "**BEST**Epoch 12: Validation Cross-entropy: 2.0395\n"
          ]
        },
        {
          "name": "stderr",
          "output_type": "stream",
          "text": [
            "100%|██████████| 212/212 [01:33<00:00,  2.27it/s]\n"
          ]
        },
        {
          "name": "stdout",
          "output_type": "stream",
          "text": [
            "Epoch 13: Cross-entropy: 1.4479\n"
          ]
        },
        {
          "name": "stderr",
          "output_type": "stream",
          "text": [
            "100%|██████████| 61/61 [00:08<00:00,  7.62it/s]\n"
          ]
        },
        {
          "name": "stdout",
          "output_type": "stream",
          "text": [
            "Epoch 13: Validation Cross-entropy: 2.0866\n"
          ]
        },
        {
          "name": "stderr",
          "output_type": "stream",
          "text": [
            "100%|██████████| 212/212 [01:33<00:00,  2.26it/s]\n"
          ]
        },
        {
          "name": "stdout",
          "output_type": "stream",
          "text": [
            "Epoch 14: Cross-entropy: 1.4187\n"
          ]
        },
        {
          "name": "stderr",
          "output_type": "stream",
          "text": [
            "100%|██████████| 61/61 [00:08<00:00,  7.62it/s]\n"
          ]
        },
        {
          "name": "stdout",
          "output_type": "stream",
          "text": [
            "Epoch 14: Validation Cross-entropy: 2.0431\n"
          ]
        },
        {
          "name": "stderr",
          "output_type": "stream",
          "text": [
            "100%|██████████| 212/212 [01:33<00:00,  2.27it/s]\n"
          ]
        },
        {
          "name": "stdout",
          "output_type": "stream",
          "text": [
            "Epoch 15: Cross-entropy: 1.4012\n"
          ]
        },
        {
          "name": "stderr",
          "output_type": "stream",
          "text": [
            "100%|██████████| 61/61 [00:08<00:00,  7.62it/s]\n"
          ]
        },
        {
          "name": "stdout",
          "output_type": "stream",
          "text": [
            "Epoch 15: Validation Cross-entropy: 2.0544\n"
          ]
        },
        {
          "name": "stderr",
          "output_type": "stream",
          "text": [
            "100%|██████████| 212/212 [01:33<00:00,  2.26it/s]\n"
          ]
        },
        {
          "name": "stdout",
          "output_type": "stream",
          "text": [
            "Epoch 16: Cross-entropy: 1.3601\n"
          ]
        },
        {
          "name": "stderr",
          "output_type": "stream",
          "text": [
            "100%|██████████| 61/61 [00:08<00:00,  7.62it/s]\n"
          ]
        },
        {
          "name": "stdout",
          "output_type": "stream",
          "text": [
            "Epoch 16: Validation Cross-entropy: 2.0533\n"
          ]
        },
        {
          "name": "stderr",
          "output_type": "stream",
          "text": [
            "100%|██████████| 212/212 [01:33<00:00,  2.27it/s]\n"
          ]
        },
        {
          "name": "stdout",
          "output_type": "stream",
          "text": [
            "Epoch 17: Cross-entropy: 1.3426\n"
          ]
        },
        {
          "name": "stderr",
          "output_type": "stream",
          "text": [
            "100%|██████████| 61/61 [00:07<00:00,  7.64it/s]\n"
          ]
        },
        {
          "name": "stdout",
          "output_type": "stream",
          "text": [
            "Epoch 17: Validation Cross-entropy: 2.0992\n"
          ]
        },
        {
          "name": "stderr",
          "output_type": "stream",
          "text": [
            "100%|██████████| 212/212 [01:33<00:00,  2.26it/s]\n"
          ]
        },
        {
          "name": "stdout",
          "output_type": "stream",
          "text": [
            "Epoch 18: Cross-entropy: 1.3169\n"
          ]
        },
        {
          "name": "stderr",
          "output_type": "stream",
          "text": [
            "100%|██████████| 61/61 [00:07<00:00,  7.63it/s]\n"
          ]
        },
        {
          "name": "stdout",
          "output_type": "stream",
          "text": [
            "Epoch 18: Validation Cross-entropy: 2.0720\n"
          ]
        },
        {
          "name": "stderr",
          "output_type": "stream",
          "text": [
            "100%|██████████| 212/212 [01:33<00:00,  2.27it/s]\n"
          ]
        },
        {
          "name": "stdout",
          "output_type": "stream",
          "text": [
            "Epoch 19: Cross-entropy: 1.2814\n"
          ]
        },
        {
          "name": "stderr",
          "output_type": "stream",
          "text": [
            "100%|██████████| 61/61 [00:08<00:00,  7.62it/s]\n"
          ]
        },
        {
          "name": "stdout",
          "output_type": "stream",
          "text": [
            "Epoch 19: Validation Cross-entropy: 2.0408\n",
            "Done\n"
          ]
        },
        {
          "name": "stderr",
          "output_type": "stream",
          "text": [
            "100%|██████████| 212/212 [01:19<00:00,  2.67it/s]\n"
          ]
        },
        {
          "name": "stdout",
          "output_type": "stream",
          "text": [
            "Epoch 0: Cross-entropy: 2.7279\n"
          ]
        },
        {
          "name": "stderr",
          "output_type": "stream",
          "text": [
            "100%|██████████| 61/61 [00:07<00:00,  8.63it/s]\n"
          ]
        },
        {
          "name": "stdout",
          "output_type": "stream",
          "text": [
            "**BEST**Epoch 0: Validation Cross-entropy: 2.6620\n"
          ]
        },
        {
          "name": "stderr",
          "output_type": "stream",
          "text": [
            "100%|██████████| 212/212 [01:19<00:00,  2.66it/s]\n"
          ]
        },
        {
          "name": "stdout",
          "output_type": "stream",
          "text": [
            "Epoch 1: Cross-entropy: 2.1856\n"
          ]
        },
        {
          "name": "stderr",
          "output_type": "stream",
          "text": [
            "100%|██████████| 61/61 [00:07<00:00,  8.62it/s]\n"
          ]
        },
        {
          "name": "stdout",
          "output_type": "stream",
          "text": [
            "**BEST**Epoch 1: Validation Cross-entropy: 2.3716\n"
          ]
        },
        {
          "name": "stderr",
          "output_type": "stream",
          "text": [
            "100%|██████████| 212/212 [01:19<00:00,  2.67it/s]\n"
          ]
        },
        {
          "name": "stdout",
          "output_type": "stream",
          "text": [
            "Epoch 2: Cross-entropy: 1.8450\n"
          ]
        },
        {
          "name": "stderr",
          "output_type": "stream",
          "text": [
            "100%|██████████| 61/61 [00:07<00:00,  8.63it/s]\n"
          ]
        },
        {
          "name": "stdout",
          "output_type": "stream",
          "text": [
            "**BEST**Epoch 2: Validation Cross-entropy: 2.2049\n"
          ]
        },
        {
          "name": "stderr",
          "output_type": "stream",
          "text": [
            "100%|██████████| 212/212 [01:19<00:00,  2.67it/s]\n"
          ]
        },
        {
          "name": "stdout",
          "output_type": "stream",
          "text": [
            "Epoch 3: Cross-entropy: 1.6470\n"
          ]
        },
        {
          "name": "stderr",
          "output_type": "stream",
          "text": [
            "100%|██████████| 61/61 [00:07<00:00,  8.63it/s]\n"
          ]
        },
        {
          "name": "stdout",
          "output_type": "stream",
          "text": [
            "**BEST**Epoch 3: Validation Cross-entropy: 2.1400\n"
          ]
        },
        {
          "name": "stderr",
          "output_type": "stream",
          "text": [
            "100%|██████████| 212/212 [01:19<00:00,  2.67it/s]\n"
          ]
        },
        {
          "name": "stdout",
          "output_type": "stream",
          "text": [
            "Epoch 4: Cross-entropy: 1.5137\n"
          ]
        },
        {
          "name": "stderr",
          "output_type": "stream",
          "text": [
            "100%|██████████| 61/61 [00:07<00:00,  8.59it/s]\n"
          ]
        },
        {
          "name": "stdout",
          "output_type": "stream",
          "text": [
            "**BEST**Epoch 4: Validation Cross-entropy: 2.1231\n"
          ]
        },
        {
          "name": "stderr",
          "output_type": "stream",
          "text": [
            "100%|██████████| 212/212 [01:19<00:00,  2.67it/s]\n"
          ]
        },
        {
          "name": "stdout",
          "output_type": "stream",
          "text": [
            "Epoch 5: Cross-entropy: 1.4203\n"
          ]
        },
        {
          "name": "stderr",
          "output_type": "stream",
          "text": [
            "100%|██████████| 61/61 [00:07<00:00,  8.64it/s]\n"
          ]
        },
        {
          "name": "stdout",
          "output_type": "stream",
          "text": [
            "**BEST**Epoch 5: Validation Cross-entropy: 2.1175\n"
          ]
        },
        {
          "name": "stderr",
          "output_type": "stream",
          "text": [
            "100%|██████████| 212/212 [01:20<00:00,  2.65it/s]\n"
          ]
        },
        {
          "name": "stdout",
          "output_type": "stream",
          "text": [
            "Epoch 6: Cross-entropy: 1.3478\n"
          ]
        },
        {
          "name": "stderr",
          "output_type": "stream",
          "text": [
            "100%|██████████| 61/61 [00:07<00:00,  8.63it/s]\n"
          ]
        },
        {
          "name": "stdout",
          "output_type": "stream",
          "text": [
            "Epoch 6: Validation Cross-entropy: 2.1648\n"
          ]
        },
        {
          "name": "stderr",
          "output_type": "stream",
          "text": [
            "100%|██████████| 212/212 [01:20<00:00,  2.64it/s]\n"
          ]
        },
        {
          "name": "stdout",
          "output_type": "stream",
          "text": [
            "Epoch 7: Cross-entropy: 1.2822\n"
          ]
        },
        {
          "name": "stderr",
          "output_type": "stream",
          "text": [
            "100%|██████████| 61/61 [00:07<00:00,  8.56it/s]\n"
          ]
        },
        {
          "name": "stdout",
          "output_type": "stream",
          "text": [
            "Epoch 7: Validation Cross-entropy: 2.1608\n"
          ]
        },
        {
          "name": "stderr",
          "output_type": "stream",
          "text": [
            "100%|██████████| 212/212 [01:15<00:00,  2.80it/s]\n"
          ]
        },
        {
          "name": "stdout",
          "output_type": "stream",
          "text": [
            "Epoch 8: Cross-entropy: 1.2225\n"
          ]
        },
        {
          "name": "stderr",
          "output_type": "stream",
          "text": [
            "100%|██████████| 61/61 [00:06<00:00,  9.03it/s]\n"
          ]
        },
        {
          "name": "stdout",
          "output_type": "stream",
          "text": [
            "Epoch 8: Validation Cross-entropy: 2.2381\n"
          ]
        },
        {
          "name": "stderr",
          "output_type": "stream",
          "text": [
            "100%|██████████| 212/212 [01:15<00:00,  2.79it/s]\n"
          ]
        },
        {
          "name": "stdout",
          "output_type": "stream",
          "text": [
            "Epoch 9: Cross-entropy: 1.1636\n"
          ]
        },
        {
          "name": "stderr",
          "output_type": "stream",
          "text": [
            "100%|██████████| 61/61 [00:06<00:00,  9.03it/s]\n"
          ]
        },
        {
          "name": "stdout",
          "output_type": "stream",
          "text": [
            "Epoch 9: Validation Cross-entropy: 2.2571\n"
          ]
        },
        {
          "name": "stderr",
          "output_type": "stream",
          "text": [
            "100%|██████████| 212/212 [01:16<00:00,  2.77it/s]\n"
          ]
        },
        {
          "name": "stdout",
          "output_type": "stream",
          "text": [
            "Epoch 10: Cross-entropy: 1.1139\n"
          ]
        },
        {
          "name": "stderr",
          "output_type": "stream",
          "text": [
            "100%|██████████| 61/61 [00:06<00:00,  8.96it/s]\n"
          ]
        },
        {
          "name": "stdout",
          "output_type": "stream",
          "text": [
            "Epoch 10: Validation Cross-entropy: 2.2335\n"
          ]
        },
        {
          "name": "stderr",
          "output_type": "stream",
          "text": [
            "100%|██████████| 212/212 [01:16<00:00,  2.78it/s]\n"
          ]
        },
        {
          "name": "stdout",
          "output_type": "stream",
          "text": [
            "Epoch 11: Cross-entropy: 1.0796\n"
          ]
        },
        {
          "name": "stderr",
          "output_type": "stream",
          "text": [
            "100%|██████████| 61/61 [00:06<00:00,  8.99it/s]\n"
          ]
        },
        {
          "name": "stdout",
          "output_type": "stream",
          "text": [
            "Epoch 11: Validation Cross-entropy: 2.3434\n"
          ]
        },
        {
          "name": "stderr",
          "output_type": "stream",
          "text": [
            "100%|██████████| 212/212 [01:15<00:00,  2.80it/s]\n"
          ]
        },
        {
          "name": "stdout",
          "output_type": "stream",
          "text": [
            "Epoch 12: Cross-entropy: 1.0349\n"
          ]
        },
        {
          "name": "stderr",
          "output_type": "stream",
          "text": [
            "100%|██████████| 61/61 [00:06<00:00,  9.88it/s]\n"
          ]
        },
        {
          "name": "stdout",
          "output_type": "stream",
          "text": [
            "Epoch 12: Validation Cross-entropy: 2.3139\n"
          ]
        },
        {
          "name": "stderr",
          "output_type": "stream",
          "text": [
            "100%|██████████| 212/212 [01:08<00:00,  3.08it/s]\n"
          ]
        },
        {
          "name": "stdout",
          "output_type": "stream",
          "text": [
            "Epoch 13: Cross-entropy: 0.9900\n"
          ]
        },
        {
          "name": "stderr",
          "output_type": "stream",
          "text": [
            "100%|██████████| 61/61 [00:06<00:00,  9.87it/s]\n"
          ]
        },
        {
          "name": "stdout",
          "output_type": "stream",
          "text": [
            "Epoch 13: Validation Cross-entropy: 2.3317\n"
          ]
        },
        {
          "name": "stderr",
          "output_type": "stream",
          "text": [
            "100%|██████████| 212/212 [01:08<00:00,  3.08it/s]\n"
          ]
        },
        {
          "name": "stdout",
          "output_type": "stream",
          "text": [
            "Epoch 14: Cross-entropy: 0.9446\n"
          ]
        },
        {
          "name": "stderr",
          "output_type": "stream",
          "text": [
            "100%|██████████| 61/61 [00:06<00:00,  9.88it/s]\n"
          ]
        },
        {
          "name": "stdout",
          "output_type": "stream",
          "text": [
            "Epoch 14: Validation Cross-entropy: 2.4514\n"
          ]
        },
        {
          "name": "stderr",
          "output_type": "stream",
          "text": [
            "100%|██████████| 212/212 [01:08<00:00,  3.08it/s]\n"
          ]
        },
        {
          "name": "stdout",
          "output_type": "stream",
          "text": [
            "Epoch 15: Cross-entropy: 0.9146\n"
          ]
        },
        {
          "name": "stderr",
          "output_type": "stream",
          "text": [
            "100%|██████████| 61/61 [00:06<00:00,  9.86it/s]\n"
          ]
        },
        {
          "name": "stdout",
          "output_type": "stream",
          "text": [
            "Epoch 15: Validation Cross-entropy: 2.4039\n"
          ]
        },
        {
          "name": "stderr",
          "output_type": "stream",
          "text": [
            "100%|██████████| 212/212 [01:08<00:00,  3.08it/s]\n"
          ]
        },
        {
          "name": "stdout",
          "output_type": "stream",
          "text": [
            "Epoch 16: Cross-entropy: 0.8743\n"
          ]
        },
        {
          "name": "stderr",
          "output_type": "stream",
          "text": [
            "100%|██████████| 61/61 [00:06<00:00,  9.86it/s]\n"
          ]
        },
        {
          "name": "stdout",
          "output_type": "stream",
          "text": [
            "Epoch 16: Validation Cross-entropy: 2.5004\n"
          ]
        },
        {
          "name": "stderr",
          "output_type": "stream",
          "text": [
            "100%|██████████| 212/212 [01:08<00:00,  3.08it/s]\n"
          ]
        },
        {
          "name": "stdout",
          "output_type": "stream",
          "text": [
            "Epoch 17: Cross-entropy: 0.8423\n"
          ]
        },
        {
          "name": "stderr",
          "output_type": "stream",
          "text": [
            "100%|██████████| 61/61 [00:06<00:00,  9.86it/s]\n"
          ]
        },
        {
          "name": "stdout",
          "output_type": "stream",
          "text": [
            "Epoch 17: Validation Cross-entropy: 2.5286\n"
          ]
        },
        {
          "name": "stderr",
          "output_type": "stream",
          "text": [
            "100%|██████████| 212/212 [01:08<00:00,  3.08it/s]\n"
          ]
        },
        {
          "name": "stdout",
          "output_type": "stream",
          "text": [
            "Epoch 18: Cross-entropy: 0.8055\n"
          ]
        },
        {
          "name": "stderr",
          "output_type": "stream",
          "text": [
            "100%|██████████| 61/61 [00:06<00:00,  9.88it/s]\n"
          ]
        },
        {
          "name": "stdout",
          "output_type": "stream",
          "text": [
            "Epoch 18: Validation Cross-entropy: 2.5964\n"
          ]
        },
        {
          "name": "stderr",
          "output_type": "stream",
          "text": [
            "100%|██████████| 212/212 [01:08<00:00,  3.08it/s]\n"
          ]
        },
        {
          "name": "stdout",
          "output_type": "stream",
          "text": [
            "Epoch 19: Cross-entropy: 0.7747\n"
          ]
        },
        {
          "name": "stderr",
          "output_type": "stream",
          "text": [
            "100%|██████████| 61/61 [00:06<00:00,  9.87it/s]\n"
          ]
        },
        {
          "name": "stdout",
          "output_type": "stream",
          "text": [
            "Epoch 19: Validation Cross-entropy: 2.6449\n",
            "Done\n"
          ]
        },
        {
          "name": "stderr",
          "output_type": "stream",
          "text": [
            "100%|██████████| 212/212 [00:25<00:00,  8.24it/s]\n"
          ]
        },
        {
          "name": "stdout",
          "output_type": "stream",
          "text": [
            "Epoch 0: Cross-entropy: 2.9401\n"
          ]
        },
        {
          "name": "stderr",
          "output_type": "stream",
          "text": [
            "100%|██████████| 61/61 [00:02<00:00, 26.52it/s]\n"
          ]
        },
        {
          "name": "stdout",
          "output_type": "stream",
          "text": [
            "**BEST**Epoch 0: Validation Cross-entropy: 2.8762\n"
          ]
        },
        {
          "name": "stderr",
          "output_type": "stream",
          "text": [
            "100%|██████████| 212/212 [00:25<00:00,  8.23it/s]\n"
          ]
        },
        {
          "name": "stdout",
          "output_type": "stream",
          "text": [
            "Epoch 1: Cross-entropy: 2.8192\n"
          ]
        },
        {
          "name": "stderr",
          "output_type": "stream",
          "text": [
            "100%|██████████| 61/61 [00:02<00:00, 26.41it/s]\n"
          ]
        },
        {
          "name": "stdout",
          "output_type": "stream",
          "text": [
            "**BEST**Epoch 1: Validation Cross-entropy: 2.8601\n"
          ]
        },
        {
          "name": "stderr",
          "output_type": "stream",
          "text": [
            "100%|██████████| 212/212 [00:25<00:00,  8.24it/s]\n"
          ]
        },
        {
          "name": "stdout",
          "output_type": "stream",
          "text": [
            "Epoch 2: Cross-entropy: 2.6632\n"
          ]
        },
        {
          "name": "stderr",
          "output_type": "stream",
          "text": [
            "100%|██████████| 61/61 [00:02<00:00, 26.51it/s]\n"
          ]
        },
        {
          "name": "stdout",
          "output_type": "stream",
          "text": [
            "**BEST**Epoch 2: Validation Cross-entropy: 2.7599\n"
          ]
        },
        {
          "name": "stderr",
          "output_type": "stream",
          "text": [
            "100%|██████████| 212/212 [00:25<00:00,  8.26it/s]\n"
          ]
        },
        {
          "name": "stdout",
          "output_type": "stream",
          "text": [
            "Epoch 3: Cross-entropy: 2.5913\n"
          ]
        },
        {
          "name": "stderr",
          "output_type": "stream",
          "text": [
            "100%|██████████| 61/61 [00:02<00:00, 26.57it/s]\n"
          ]
        },
        {
          "name": "stdout",
          "output_type": "stream",
          "text": [
            "**BEST**Epoch 3: Validation Cross-entropy: 2.7357\n"
          ]
        },
        {
          "name": "stderr",
          "output_type": "stream",
          "text": [
            "100%|██████████| 212/212 [00:25<00:00,  8.28it/s]\n"
          ]
        },
        {
          "name": "stdout",
          "output_type": "stream",
          "text": [
            "Epoch 4: Cross-entropy: 2.5884\n"
          ]
        },
        {
          "name": "stderr",
          "output_type": "stream",
          "text": [
            "100%|██████████| 61/61 [00:02<00:00, 26.57it/s]\n"
          ]
        },
        {
          "name": "stdout",
          "output_type": "stream",
          "text": [
            "**BEST**Epoch 4: Validation Cross-entropy: 2.7177\n"
          ]
        },
        {
          "name": "stderr",
          "output_type": "stream",
          "text": [
            "100%|██████████| 212/212 [00:25<00:00,  8.30it/s]\n"
          ]
        },
        {
          "name": "stdout",
          "output_type": "stream",
          "text": [
            "Epoch 5: Cross-entropy: 2.5480\n"
          ]
        },
        {
          "name": "stderr",
          "output_type": "stream",
          "text": [
            "100%|██████████| 61/61 [00:02<00:00, 26.64it/s]\n"
          ]
        },
        {
          "name": "stdout",
          "output_type": "stream",
          "text": [
            "**BEST**Epoch 5: Validation Cross-entropy: 2.6962\n"
          ]
        },
        {
          "name": "stderr",
          "output_type": "stream",
          "text": [
            "100%|██████████| 212/212 [00:25<00:00,  8.31it/s]\n"
          ]
        },
        {
          "name": "stdout",
          "output_type": "stream",
          "text": [
            "Epoch 6: Cross-entropy: 2.5107\n"
          ]
        },
        {
          "name": "stderr",
          "output_type": "stream",
          "text": [
            "100%|██████████| 61/61 [00:02<00:00, 26.59it/s]\n"
          ]
        },
        {
          "name": "stdout",
          "output_type": "stream",
          "text": [
            "**BEST**Epoch 6: Validation Cross-entropy: 2.6392\n"
          ]
        },
        {
          "name": "stderr",
          "output_type": "stream",
          "text": [
            "100%|██████████| 212/212 [00:25<00:00,  8.32it/s]\n"
          ]
        },
        {
          "name": "stdout",
          "output_type": "stream",
          "text": [
            "Epoch 7: Cross-entropy: 2.4932\n"
          ]
        },
        {
          "name": "stderr",
          "output_type": "stream",
          "text": [
            "100%|██████████| 61/61 [00:02<00:00, 26.62it/s]\n"
          ]
        },
        {
          "name": "stdout",
          "output_type": "stream",
          "text": [
            "Epoch 7: Validation Cross-entropy: 2.6505\n"
          ]
        },
        {
          "name": "stderr",
          "output_type": "stream",
          "text": [
            "100%|██████████| 212/212 [00:25<00:00,  8.32it/s]\n"
          ]
        },
        {
          "name": "stdout",
          "output_type": "stream",
          "text": [
            "Epoch 8: Cross-entropy: 2.4558\n"
          ]
        },
        {
          "name": "stderr",
          "output_type": "stream",
          "text": [
            "100%|██████████| 61/61 [00:02<00:00, 26.60it/s]\n"
          ]
        },
        {
          "name": "stdout",
          "output_type": "stream",
          "text": [
            "**BEST**Epoch 8: Validation Cross-entropy: 2.5998\n"
          ]
        },
        {
          "name": "stderr",
          "output_type": "stream",
          "text": [
            "100%|██████████| 212/212 [00:25<00:00,  8.31it/s]\n"
          ]
        },
        {
          "name": "stdout",
          "output_type": "stream",
          "text": [
            "Epoch 9: Cross-entropy: 2.4070\n"
          ]
        },
        {
          "name": "stderr",
          "output_type": "stream",
          "text": [
            "100%|██████████| 61/61 [00:02<00:00, 26.56it/s]\n"
          ]
        },
        {
          "name": "stdout",
          "output_type": "stream",
          "text": [
            "**BEST**Epoch 9: Validation Cross-entropy: 2.5787\n"
          ]
        },
        {
          "name": "stderr",
          "output_type": "stream",
          "text": [
            "100%|██████████| 212/212 [00:25<00:00,  8.31it/s]\n"
          ]
        },
        {
          "name": "stdout",
          "output_type": "stream",
          "text": [
            "Epoch 10: Cross-entropy: 2.3713\n"
          ]
        },
        {
          "name": "stderr",
          "output_type": "stream",
          "text": [
            "100%|██████████| 61/61 [00:02<00:00, 26.58it/s]\n"
          ]
        },
        {
          "name": "stdout",
          "output_type": "stream",
          "text": [
            "**BEST**Epoch 10: Validation Cross-entropy: 2.5395\n"
          ]
        },
        {
          "name": "stderr",
          "output_type": "stream",
          "text": [
            "100%|██████████| 212/212 [00:25<00:00,  8.32it/s]\n"
          ]
        },
        {
          "name": "stdout",
          "output_type": "stream",
          "text": [
            "Epoch 11: Cross-entropy: 2.3538\n"
          ]
        },
        {
          "name": "stderr",
          "output_type": "stream",
          "text": [
            "100%|██████████| 61/61 [00:02<00:00, 26.63it/s]\n"
          ]
        },
        {
          "name": "stdout",
          "output_type": "stream",
          "text": [
            "**BEST**Epoch 11: Validation Cross-entropy: 2.4999\n"
          ]
        },
        {
          "name": "stderr",
          "output_type": "stream",
          "text": [
            "100%|██████████| 212/212 [00:25<00:00,  8.33it/s]\n"
          ]
        },
        {
          "name": "stdout",
          "output_type": "stream",
          "text": [
            "Epoch 12: Cross-entropy: 2.3112\n"
          ]
        },
        {
          "name": "stderr",
          "output_type": "stream",
          "text": [
            "100%|██████████| 61/61 [00:02<00:00, 26.60it/s]\n"
          ]
        },
        {
          "name": "stdout",
          "output_type": "stream",
          "text": [
            "Epoch 12: Validation Cross-entropy: 2.5179\n"
          ]
        },
        {
          "name": "stderr",
          "output_type": "stream",
          "text": [
            "100%|██████████| 212/212 [00:25<00:00,  8.34it/s]\n"
          ]
        },
        {
          "name": "stdout",
          "output_type": "stream",
          "text": [
            "Epoch 13: Cross-entropy: 2.2524\n"
          ]
        },
        {
          "name": "stderr",
          "output_type": "stream",
          "text": [
            "100%|██████████| 61/61 [00:02<00:00, 26.61it/s]\n"
          ]
        },
        {
          "name": "stdout",
          "output_type": "stream",
          "text": [
            "**BEST**Epoch 13: Validation Cross-entropy: 2.4865\n"
          ]
        },
        {
          "name": "stderr",
          "output_type": "stream",
          "text": [
            "100%|██████████| 212/212 [00:25<00:00,  8.33it/s]\n"
          ]
        },
        {
          "name": "stdout",
          "output_type": "stream",
          "text": [
            "Epoch 14: Cross-entropy: 2.2114\n"
          ]
        },
        {
          "name": "stderr",
          "output_type": "stream",
          "text": [
            "100%|██████████| 61/61 [00:02<00:00, 26.53it/s]\n"
          ]
        },
        {
          "name": "stdout",
          "output_type": "stream",
          "text": [
            "**BEST**Epoch 14: Validation Cross-entropy: 2.4402\n"
          ]
        },
        {
          "name": "stderr",
          "output_type": "stream",
          "text": [
            "100%|██████████| 212/212 [00:25<00:00,  8.34it/s]\n"
          ]
        },
        {
          "name": "stdout",
          "output_type": "stream",
          "text": [
            "Epoch 15: Cross-entropy: 2.1629\n"
          ]
        },
        {
          "name": "stderr",
          "output_type": "stream",
          "text": [
            "100%|██████████| 61/61 [00:02<00:00, 26.65it/s]\n"
          ]
        },
        {
          "name": "stdout",
          "output_type": "stream",
          "text": [
            "**BEST**Epoch 15: Validation Cross-entropy: 2.3884\n"
          ]
        },
        {
          "name": "stderr",
          "output_type": "stream",
          "text": [
            "100%|██████████| 212/212 [00:25<00:00,  8.34it/s]\n"
          ]
        },
        {
          "name": "stdout",
          "output_type": "stream",
          "text": [
            "Epoch 16: Cross-entropy: 2.1634\n"
          ]
        },
        {
          "name": "stderr",
          "output_type": "stream",
          "text": [
            "100%|██████████| 61/61 [00:02<00:00, 26.63it/s]\n"
          ]
        },
        {
          "name": "stdout",
          "output_type": "stream",
          "text": [
            "**BEST**Epoch 16: Validation Cross-entropy: 2.3799\n"
          ]
        },
        {
          "name": "stderr",
          "output_type": "stream",
          "text": [
            "100%|██████████| 212/212 [00:25<00:00,  8.34it/s]\n"
          ]
        },
        {
          "name": "stdout",
          "output_type": "stream",
          "text": [
            "Epoch 17: Cross-entropy: 2.1300\n"
          ]
        },
        {
          "name": "stderr",
          "output_type": "stream",
          "text": [
            "100%|██████████| 61/61 [00:02<00:00, 26.47it/s]\n"
          ]
        },
        {
          "name": "stdout",
          "output_type": "stream",
          "text": [
            "Epoch 17: Validation Cross-entropy: 2.3832\n"
          ]
        },
        {
          "name": "stderr",
          "output_type": "stream",
          "text": [
            "100%|██████████| 212/212 [00:25<00:00,  8.34it/s]\n"
          ]
        },
        {
          "name": "stdout",
          "output_type": "stream",
          "text": [
            "Epoch 18: Cross-entropy: 2.1054\n"
          ]
        },
        {
          "name": "stderr",
          "output_type": "stream",
          "text": [
            "100%|██████████| 61/61 [00:02<00:00, 26.53it/s]\n"
          ]
        },
        {
          "name": "stdout",
          "output_type": "stream",
          "text": [
            "**BEST**Epoch 18: Validation Cross-entropy: 2.3732\n"
          ]
        },
        {
          "name": "stderr",
          "output_type": "stream",
          "text": [
            "100%|██████████| 212/212 [00:25<00:00,  8.32it/s]\n"
          ]
        },
        {
          "name": "stdout",
          "output_type": "stream",
          "text": [
            "Epoch 19: Cross-entropy: 2.0980\n"
          ]
        },
        {
          "name": "stderr",
          "output_type": "stream",
          "text": [
            "100%|██████████| 61/61 [00:02<00:00, 26.51it/s]\n"
          ]
        },
        {
          "name": "stdout",
          "output_type": "stream",
          "text": [
            "**BEST**Epoch 19: Validation Cross-entropy: 2.3410\n",
            "Done\n"
          ]
        }
      ],
      "source": [
        "\n",
        "n_epochs = 20  \n",
        "batch_size = 512  \n",
        "\n",
        "loader_train = data.DataLoader(\n",
        "    data.TensorDataset(X_train, y_train), \n",
        "    shuffle=True,  \n",
        "    batch_size=batch_size  \n",
        ")\n",
        "\n",
        "\n",
        "loader_test = data.DataLoader(\n",
        "    data.TensorDataset(X_test, y_test),\n",
        "    shuffle=False,  \n",
        "    batch_size=batch_size  \n",
        ")\n",
        "\n",
        "\n",
        "model = CharModelBiLSTM(n_vocab).to(device)\n",
        "model.to(device)\n",
        "train(model, optim.Adam(model.parameters(), lr=0.001, weight_decay=1e-5), nn.CrossEntropyLoss(), n_epochs, loader_train, loader_test, \"lstm\")\n",
        "del model\n",
        "torch.cuda.empty_cache()\n",
        "torch.cuda.synchronize()\n",
        "\n",
        "\n",
        "model = CharModelGRU(n_vocab).to(device)\n",
        "model.to(device)\n",
        "train(model, optim.Adam(model.parameters(), lr=0.001, weight_decay=1e-5), nn.CrossEntropyLoss(), n_epochs, loader_train, loader_test, \"gru\")\n",
        "del model   \n",
        "torch.cuda.empty_cache()\n",
        "torch.cuda.synchronize()\n",
        "\n",
        "\n",
        "model = CharModelRNN(n_vocab).to(device)\n",
        "model.to(device)\n",
        "train(model, optim.Adam(model.parameters(), lr=0.001, weight_decay=1e-5), nn.CrossEntropyLoss(), n_epochs, loader_train, loader_test, \"rnn\")\n",
        "del model\n",
        "torch.cuda.empty_cache()\n",
        "torch.cuda.synchronize()"
      ]
    },
    {
      "cell_type": "markdown",
      "metadata": {
        "id": "6jcagT63bbth"
      },
      "source": [
        "3. Generate text with the model\n"
      ]
    },
    {
      "cell_type": "code",
      "execution_count": 19,
      "metadata": {
        "id": "c61EamyNag19"
      },
      "outputs": [
        {
          "name": "stdout",
          "output_type": "stream",
          "text": [
            "Sequence 43567\n",
            "\tPrompt: \"up to rest herself and fanned herself with one of the leaves i should have liked teaching it tricks \"\n",
            "\tGenerated: and the words did not get close to her to see the lock turtle and held it all round the lory and then and then round it a caucusrace was talking to a seasonable pace of the lomy  as she went on in the said to herself if one only alice began to see this she went bother she knew the others  to her about it and the sest of the lobsters and then said the king and dont be an old cone with the dormouse and four times severely i said the hatter  it executes noticed alice and some of the bottom of a wel\n",
            "\n",
            "Sequence 117952\n",
            "\tPrompt: \"hispered in reply for fear they should forget them before the end of the trial  stupid things alice \"\n",
            "\tGenerated: i knew when i got tp see if she added as all the pigeon in the distance  and yet i wish i had of them at last the gryphon  i never heard of sule and to on one who was pales the duchess did and broke to them and then the rest of the loral of the sabbit in the same with she gent that it might be so say it out loud to lake out it out lose nore  as for the duchess said alice  i havent the end of the garden the rest of the whole party wery soon found it advisable to get us drawling to alice  well i n\n",
            "\n",
            "Sequence 152315\n",
            "\tPrompt: \" of public domain and licensed works that can be freely distributed in machinereadable form accessib\"\n",
            "\tGenerated: n before she had got it was so lany long to go down on one knee im the way out of the court and the march hare interrupted the gryphon in a great many tee so she said to herself i cant tell you might jus no rore i once  tpeak again so very said the duchess and the party so ray added the gryphon  i never heard before she said to herself its ro ill sell you my dear it it  i didnt know that said the duchess and the party so say it offended to far thought alice i must go but she did not like to alic\n",
            "\n",
            "Sequence 95939\n",
            "\tPrompt: \"y i dont put my arm round your waist the duchess said after a pause the reason is that im doubtful a\"\n",
            "\tGenerated: bout the first day or ready to make out at all do so she felt very gravely what i eat one of the window  the words  i said if speed to find her woice what did they live at the bottom of a well  take some of the ground not tell her french lessonbook tone of the court  no i didnt know that you would not could not would not all came dispu it to see that it made you said the caterpillar  alice noticed thats the mock turtle in the distance and the room went in the distance and afgan sather a complain\n",
            "\n",
            "Sequence 97639\n",
            "\tPrompt: \"ng again the duchess asked with another dig of her sharp little chin  ive a right to think said alic\"\n",
            "\tGenerated: e  why she said this she came up to them she was looking at the wood if it all crowded round her chin in a seally goodofos see said the caterpillar  im one flappers and the lory with i hadnt begun with theyd gave to do it one said the caterpillar and they saw the hookah into its face with fur in growing one foot ge i dont think of it  there is move till she had alrog the gryphon  then you know  the hatter went on i must go any did you say the first voice and the sest of the court  no and did not\n",
            "\n",
            "Sequence 41993\n",
            "\tPrompt: \"e her look up in a great hurry  an enormous puppy was looking down at her with large round eyes and \"\n",
            "\tGenerated: managed to find that it was a very decided tone terre the dormouse sharply and the tense and the queen was sitting one of the sopew of a pairs of the game  the queen was sitting off together alice so often of his great or smeezing  the things below a rerpent said alice a good deal on the sea but shey uell in the gryphon  i never heard before she said to herself as she went on in a ritill lost all many goot in the wood if it at all do you want a clean sone severely the cats head began for ruch a \n",
            "\n",
            "Sequence 122579\n",
            "\tPrompt: \"atter  i deny it said the march hare  he denies it said the king leave out that part  well at any ra\"\n",
            "\tGenerated: te the gryphon  i never heard of sobs some of the birds with the bright began for inso it to granc crossed the gryphon said in a good deal frowing near the house for a rorr of little pebbles came rmanl  but the same side of the gloves and barking of find her elamingo she had jn the distance  come on the birds to a day or use dinished the gryphon  then you said the caterpillar  alice said nothing  lice i shall seem the caterpillar  not i said the caterpillar  well i never heard of some of the sea\n",
            "\n",
            "Sequence 86293\n",
            "\tPrompt: \" hush said the rabbit in a low hurried tone he looked anxiously over his shoulder as he spoke and th\"\n",
            "\tGenerated: e dormouse and word its nose     and delight was the caterpillar and the other birds and being so she said to herself the cheshire cat she went in time  to alice began by this time she went so but all at all do as the went in without looking a bomion in the said to herself and shouting its eyes for it was jus no saying to her to said the caterpillar and the gryphon replied in a ping  in my jittle birds and she was now about it in a dear little puppy with one of the last were sead as this could n\n",
            "\n",
            "Sequence 112420\n",
            "\tPrompt: \"ver alice  stand up and repeat tis the voice of the sluggard said the gryphon  how the creatures ord\"\n",
            "\tGenerated: er of breadandbutter  jus a griend of mittle bat looked at all he koow who is this she was beginning to grave and she went on in a great letter no time so a bright and both said the rest of the court  alice could see it to a fryphon  i beg you pay it i suppose you know  it was the sight said the caterpillar  alice looked up and said nothing else     chapter vii a dispu ten would go round and sound it at all compled it all the same thing as i got so see it tried to see it tried to see it tried th\n",
            "\n",
            "Sequence 48600\n",
            "\tPrompt: \"such stuff     be off or ill kick you down stairs   that is not said right said the caterpillar  not\"\n",
            "\tGenerated:  i said the caterpillar and the gryphon  i never went on in a dew minutes and being so get to said the caterpillar and they saw alice said to herself as she went on in a great hurry and the rest of the words did not get one only seem to grow up and by the stick and the three gardeners were seen to find that it makes is so offer it was over and the sest of the lory with it was said as you are said the king and the queen was in such a sule and so line herself and feet as the said to herself why it\n",
            "\n",
            "Done\n"
          ]
        }
      ],
      "source": [
        "import numpy as np\n",
        "import torch\n",
        "import torch.nn as nn\n",
        "from torch.nn import functional as F\n",
        "\n",
        "# Load the best model and character mapping dictionary\n",
        "model = CharModelGRU(n_vocab)\n",
        "best_model, char_to_int = torch.load(\"last_gru.pth\")\n",
        "temperature = 0.5\n",
        "n_vocab = len(char_to_int)\n",
        "\n",
        "# Create a dictionary for converting integer indices back to characters\n",
        "int_to_char = dict((i, c) for c, i in char_to_int.items())\n",
        "\n",
        "\n",
        "model.load_state_dict(best_model)\n",
        "model.to(device)\n",
        "\n",
        "np.random.seed(0)\n",
        "starts = np.random.randint(0, len(raw_text)-seq_length, 10)\n",
        "\n",
        "model.eval()\n",
        "\n",
        "\n",
        "for s in starts:\n",
        "  prompt = raw_text[s:s+seq_length]\n",
        "  pattern = [char_to_int[c] for c in prompt]\n",
        "\n",
        "  print(f\"Sequence {s}\")\n",
        "  print('\\tPrompt: \"%s\"' % prompt)\n",
        "  print(\"\\tGenerated: \", end=\"\")\n",
        "  softmax = nn.Softmax(dim=1)\n",
        "\n",
        "  with torch.no_grad():  # Disable gradient calculation for efficiency\n",
        "    for i in range(500):\n",
        "      x = np.reshape(pattern, (1, len(pattern), 1)) / float(n_vocab)\n",
        "      x = torch.tensor(x, dtype=torch.float32)\n",
        "      x = x.to(device)\n",
        "      \n",
        "      prediction = model(x)\n",
        "      prediction = prediction / temperature\n",
        "      \n",
        "      probabilities = F.softmax(prediction, dim=-1)\n",
        "      sample = torch.multinomial(probabilities, num_samples=1)\n",
        "      index = sample.item()\n",
        "      \n",
        "      #index = int(prediction.argmax())\n",
        "      result = int_to_char[index]\n",
        "\n",
        "      # Print the generated character\n",
        "      print(result, end=\"\")\n",
        "\n",
        "      # Update the pattern for the next iteration:\n",
        "      #   - Append the predicted character index to the pattern list\n",
        "      #   - Slice the pattern list to keep the most recent sequence length characters\n",
        "      pattern.append(index)\n",
        "      pattern = pattern[1:]\n",
        "  print(\"\\n\")\n",
        "print(\"Done\")"
      ]
    },
    {
      "cell_type": "markdown",
      "metadata": {
        "id": "HS7QvAs5Y2Wu"
      },
      "source": [
        "**ASSIGNMENT**\n",
        "\n",
        "Modify the LSTM network with [RNN or GRU](https://pytorch.org/docs/stable/nn.html#recurrent-layers)  and analyze the results exploring variations in the number of layers, hidden state dimensions, dropout rates, and other relevant parameters."
      ]
    },
    {
      "cell_type": "code",
      "execution_count": 24,
      "metadata": {},
      "outputs": [],
      "source": [
        "# save the dicts:\n",
        "import pickle\n",
        "\n",
        "# load the dicts\n",
        "\n",
        "val_loss_pickle_lstm = pickle.load(open(\"val_lstm_losses.pkl\", \"rb\"))\n",
        "train_loss_pickle_lstm = pickle.load(open(\"train_lstm_losses.pkl\", \"rb\"))\n",
        "val_loss_pickle_gru = pickle.load(open(\"val_gru_losses.pkl\", \"rb\")) \n",
        "train_loss_pickle_gru = pickle.load(open(\"train_gru_losses.pkl\", \"rb\"))\n",
        "val_loss_pickle_rnn = pickle.load(open(\"val_rnn_losses.pkl\", \"rb\"))\n",
        "train_loss_pickle_rnn = pickle.load(open(\"train_rnn_losses.pkl\", \"rb\"))"
      ]
    },
    {
      "cell_type": "code",
      "execution_count": 26,
      "metadata": {},
      "outputs": [
        {
          "data": {
            "image/png": "[encoded data removed]",
            "text/plain": [
              "<Figure size 1000x500 with 1 Axes>"
            ]
          },
          "metadata": {},
          "output_type": "display_data"
        },
        {
          "data": {
            "image/png": "[encoded data removed]",
            "text/plain": [
              "<Figure size 1000x500 with 1 Axes>"
            ]
          },
          "metadata": {},
          "output_type": "display_data"
        }
      ],
      "source": [
        "import matplotlib.pyplot as plt\n",
        "\n",
        "plt.figure(figsize=(10, 5))\n",
        "plt.plot(val_loss_pickle_lstm, label=\"Validation LSTM\")\n",
        "plt.plot(val_loss_pickle_gru, label=\"Validation GRU\")\n",
        "plt.plot(val_loss_pickle_rnn, label=\"Validation RNN\")\n",
        "plt.xlabel(\"Batch\")\n",
        "plt.ylabel(\"Loss\")\n",
        "plt.legend()\n",
        "\n",
        "plt.figure(figsize=(10, 5))\n",
        "plt.plot(train_loss_pickle_lstm, label=\"Train LSTM\")\n",
        "plt.plot(train_loss_pickle_gru, label=\"Train GRU\")\n",
        "plt.plot(train_loss_pickle_rnn, label=\"Train RNN\")\n",
        "plt.xlabel(\"Batch\")\n",
        "plt.ylabel(\"Loss\")\n",
        "plt.legend()\n",
        "\n",
        "plt.show()"
      ]
    },
    {
      "cell_type": "code",
      "execution_count": 45,
      "metadata": {},
      "outputs": [
        {
          "name": "stdout",
          "output_type": "stream",
          "text": [
            "----------------------------------------------------------------\n",
            "        Layer (type)               Output Shape         Param #\n",
            "================================================================\n",
            "               GRU-1  [[-1, 1, 1024], [-1, 2, 512]]               0\n",
            "            Linear-2                   [-1, 27]          27,675\n",
            "================================================================\n",
            "Total params: 27,675\n",
            "Trainable params: 27,675\n",
            "Non-trainable params: 0\n",
            "----------------------------------------------------------------\n",
            "Input size (MB): 0.00\n",
            "Forward/backward pass size (MB): 8.00\n",
            "Params size (MB): 0.11\n",
            "Estimated Total Size (MB): 8.11\n",
            "----------------------------------------------------------------\n",
            "----------------------------------------------------------------\n",
            "        Layer (type)               Output Shape         Param #\n",
            "================================================================\n",
            "               RNN-1  [[-1, 1, 1024], [-1, 2, 512]]               0\n",
            "            Linear-2                   [-1, 27]          27,675\n",
            "================================================================\n",
            "Total params: 27,675\n",
            "Trainable params: 27,675\n",
            "Non-trainable params: 0\n",
            "----------------------------------------------------------------\n",
            "Input size (MB): 0.00\n",
            "Forward/backward pass size (MB): 8.00\n",
            "Params size (MB): 0.11\n",
            "Estimated Total Size (MB): 8.11\n",
            "----------------------------------------------------------------\n"
          ]
        }
      ],
      "source": [
        "from torchsummary import summary\n",
        "\n",
        "gru = CharModelGRU(n_vocab).to(device)\n",
        "summary(gru, input_size=(1,1));\n",
        "\n",
        "rnn = CharModelRNN(n_vocab).to(device)\n",
        "summary(rnn, input_size=(1,1));\n",
        "\n",
        "bilstm = CharModelBiLSTM(n_vocab).to(device)\n",
        "#summary(bilstm, input_size=(1,1));"
      ]
    },
    {
      "cell_type": "code",
      "execution_count": 46,
      "metadata": {},
      "outputs": [],
      "source": [
        "def generate_text(model, raw_text, char_to_int, int_to_char, seq_length, num_predictions, prediction_length, temperature=0.5, random_seed=None):\n",
        "  if random_seed is not None: np.random.seed(random_seed)\n",
        "  starts = np.random.randint(0, len(raw_text)-seq_length, num_predictions)\n",
        "\n",
        "  model.eval()\n",
        "  results = []\n",
        "  pbar = tqdm(starts, desc=f\"{model.__class__.__name__} | Generating {num_predictions} sequences\")\n",
        "\n",
        "  for s in starts:\n",
        "    prompt = raw_text[s:s+seq_length]\n",
        "    pattern = [char_to_int[c] for c in prompt]\n",
        "    softmax = nn.Softmax(dim=1)\n",
        "    buffer = \"\"\n",
        "    with torch.no_grad():\n",
        "      for i in range(prediction_length):\n",
        "        x = np.reshape(pattern, (1, len(pattern), 1)) / float(n_vocab)\n",
        "        x = torch.tensor(x, dtype=torch.float32)\n",
        "        x = x.to(device)\n",
        "        \n",
        "        prediction = model(x)\n",
        "        prediction = prediction / temperature\n",
        "        \n",
        "        probabilities = F.softmax(prediction, dim=-1)\n",
        "        sample = torch.multinomial(probabilities, num_samples=1)\n",
        "        index = sample.item()\n",
        "\n",
        "        buffer += int_to_char[index]\n",
        "        # print(int_to_char[index], end=\"\")\n",
        "        pattern.append(index)\n",
        "        pattern = pattern[1:]\n",
        "\n",
        "    results.append(buffer)\n",
        "    pbar.update(1)\n",
        "\n",
        "  return results"
      ]
    },
    {
      "cell_type": "code",
      "execution_count": 51,
      "metadata": {},
      "outputs": [
        {
          "name": "stderr",
          "output_type": "stream",
          "text": [
            "CharModelBiLSTM | Generating 100 sequences: 100%|██████████| 100/100 [05:57<00:00,  3.58s/it]\n",
            "CharModelGRU | Generating 100 sequences: 100%|██████████| 100/100 [04:47<00:00,  2.88s/it]\n",
            "CharModelRNN | Generating 100 sequences: 100%|██████████| 100/100 [03:34<00:00,  2.14s/it]\n"
          ]
        }
      ],
      "source": [
        "# Load the best model and character mapping dictionary\n",
        "weights_paths = [\"last_lstm.pth\", \"last_gru.pth\", \"last_rnn.pth\"]\n",
        "\n",
        "models = [CharModelBiLSTM(n_vocab), CharModelGRU(n_vocab), CharModelRNN(n_vocab)]\n",
        "results = []\n",
        "for model, pth_path in zip(models, weights_paths):\n",
        "    weights, char_to_int = torch.load(pth_path)\n",
        "    model.load_state_dict(weights)\n",
        "    model.to(device)\n",
        "    \n",
        "    temperature = 0.5\n",
        "    n_vocab = len(char_to_int)\n",
        "    num_predictions = 100\n",
        "    prediction_length = 350\n",
        "    \n",
        "    int_to_char = dict((i, c) for c, i in char_to_int.items())\n",
        "\n",
        "    results.append(generate_text(model, raw_text, char_to_int, int_to_char, seq_length, num_predictions, prediction_length, temperature=temperature))"
      ]
    },
    {
      "cell_type": "code",
      "execution_count": 52,
      "metadata": {},
      "outputs": [
        {
          "data": {
            "text/plain": [
              "[['hog a bould her way all the said the door began seemed to say  how the fardeners it as the cat said the cat said the queen was said the cat of her the duchess so be a cone down and she was now and she thought alice in a little and then the same the hatter and the hame of the said the door and she was noly know sook and the was the did not peally i ',\n",
              "  'first sole she rool and the way what when the conversation all that all she said the king and the cat said the mock turtle said the queen was the said the door she said the queen and the rat the same the trembled her to large bear dining and say what the rand the mock turtle said the right and she had no the said the dormouse not in a vords was tha',\n",
              "  'ch a little said the cat and she was not at all said the cat  i shall you what ill have a door as the room and the pigeon and the sabbit and and the asked  i dont interesting in cone alice was said the mock turtle seen the first had not said the said the gryphon and the skates in the soldiers the said the queen  lice was a great had been a         ',\n",
              "  'g said the mock turtle  alice round alice haster alice in a said the cat and hand and she mock turtle the dormouse the thought alice what they had not at all said alice round eyactly as she reason the hanced to alice alice will you tee went on siz she gancing and wanted to she dormouse said the first perhaps the mock turtle a bried of her of the mo',\n",
              "  'ust she what she had sather was the could not said the dormouse shing she rat to the same the dormouse she said the mock turtle in a lock turtle had a fating and the was a little said the dormouse alice i while her hand been and pastions in the same the mock turtle in the went on said alice alice all drown and said the mock turtle her a mittle for ',\n",
              "  'eemed to poooop and the mock turtle you say the said the dormouse said the mock turtle in a birds it her head to her a food so the dormouse said the hatter i ceat looked alice come of the thought alice with a little hardenerent that it might and she said the king the rest of the dormouse she mock turtle be she others began mow that it was said the ',\n",
              "  't had added and then they had a little down the baby and saying to her fardeners the same the mock turtle said the mock turtle drown to her said the mock the mock turtle all that well a little when i get the first and she rat not a little and hand again i dont said the mock turtle began said the door gold the mock turtle  a  and so tee jus hairence',\n",
              "  'laa   becausiortunid a little before said alice thought alice and the jusy and then they lade the dormouse said the cat of the others was saying  you are said the mock turtle the mock turtle it was a disher and alice could its head in a long and not said the cat and the said to say              the pool the whiting and the fand that it was a large ',\n",
              "  'g so say what it was the court and sure the dormouse the mock turtle it and she was a bone to she was to the fardenerent the shough the queen in a little she first were frown the what it was not much surning to say the same that it on and the thought alice so say in the hame the dormouse when it askeep and began a little of the thought alice in a l',\n",
              "  'ith and the said the mouse down the trial and was as last as the mock turtle  the cat of the first into she said the mock turtle  a courte of my life one had louse as all she archbimed began to many little botwered the poly and alice alice said the duchess prouses alice in a that alice what was she dormouse  the mock turtle first for it and then al',\n",
              "  'and was going of that she appeared the mock turtle and come or and then the way where was a freat way and the thought alice as well you would have her way in a little plared the march harked it was all the door the mock turtle the said the mock turtle a sather it said the cat and the thought all that she whole been had said the mock turtle alice wa',\n",
              "  'lice began the dormouse  large like the mock turtle to the waited the mock turtle and the hatter what it was all that down said the conclusion the duchess she said the mock turtle reply as it and she gryphon reply  the gryphon replied to the said the mock turtle the whole hardeners wandering if stiful she mock turtle replied alice  i she cat hive a',\n",
              "  'and that all the pool the words and hand that it alice replied to her she particular seemed the cat and said the mock the conversation mad a long deal to lesself she pigeon half called to her said the cat and the mock turtle seplied and the mock turtle of sight seemed to say the first and the king the dormouse said the door the began and then the c',\n",
              "  's a minute for in the said the mock turtle when she raid to her head thought alice had not like the door and the was a good that she had not loutemf and she shought alice remarked  doning that sather the duches head said the cat or might the ranther now said the dormouse she dormouse and she baby to her so you taid the king and the same it more tha',\n",
              "  'tle had not loud alice reply as it had not and shought said that it wat the same the mock turtle and the was silence  alice what i thought alice  alice so her every any much as the said the mock turtle she hame of that it was said the dormouse ro she felt she rest of the same the dormouse again and she rooces of find she first dare cant in the subj',\n",
              "  'u know said the cat wery glad the dormouse again in a thing alice as the same said the mock turtle what it was lore and was the said the mock turtle drawled the duchess and then they all was only because in a fay the mock turtle  alice court but i never where was a low said the dormouse  the mock turtle she said the roof of the mock turtle fire sai',\n",
              "  ' alice as she mock turtle and the season the mock turtle she bester playing hear her the words were she mock turtle second sharp make out and she and the said the duchess the sea and said the dormouse said the cat alice with she dormouse not said the lock turtle the cone of the soldiers what it might and the gryphon and she said the dormouse and sh',\n",
              "  'alice so she shought alice that she had not mouse with a sone the went on with the shought alice semark she was of the harge like her head that the queen what a cone of the said the caterpillar  how said the mock turtle for head it the right said the mock turtle said the dormouse been the wat  i began and her a little in the bestainly semarked alwa',\n",
              "  ' said the cat one seen the had not and the execution the dormouse in a fay and speading her and more it was a hood the rest was so the same the ling she said the hatter seemed the remember half to alice so and then the other wery because all what it might so players the same the jusy was the was noce in a deal the conversation her head it and said ',\n",
              "  'one of the was no not would and seen she said the dormouse for said alice the dat of the baby and began for eye a little she mock turtle down the soldiers she dormouse she dormouse so she poom and she lock turtle  a beautiful said alice invever and the could and the wat now and the sight help about to be said the little dorgout she first so the wan',\n",
              "  'f said the mock turtle in a tort of the sight said alice alice course her and the mock turtle the dormouse she was now and the first and she said the hatter when they were me perhaps in anything she was a dear is was a ping and said the mock turtle the dormouse which was a king you see said to that they wou are you are you are yet the sat said the ',\n",
              "  'd was looking to alice have that it was the same the other the cat just to the roldiers was the sight sound in a little down the door and the thought she sooke alice in a large could her some its she said the cat i have do the way the mock turtle its the mock turtle the window the went of the shought she said the dormouse inte and the same the foot',\n",
              "  'rds with a great happened the door and then they bot of the sable said the dormouse said alice what  i should into a qing the dormouse she dormouse gow in a ming and the was teen the roor little of the thought alice said the mock turtle alice sing and that it was to herself  the dormouse in a freat made a fay in the pame the queensly i should said ',\n",
              "  't be not mad you are you makesty that it the others was all that she hame the procession in the tame was a conversat it was an offended it minutes alice sill you know what the cound and the mock turtle the mock turtle said the dormouse so said the mock turtle her in a latter way you cont said the caterpillar and she bross and was dont know the part',\n",
              "  ' minute or to be a   chapter way  i the mock turtle said the door and sooke and the baby and all the mock turtle said the king said the hatter  the rabbit and the other the hame of the court and she door them the rabbit said alice did not said the mock turtle how and the sabbit it might alice a little said the mory the rea pound and alice began was',\n",
              "  'd the door began in a little and the execution she was going to the could in the thought alice as she said the duchess and alice in a timple the subject the way it was so wine the same as she surned the mock turtle give all the was not and she said the dormouse she door and shen was a minute and the mock turtle put head so she gryphon  a  beautiful',\n",
              "  'at was a disect it and she said the mock turtle to see it any more the door all the gace what it made the doown and down the hame her she fancy and she best in an i that a little mo sooke raid alice replied in a peck and the mock turtle so lind the mock turtle into the duches and alice  what you want the mock turtle like the little and the party sa',\n",
              "  ' and she trees to the court and conversation when she mock turtle a little at the harks the rabbit to the found not her and said the door she hame of the sat the same the duchess and wandered the door the coubtfully for the mock turtle to you said the dormouse in the said the hatter she said the mory and the mouse and she court and went on sight sh',\n",
              "  'he sabbit the dormouse said the mock turtle so her silent alice in a great hury as it and she had not cont the said the king and alice what a procer down her head it it she dormouse so the first do you know what the could not said to her fart why the dormouse as the mock turtle about in the did not lives she queen and the mock turtle said the mock ',\n",
              "  'were she said the mock turtle so the thought alice in a hood a little while the remember and reply as she was jooking all the said the gardener and was now and she said the three gardener the mock turtle her face to the first was seemed hare  i down as it was the doot little and the same the mock turtle seemed to see it and the conversation alice t',\n",
              "  'adestainly semarked the queen with a surn in the rame the mock turtle  the mock turtle inttance to alice did not at all the said the queen the had not like the way all the mock turtle reply should have say only and he did not like to alice round and the dormouse again she was so the cat and the was in the said alice went on march hare  you she cour',\n",
              "  'hed the mock turtle she conversation alice very seemed that it was a distal of the sime alice to the thought alice i cant that all the door be in a little she hame of her seady to tee mock turtle to see it so do you ling about a little before said the dormouse in her fire and the dormouse     chapter all my life the dodo in a little or two so she s',\n",
              "  'thing to say now an are the cat in a said the duchess at the mock turtle replied at the was now and she dormouse to and began cont know what it mustered her and that i should thing of the way  i cont know and she said the mock turtle beain and she said the mock turtle seally said the cat and the cat ought in her lives seen the same the mock turtle ',\n",
              "  'ed to two said the queen what a rooke down her and she same the queen which said the cat and the orooy what she court and seemed to alice began the mock turtle replied all the thought alice  i cant if you and replied the said the mock turtle so lie the door be a conversation the rabbit wandered to the dormouse for head in a little so say the grypho',\n",
              "  'all more and the roldiers  why the was the dormouse the ress of the first were the mock turtle  the cat and reply a course thing make the duchess she thought alice looked at the was to make of the thought cone she dormouse  i because in sone alice  dont and the was said the mock turtle to sing the dormouse went on said the dormouse  the dormouse se',\n",
              "  'to and the mock turtle so the mock turtle the dormouse said the dormouse so say the same the foot the duchess was the arch the mock turtle she was a minute into the hanced her chin had howing of the ganced to see hame the liddle hand and said alice in a little she others alice round again and the same thats all she said the mock turtle and the baby',\n",
              "  'want you wont you wont you wont you wont you were said the dormouse the same the mock turtle her and the mouse gow the way what a crowd into the said the mock turtle frown and so the door the king and the rook and the was not like the roldiers what you want the first was the said the cat it and the was to say the thing you say the said the gryphon ',\n",
              "  'l the mock turtle surning to she executed his head doglished the first said the dormouse  the mock turtle a sort of the mock turtle to alice said the cat her like the cone of the same the duchess it so she said the mock turtle so see that she mock turtle and mow the said the mooked and thought alice she dormouse it was talking before to she asch wa',\n",
              "  'ell it made of her how taid alice as the ganced hastily said the door askeep and the king said the mock turtle a babeautiful to the hame of what it was so thing and the mock turtle in a minute or they all the way in till the caterpillar sort of the sight he so she began remarked the gryphon indeed to alice alice could it the gryphon mane taid the q',\n",
              "  'rome the hame the white reemed the duchess and the said the dormouse  the liddle the door the soldiers to the pool at the mock turtle in a thing all repeat may in a soon it sea a brard know she court and the wat a ping of it is a little seen they all my minutes alice and the mock turtle heard replied and she pueen such to she slates all a ming and ',\n",
              "  ' it as she could of the dormouse and the coubt his to her head it off she was in a little said the hatter when the door all the same the dormouse the dormouse said the mock turtle a sulky in the first and she thought alice alice pany as it sat a whiting its you know  it was in the cat and began not and the hatter wou know at all she window in an ou',\n",
              "  'ed in a hood hair and not alice so she was not alice as it in so see thought alice the mock turtle in a vhiting the door she smate down the was a little seen so seemed the poor like the hame and the mock turtle her and the same the lock turtle she cound not seemed to the rat a great half of the mock turtle all i dont began and the rabbit wanted to ',\n",
              "  'ing the same a little the door alice replied for time he tauer the first do you know  of she was the mock turtle she dormouse she was not going that had not should it so she could not and she bestainly alice i dont seemed the mock turtle a little said the mock turtle in a thri its to see the hatter what the gryphon more that she what is more at the',\n",
              "  'she dormouse and she pool and then to see you have her eyactly and the pight here the queen and she waited hardeners siz you do it was an if so the said the mock turtle and she cat and the thought alice in a polent the you know it must and the narch hare down her and the mock turtle shats all the same she cat and the white replied at the was now an',\n",
              "  ' shought alice replied all a that do was all and the hancy said the cat and that had not said the mock turtle of the conpl and shought alice in a little down and the same the hatter said the door any said the march hare  you might he she fance  you mean first into it more and not a minute or the baby the distance to and went the season the mock tur',\n",
              "  'bbit in the said the game and that it was the same the mock turtle said the mock turtle  i seen such a thing the way what the execution when she was quite the door as well the rabbit the door and shought alice the little cat i should hardeners that is was said the cat and the said the mock turtle said the mock turtle thing you know she bestainly th',\n",
              "  'tman the said the mock turtle she conversation she rooke said the king and the rather she rabbit the dormouse up and shen when she little the said the mock turtle a little him what when they surn a little she food and more i have you know she felt that she had not like the mock turtle it to say  all that all she thought always the same the dormouse',\n",
              "  ' sone at the mock turtle sells said the mock that it must the rest of the began with a little she hame the march harden was all the creadful to the pool of the soldiers and the caterpillar  she mock turtle she added you might as it as the mock turtle as the whole looking that the mock turtle she had not see and see said the mock turtle  alice said ',\n",
              "  'n all the thought alice thought alice as she hardeners in a bone  the march hare said the cat on mot see it does unee  why all a minute or the mock turtle  a         the caterpillar  alice said the mock turtle into a bone and the hatter  you do you mand of the mock turtle  you know what a dear and she first and she said the mock turtle you know wha',\n",
              "  'on it was said the dormouse said alice a freat may what a pinute on see want in an impw as she said the cat said the duchess that it was an offended to the gryphon and shen the hame  i dont instes and she was no the feevening shat sound at last the rest of the said the queen the stood the mock turtle i have your you wont you were not were lind the ',\n",
              "  'nd not said the mock turtle the white reemed to see you are shen the mock turtle into and the gand in the said the king where was quite in the same as the dormouse to say  alice cont uncomfortable alice what she had not like the way all the gardeners and she feeven said the mock turtle what the said the mart moment she dormouse she way all continut',\n",
              "  'ent and the shought alice could not could her said alice coubtfully alice into a great hunt and she whole mow the subject it said the dat and the liddle the pool the gryphon and the what where was a thing of the thought alice had no the sone to say why the balled her the was now and the hancy the mock turtle of course its with the pigeon in the was',\n",
              "  'he first the soldiers the nock turtle  you say said the duchess he said the mock turtle replied to the reason and alice said the dormouse see the hatter ho the words with the was a little saying her head said the dormouse and the queen so she little said the march hare  alice said alice thought it was to the thought alice as her head so her so see ',\n",
              "  'se she mock turtle a large party the rest of lived the dormouse shat did not louse that it was a little down the did not was a little down the door messons the was said the cat said the mock turtle dootming alice and she mock turtle to herself it was and she was not she sea the dormouse to the dootman and the king and the soldiers so she said the q',\n",
              "  'aid the mock turtle she said the mock turtle in a pigh alice looking and they down and the other and she dormouse the soldiers all of her helt happen in the whole of the baby the dodo in a minute stupid hair the mock turtle drown and the cat and was gone or the same the mock turtle so the thought alice all remarked and she was said the dormouse she',\n",
              "  'd said the mock turtle she mock turtle replied all the pool its to said the mock turtle said the duchess she said the mock turtle you know what it might she door and the mock turtle  the hatter who is it was a large saying to and she whole caught alice the duchess wery hair the hatter idea how the shought alice she hame she mock turtle said the moc',\n",
              "  'the mock turtle said alice as she mock turtle she caterpillar  i should all rat to the gryphon she said to her in the dormouse she could not and the soldiers and party the two no sort of the harter with a than the hame her head that she court and seemed that the pueen staring said the mock turtle she crown it minutes alice that makes all my rather ',\n",
              "  '                                             that when the was all the rueen she said the duchess and then so say when the mock turtle about the though went on the soldiers  i dont said the mock turtle and she conpuersation it askeep the mock turtle so say the been she dormouse she came an are you into a seally that it was now and the mock turtle t',\n",
              "  'he wat said the mock turtle in the soldiers so the mock turtle raid the door me you said alice  i cant gas the thought alice  the cat and she first she said the hatter when she was all the pool of the words a door the  i dont and the dormouse and she a little like a really in the same the mock turtle the of the feevening the gryphon and she rabbit ',\n",
              "  'o her a            that it was all she was looking its back the rueen you many to the first said the cat her head said the duchess was a little like a seal noce int for so she dormouse not went on you uer hoing of it so said the mock turtle said the door the caterpillar cone one said the mock turtle all the soldier the suarte say the said the mock ',\n",
              "  ' other to sing the mock turtle a great could not her and she was talking about her in a minute or to said the dormouse alice in a little the door the same the mock turtle when he had not like the duchess was seemed the soldiers words a minute in a thing of the hame  alice had not said the hatter it may wou know the dormouse her face in a hood the d',\n",
              "  'o off the dormouse and the mock turtle for her she soldiers were saying and she said the mock turtle the queen and she said the pool and she rest off the dormouse  the mock turtle said the mock turtle thought alice cone was the same the queen was she was a little in live it a ming the confortable then a large grown and the pight so she of the littl',\n",
              "  '  i forgort and she was a good on the could no his said the cat or mad you are she court and she did not at the feevening the mock the soldiers a little seen the was to be course alice in a great hunping about it make of them and she mock turtle a little which was all the said the door curious the had pade her into alice said the dootman only what ',\n",
              "  'our and the mock turtle in a thried  alice which was only all the end of the dormouse so the dormouse so speaking saying in replied alice in a little for the tone and she was and she said the dormouse she dormouse she gryphon into it was still a little pather wery much more all the was very were said alice sp alice and the king said the dormouse th',\n",
              "  'ou know should it was said the door and she began for the cat  i shought alice what  how dont the best the court of the ought timidly and the trembled that party all round alice what a convn the food alice in a little ill tilence hand the dormouse she baby to the was a little down her and said the hatter and shen alice to exactly the dormouse shoug',\n",
              "  ' at the season and she was all of the said to herself up see into and the said the mock turtle  the mock turtle because it said the duchess she first to say you are she is the soldiers and that she bottle  but impe and looked to alice was said the mock turtle  nother doesnt crown and said alice impe said the queen said alice  i dont the door with t',\n",
              "  'ell made said the duchess said alice round the hame or and pardow so say the drown the being in a low the and said the cat down and then it was the said the king and the same the might seplied to a long and she rand the cat with a great cone said the dormouse and the was said the rabbits of the food and she table you down the thought alice  and now',\n",
              "  'a confused by this it so say into a mittle her the king and she was said the hatter she sail the gryphon she hance so many like the hace of go a deal with the hand her and began of her to one the end of the rabbit want the little she had not like the master all the was a long of the could not alice as the mock turtle down her and she was all them a',\n",
              "  't she said the mock turtle replied to alice began she dormouse she first as it anxiously said the door the dormouse you know the dormouse  the mock turtle said the cat orocered her a minute what cant as well her flad they sather alice in a little its it said this said the dormouse the mock turtle all a very luch she said the hatter which was so the',\n",
              "  'e nouse of the sight hands and she gryphon replied it plan noce what it the same the mock turtle alice began indigng and down a sigh of the sabbit was to thing she sand the mock turtle not                     the mock turtle you down in a the mock turtle said the door like a solemn beautiful said the queen seen and went made she mock turtle alice w',\n",
              "  'n a little tncomfortable and the was said the gryphon and her a little so make of the thought alice come when said the mock turtle  you see said in a little the said the queen what the cound and then the door as she mock turtle the said the door and the mock turtle into its frow and the was a little began for was the said the mock turtle shall she ',\n",
              "  'g the mock turtle thought alice in a really as the mock turtle in a that it was all she thought alice and she best alice in a very learner and the first the dormouse not said the queen and he did said the mock turtle so the silence said the queen wery on which was all my now and the sable spoke alice said alice had not said the mock turtle beautifu',\n",
              "  'he said to her as she mock turtle she was a good alice alice all i cant said to be said the mock turtle she dormouse she pight and the march hardeners in the cat and she dormouse said the king her and party so the sight said the mock turtle the words were she mock turtle a little the mock turtle she said the caterpillar  she baby minutes alice shou',\n",
              "  'the soldiers do alice that she said the mock turtle her to learn     i said the dormouse not seemed the mock turtle so thing with a great her a fear the little or there were all the said the mock turtle so see if said the gryphon cone the clough the pool the bott and he was down her and the king  alice replied uo the close the feevening to alice sa',\n",
              "  'eemed to the was all said the mock turtle she wonders not said the mock turtle it a great to see that sure all i do so she thought alice inowes the explain and the words and alice a rort of the could not mouse again in a grown was the was nothing the execution and the said the mock to she first the same thing alice in his so she said the queen and ',\n",
              "  'er and she first for so she had not like cat and the court was said the couble you time the march hare in and said alice didnt the king said the middle  ive their head to the mock turtle  a bare to leave you have her are you know the spldiers what you like     chapter where gown her in a deal was not seemed and said the king and the was looked the ',\n",
              "  'o the court of thing i dont watch at anything alice and they all my dear idea the mock turtle     beautiful why you wont you wont you were land alice said the cat and the first and she added indeed and she thought alice alice  i have a little she dormouse to thing the was not alice and the thought alice thought alice what a great him a little so he',\n",
              "  'ave and saying alone that she said alice thing alice what is my and then she mock turtle mearn she thought alice and then the hatter all its eyes the dormouse said the cat and the mock turtle the words seensly and the mock turtle all a freat lade a little puestion and that what it the mock turtle in a roor and that the bestainly to say what are she',\n",
              "  ' said the hatter and that it was a good said the dormouse so she said the cat in a little door like the bestance  the cat so mad so she was now all my dear i should so alice come the dormouse her are you wont you know said the mock turtle into the soldiers half it sepeated all a little  alice and she sea a bourse again its all a ming of the eatter ',\n",
              "  'e dormouse not she said the mock turtle the gryphon said alice          the dormouse so the said the hatter what they had a cound her head it sat all the same the dormouse again and she hame to alice said the dormouse began to the said the made severely you wont you wanted and the soldiers in the said the door said the mock turtle replied and thoug',\n",
              "  ' mock turtle him a food                 so its said the hatter was the said the just as a dreadful not said the dormouse said the cat out looking alice thought alice was said alice said the gryphon replied all the same the mock turtle the dormouse so speak nouse her said the cat oroduced the door she said the pight wery anxiously and the harch hare',\n",
              "  'e pight happent the began said the hatter was in the same the duchess into a simp the queen was the dormouse so say all the thought the pade she hame of the first and she mock turtle the dormouse she was an it the care its wery soon alice so and said alice said the mock turtle the other when and she procersion to its a ming to alice and her face in',\n",
              "  'such a righ and was a little  the mock turtle the dormouse and she began had not askeep and the white replied of his said the pigeon she said the cat and she other the door said the mock turtle seen the hame her a whiting alice in a pight way in the cat and shought alice into the king a little down she was to so said the cat and the was a little sh',\n",
              "  'n the mock turtle and the dormouse that she was a little  the caterpillar she reason of the same the mock turtle exe seened the same the cook  alice remarked to the mock turtle the mock turtle the doown and we the court as if she said the queen what the harge because of the sea the hatter  it players the same the hatter with an indeed and she could',\n",
              "  ' great curious a pight the same the mock turtle alice for she said the mock turtle thing shat the white remember it had not asked all a great mand a pinute into a great could she thought alice the dodo its down at last in she said the mock turtle in a minute and the rool and she was a little down his so seemed to be a confusion the ruand its of her',\n",
              "  ' the court march hare the cat were le you and rentted the dodo said the mock turtle like of the dormouse she patter he she conversation the being its as all and she was the mock turtle she hame  i dont she same in an only the hame the gryphon and the judged and how at all the archbis as the mock turtle because it said the dormouse she mock turtle  ',\n",
              "  'she was asked the mock turtle so say in the was should like the way when how was a bit understand her a          what did not at the was now about as she said the hatter when said the dormouse so and began to the thought alice thought alice alice  how want she garter and began to the mock turtle all off of the dormouse because the duchess head said',\n",
              "  ' gryphon what she waited the dormouse as if said the hatter so see in a cay the court and geld to and she dormouse the began ruestion you know  alice said alice a little saying said the cat  i said the mock turtle round the thought alice she mock turtle said alice  what they all the court as all a well you were     chappead half i should so the sho',\n",
              "  'ed the duchess she said the king her and the said the mory some the rarting and she game her in the rueen what i eat she garter with a great conthere its a minute her head said alice ruite a bonvn the was a bot very much a sight the thought the queen into a little a little so she ran you mean turtle  a chapther to say the beautify what the was now ',\n",
              "  'e was a little said the dormouse alice in a ping of the said the mock turtle she rest of the court and she was to be seen when the cat of you itself and the mock turtle as it had not the said the mock turtle said the mock turtle she queen was the could now the pigeon but in a little bear in a minute or said the door and she said the dormouse shough',\n",
              "  'the was a vond of the bestainly minutes what it seemed and the was a little way the mock turtle a little however the soldiers its a minute anxiously into a food over he wou and she dound into a little mady the that she house to say the same the mock turtle not help that it was a little down her hand a sigh it might and down and she said the cat and',\n",
              "  'nd she was said the mock turtle with a seally the shought alice caught the went on it and the white rabbit semarked to say the thought alice the door have to the door the thought alone that to saying the wood                                                                                                                                              ',\n",
              "  's and the was looking and the footman and the was not and she way when alice said the cat and the was not and the gryphon replied and the said the mock turtle she was all she conversation in as the could why said the cat and the rest of the fryphon and she was seemed to speak and she was seemed to she said the dormouse and the words surning about a',\n",
              "  'f her face so the conversation the soom of the extrow way in with them the poor and the same alice in a little of the sabbit in a minute and the queen seplied the could and so the door the party the way of the mock turtle alice  when its her and alice a little so see you are the door the dormouse in the said the duchess the said the mock turtle sai',\n",
              "  'y and began in a little when alice as she mock turtle rurn itself the gar to you make so the march hardeners she meast she mext and then the cat and the dormouse and she thought alice thought alice she mock turtle she hargen seen the was a bons to grow are you might that she song of the fare her about it the was of the dormouse seally and the dormo',\n",
              "  'at she was a dish it and she said the mock turtle a soials the ran to see what cone down she asked alice was said the cat to come all that she king back to and she said the duches of the thought all the rame the dat and the propy so she hame her and she was said the cat  i no was to the gryphon and pervous the dormouse to the arches and the gryphon',\n",
              "  ' made of his fare that had said the mock turtle had she was a doot be said the mock turtle it a seally the thought alice and she other  i didnt then i should and she said to her silent seply she said the mock turtle not and she was not and alice hastily said the mock turtle  the cat and the jusy and she was a bone as the gance said the dormouse so ',\n",
              "  ' she arch and went on was so much a that makes and the white rabbit and began was a freat hurried about as the said the queen was to the roldiers said the mock turtle replied the poor little becausiful soup and alice to the sone of the said the mock turtle alice began in an exactly the care you would have and looked the dormouse that did nothing ha',\n",
              "  ' the same to to herself that beginning alice a little and the mock turtle a rerpillar  alice seplied the roldiers well you myself you make she mock turtle the was a minute and all down the was said the dormouse you know  the dormouse what if said the mock turtle will she hame so and the feevent and the mock turning to the mock turtle saying the tho',\n",
              "  ' the cause as an i that it the was said the mock turtle with she queen and both was not my more and she same the thought of her she said the mock turtle  you are pld was a little wery semark mad find it a bone on it said the mock turtle if you into alice hastily of ling a little began to drawled the first the said the dormouse it was a very sound s'],\n",
              " [' i beg you see she had somemnly  oh course now head began the first to speak and began turning to alice and it was a tnatch in the same side of the words  i dont see shat it was bill the distance  and yet i wish i couldnt said the caterpillar  alice said to herself now i should like to alice thats the mock turtle and both crowded with the queen con',\n",
              "  'wer to come to see the window  the things being replied alice as she went round it all i care say you never to loow  it was him time  the queen was sitting on the glover and bringing to explain the same side of the poor little thing as it see and went so she began with its nore  you please so sing  im round it all directly as she could not to be th',\n",
              "  'bame to the poor lett the baby and taken the duchess and the party so ran to the fame it hurried off alice could not the balltal of the king and broke off with her head off  nonsense  alice said nothing being replied in an offended tone nore  you are old said the caterpillar  to alice semark  of course the same thing as i get in the sea the hatter ',\n",
              "  'f arithmeticambition dicges and the party some of the gryphon in with the dormouse did not see any said alice  i should like to be a person of soup   thing as a drawing and some of the three gardeners were sead as it went on again  you may not go another moment she said to herself and she went on and down to go nearer to make out it was a very deci',\n",
              "  'ed herself how am i to do said the caterpillar and the other looked up and bamous cried the gryphon  i never went on in a dog growl no one flapper as it went on in the distance and said not at all soup   sime  ofrhaps now about it in the same thing as it setily it moud thats because it was a very inportant the mock turtle  serpents do you know  and',\n",
              "  'hat i say that it meant tell her some words  i wish i had our down the rest of the well i can co said alice and so its ready to lake one said the duchess and the mock turtle sang thing as i get to say thinking as it said the cat as soon as she went on in a fury and said alice   little bill   iml tell you insaterpent and then alice said to the jury ',\n",
              "  ' two the stick and the party were saying to herself as she stick not and the march hare went so  i dont think i can go sit down the chimney as she could not tell when it was a drimiday of sound a drowersation alice but she felt that in mad said to alice ive tried hedges the duchess by the hatter went on in the same thing as i eat one of the well i ',\n",
              "  'hon and to listen to alice  the dormouse saying to herself and i dont think over his sort of a pair of whiting it was a child with its arms long crazling about the mock turtle in the distance  i dont want to see the hatter  i havent said alice a good deal on the caterpillar and they saw alice thought this child again  i wish i hadnt cried out a cko',\n",
              "  'lly i should leep to grow up and began the rosnd was sitting on the tong  in afraid than a very decided tone  oh course they saw her to speak and the smallest notice the queen was sitting one of the well i havent she set to work nade her flamingo and broke off the other looked but at all about the rest of the court and the king said to the gryphon ',\n",
              "  'd the king and the words did not coming to alice as she went on in a deep voice are done with the dormouse she could not tell where she was now a bright idea came into it to a gryphon  i never heard before she said to the first do to and he was said alice in a gry dinners in the distance it makes rang the hatter  i care say the mock turtle in the s',\n",
              "  'ore nore and say who was put of the world of the baby and she was now ill try and said nothing being run hear her in a sorrowful tone which seemed to be treated so its really now and then they never executes nobody took the end of the same with its rleepy and the words  i speak so see it at all said alice i dont think then they both sat silent and ',\n",
              "  ' would be a person of paris and she went on in a deather flock to grave and said nothing  what soretree so frave taid the cat as soon as last the mock turtle said no a sorrowful tone for in a rorr of the rest of the lobster quadrille is  i never were said alice wery much ififht as she said this she went on in the distance  and it put the dormouse s',\n",
              "  'en they les id co to see it tried to see it  im a parrow said alice a good deal frightened the gryphon  i never heard of suick and said nothing being replied in a pig alain and perhaps it was said alice in a hurried not looking over the hatter went on in the sea the mast concert on the sea the king and the gryphon  then you said the king  it was th',\n",
              "  'ing rather a good deal on the cook to please your majesty said alice  i call it would you tell me pauier a good deal on the song  a cay or ill jus very sude by the cook see how he did it as all a great all about for it  no i grow and they saw the mock turtle went on and sound and sound it and she went on in the distance  and yet i wish i hadnt begu',\n",
              "  'oved said the gryphon  it was the dodo said alice a good deal one foot up the chimney as it chuckled who at last the hatter went on in a dear little house one of the season is that i was the hedgehog was sitting one foot to go nearer to make one of the birds with the baby with its arms folded quietly and so uhey got the door and the other looked do',\n",
              "  'ime  alice looked up and down the game the queen was silent and pepple and the gryphon said in a great hurry  an arm you forget the duchess said alice a good deal on the sea sobs the hatter went on for in a lou voice and she went on again  you said the king  of course the gryphon and then and then alice could not tell when the had found it always g',\n",
              "  'd the ming and the baby at all down in a moud crash as it went to the conversation and broke  and so she had crosidered a little of it indeed said the caterpillar  this qemark  of course the dormouse said the mock turtle in the distance and she went on in the sea the mock turtle in the distance  and then the mock turtle and in the distance and brok',\n",
              "  'ng away being arches to eat in a rorrowful tone  well i never went on in a dish of sad and then a good deal on the sea but they both sat silence all the gryphon they all crowded round i wish i hadnt begun  the way things are put of the trials beginning to grow up and broke to go nearer to make out who was said alice  i wish i hadnt cried to grow up',\n",
              "  'ings arguments in the distance  and yet it is i cant get to beautre said the hatter  i never saw one of the birds with its eyelids so draw you know  it was said alice as she went on in the distantly and secondly because it was a dispute not to nake out who are you think you can find out the door and the went on it was sitting on the things being al',\n",
              "  'ed to grow up a gry thore terpents the rabbit began singing a sailway tort it to grow up a gry tone of the birds with the best butter you know this i say a drimand your a cound not said the right thing as i get is the well i hadnt breumly i should like the mock turtle replied very indeed   well i havent said alice a good deal on the sands are gone ',\n",
              "  'n to see it to grow up again to see it at all taid alice and flat to and broke but nod bill was prizes about and shouting off the gryphon  i never heard of use ill jn a teally most alice cautiously replied in the door  no i know said alice  i passed by his garden the hatter went on in a deep voice are done with the duchess by the words  i didnt kno',\n",
              "  'this is more to go replied  of course now i give you do it one said alice a good deal on the sea so its nose     and said the caterpillar  alice in a poor man your majesty said alice as she sooke  a cat may little house it at all said alice always ready to make out it make meft alice as she went on it as all crowded round her chin in a pleased tone',\n",
              "  ' dear of such   rad look at it consider and the toldiers were said in a great hurry  an enormous puppy and then they both sat silent and the sespent before she was not at all the pigeon but i nust grow explanations i said the caterpillar  alice thought it would be quite frightened alice and time and secondly because some children she knew the door ',\n",
              "  'o many teathings are put of the went on in a great crossed in the distance  and shen the door and then turning to alice and looked it off the enormans high  i wish i hadnt dried alice and she went on it was feeling quite forgetting it was very civil of you and dont be all dirpu but i think i eat one of the same was so find that the mouse only shoug',\n",
              "  'know what i fo to see it as you see said the caterpillar and the gryphon  i see  you should say with the game  you are old said the caterpillar  alice thought the hatter as last the mock turtle sound it doesnt matter to make out who was a great letter no many long so now i grow up go and broke off the court and the mosal of that isbirds of a feathe',\n",
              "  'ot it off  alice thought this child alice went on in the tong id had a pencil than no i cant tee you are nov the same thing as i get is the court and the cook the chimney  it was the first question you know  it was the baby with its feet to at first the chimney and then a great letter no a great hurry  as yet  theres no such a sidge of the said to ',\n",
              "  'dded aloud     allow met messon to you and very soo fluot it was tilent and then they both bitwed one of the trees a little animals and said so they began surning to alice  of course you know that i say the hatter was sitting on the bill was the winle party at once without a great crash as soon as she went in a poor alice but a great crowd assemble',\n",
              "  'make one than what it make one foot got it yas said alice i wonder what so used to she began alice thought the fact i dont take as you said the caterpillar  alice said nothing hastily dixe and said nothing being replied in a pencil that squp first it was said alice in a gurry and the gryphon  i never heard before as she went on in a dog growl tone ',\n",
              "  'mock turtle replied in a pencil res together  what for see she caught it would not could not could not would not could not see anything made her face was so fet in a pinute or two so the bestactly to grow under the duchess did after all i never heard before she said to herself as she went in a loud indignant voice but she had got it in a dear looki',\n",
              "  'e world of the sabbit in a freat crash as a baught timidly said alice  who all mad you see  yay the hatter were all crowded round it at all the first first but im the gained courage and went down one of the well with the boastics at last the sabbit in a great hurry  as for i cant get in a poor man you are old father william see you are nor at all a',\n",
              "  'ee it tried to see the duchess said alice who seemed to be full of soom for a great many loment to grow up and began to very sing it it was for in the song of the court but at the cook see and went no and did not so go near the english was tilent  alice waited to see it was said alice but i know i have of put of the sime  and yet it at all said ali',\n",
              "  've part now taid the caterpillar  this was off together  alice said nothing being seen to herself and made her close to the went on in the well i havent been in a pincle of the game for crown one of the guntnded it and said nothing  then you know said the caterpillar and after all i almost wish i hadnt go some difficulty as it went on i know who i ',\n",
              "  ' the baby and the king leaves the duchess as it said and were passion in the pigeon but i havent the expried off the sabbit in a great crash as if she went on in the distance  and yet  what a pity the knave and the sabbit said alice  i never executed by the soldiers were setting in the went on in a dear little pudstion and broke off a bit of the gl',\n",
              "  'xecutioner and join the day and vent in a pinute of the games good impatiently and went in all draw to the conversation and the botwom of a well  take some of the trees was tilent  the king lady one of the court  no said alice and went on and being broken glass  but what a pity the hatter went on in a deep voice along the tense was taid the gryphon',\n",
              "  'll you a crance of anything to see it  then you should think you are no notice this offended to a bird alice said nothing  then you shouldnt salk to she stick and the sores off yith his head off  the caterpillar and she went on in the distance  and yet i wish i had of them and alice went on in a durious present the tong  in a porpoise flaps you wou',\n",
              "  'u are old said to the king and the sest of tee and the san off the others  large rider of breath and said in a sorroise indeed  alice said very so see the dormouse said in a great many tee said alice  you might just a child said the hatter  i see said the caterpillar to a mouse that she hot up and said the mock turtle and then they were looking ovt',\n",
              "  'will you wont you will you wont you will you wont you wont you wont you wouldnt here you never even sound you think i say as for talk as the went to say it out but it does yer honour but the dormouse said the king and she went on in the distance if you do it on you know  im my youth said the duchess said alice  of course the dormouse said alice a l',\n",
              "  'u dont the mock turtle second very solemnly  alice was not vell usually always gring on a bis so the cauled down the chimney  it is to grow up get one of the sabbit sentence of executions the queen  i never heard before said alice in a great hurry  an arm you find a fryphon i never went to sing  im afraid i dont think i have any raid alice i am so ',\n",
              "  'grow up again to see it all directly again so very nearly a long way of the march hare went on in a deep voice are done with the door and the whole party saw it ovt to speak and the went on it was talen its flamingo and broke off a bit of the gloves and went in a loud crowd as soon as she went on in the pool and then uncer it seems to grow up and b',\n",
              "  'together alice said to the chimney  i dont wery short time to see if they saw alice  come on the birds hurried off  the caterpillar  well i never went on in a dear little house one of the birds with its run fellow she gryphon  i never executed by this time and was looking at the sabbit began in a great hurry and the rest of the well i care say like',\n",
              "  'e caterpillar  i should like to be a peroual one foot so the chimney  so go never get one of the lobsters and the others  look in the same thing as it went on in a deep voice alongcatch his grench lessons to grow up and began to see its eyes forget the door and then the was no tears the rest of the court and the baby and now ill tell what would hap',\n",
              "  ' in a serpent they were all talking to herself alice as she went on again  im a patural way  i shought it would be like to see the queen was silent and the whole party word to offend it said alice   lice said very short reemed to find that it meant the march hare  in the distance  and then said the caterpillar  well i never get one of the words  sh',\n",
              "  'the gloort was that it was jus very soon found it away to be treated so the rest were said this she was beginning to go down the chimney  alice thought that its a very fine day said alice i dont think they dont give bill the little door but she did not look at the wood i would it was very sudden  you said the caterpillar  alice folded the queen sai',\n",
              "  'ng to lake one of them the others  lart could not would not go back  i said the mock turtle  she did not venture to see the dormouse say only alice began to find that it makes replied in another moment they saw all to listen to mearn  i wish i had oaused by this so she went on for it yould be lovd at all this time and the went in the sea  the kess ',\n",
              "  't wery sudden vill she had been angrily ready to grow up get her and the sest of the well was sitting on the bill was sitting on the tong was looking at the wood if it had come to see it to grow up a gry to cry of the song was a good deal on the stick replied in a very decided tone and the things below a really good of stch a rule at processions ch',\n",
              "  'hink i ever saw to grow up agree to see it was said alice said to the gryphon  i never heard of some of the evening beaut i will ju said alice  i wish i hadnt gonded to mearned in the distance and then said the rabbit and she began for in a lou voice to see it was the mock turtle drew a long hood crazby to tee the hatter were all over with would no',\n",
              "  'ot all the waters of the lobsters to the sea the hatter were said the gryphon  i never heard of saucont and the gryphon  i never heard before she said to herself and she went on in a great hurry and to see it so after all and broken glass from being ar she went on in the end of the gryphon  i never were said the caterpillar  alice shought she had n',\n",
              "  ' cats and said to the king was to the best but i never heard off together alice to she stand bamed to alice a good deal on the staject of course to mearn it was evactly one side of the leaves and they saw the gryphon replied in a great hurry  an enormous puppy said alice  so they got to see it to grow up again to see it as a ducumberframes the duch',\n",
              "  'ent on in the way who is to grow up galfpast one as last the mock turtle in a great crash as it was said alice wery much in great words  so they lesten said it was a dispute way of the lobster quadrille it as soon as all things i am so see it tried to see it trill it was a dear some wine the queen was silent and the words dinah i wonder what you we',\n",
              "  'mber are you think you old fellow  what i say the mast remark  of course the sabbit said alice in a ducugilents like the queen stamping one foot so she waited to see it turning to alice and the cook and the sat still and went in a loud crash and dogs them sounded herself supple nistle thing i ever went on in a tone of the gloor in the sail when i g',\n",
              "  'uite rilent and to go rather alice thought the qoor little thing i bel your pardon cried alice and the things being to make out what it meant tell you make me giddy and make one foot to the chimney  once said the caterpillar  well i never went on in a dear little hookah out of its mouth and broke off a bi to do said alice as she went on but off you',\n",
              "  'ou know  it makes i can replied in an offended tone  well i should like to be taid the caterpillar  alice said nothing more to be a little bill     i know i said in the same said the hatter  i dont know she said to herself and she went on in the distance if you dont the long hotse in a great hurry  an enormous passion and makes she said it was said',\n",
              "  'that it was jus gead impatiently and she went on in a dear little look at it went on in a deep voice who felt the mock turtle said to herself and she sat silent and the gryphon and the little door was that it would be a prizes  i beg you please do to the birds and she went on in a dear little coor see as the door and the baby and the mock turtle re',\n",
              "  'ly as soon as she tpok courage it at all do to but what would be said alice i dont think i we no i cant get idea of the court and the other birds and began in a great hurry and then and the mosal of the court and the cook tolemnly dame in reply  it does you know  it was a pittle lore crash and said nothing   bird pf the english confusion  i never w',\n",
              "  'hon  i never went on in a dear little house only so now i wonder what they were lying on the seasone  to she began singing in a sorrowful tone dont be at least the gryphon  then you uo go down the chimney  i said the king and the whole party went on in a deep voice along the queen was sitting on the silence of her face and went so said the caterpil',\n",
              "  'ed it a very sort of present that i ked of the season in the party were saying to herself as sound the gryphon  i said the caterpillar and this they live alice seplied in reply  thats nod of the words did not come to do next and the soldiers were seen the duchess said as they were looking round alice and said nothing her face with such a new idea t',\n",
              "  'ore its eyes i wish i hadnt said alice  and contidered to find that in the jury and the party some of the ground not and the baby and they were looking anxiously about it  i wish i had of all the difficult game it was said alice as she went in sitting off the words  i believe  booss with i hadnt begun said alice  it does you may no talk about the c',\n",
              "  'ew the door of the court  no and did not cried the gryphon went on in the pool and the baby at all at all the jury and the qoor lade off the same solemn to its really you know that it makes them so she began say in all the time he had come up and wery soon for it was bill thinking the baby and mooked at tolemn and she went on again  you can  sale s',\n",
              "  ' and said the duchess and the party some of the tong i havent the air said alice  i wish i had our does the mock turtle in the distance  come on  im among the duchess said the king and the party some of the lobsters and the other guesss of the sabbit so very sorry to see it at all do you want to the stick noticed alice  of course you fondofofof dog',\n",
              "  'life never left off quite a chorus of vhe worl it rather notice of his great uurprise  of course not said alice   little to ill down the duchess said in a great hurry  an enough of marger still it was very long kike to remark myself that it makes rather a good deal on the same side of what is the best way in the well alice went in the sea  the knav',\n",
              "  'nt her somewhere world it moud to be a person of prand on the same side of the birds with the baby with i hadnt cried on it and said by the end of the gryphon  this creature but no the season iss arms folded with some could not would not could not choosing to a long brayou mean said alice  you might just as well i said the hatter said to alice and ',\n",
              "  'he gryphon  it does you may not all all the wood is to grow up and down the chimney and then and then uhe gryphon  i never went on in a furrow  it was said alice  what for see what is a curious pf the kitchen  when i was going to be a person of paris and she went on in a deep voice alongcatch him the mock turtle in the distance  and it in things al',\n",
              "  'o grow up again it was only betides all the gryphon  it was said the caterpillar  well i never heard before she said to herself i wish i hadnt bround im growing it all my life  but she mouse did not get usy of a piece of breadandbutter  jus a cheshire cat said alice  on i didnt know said alice a little worl it  im a poor alice asked  we called out ',\n",
              "  'nly not so be all about it in a dear little poup alice seplied in a great crash as if spoke at her and the party were saying to herself if one of the waters of the words  severely who is the whole party look at last in a great hurry  you fondofofo said the caterpillar  alice looked all round it as all a pitill of saucepans to see it to grow up a gr',\n",
              "  'soughartadrille things with the boxed low and then the mock turtle went on it was a dear quietly in a loud pf so  ive tried bame to the baby and the king she went on in the well alice but i am old coes the door and the words did not said alice  i never heard before she said to herself as far the window  the gryphon telling alice but i grow up in a ',\n",
              "  'e chimney  oh course not alice as she went on in the sime  of course the caterpillar  alice did not see anything the had flosed it  i never heard of breadandbutter and shook its arms folded quietly make me grow to grow up and began to repeat it but she felt very glad to find that it makes them silence  alice thought the baby with it was so lany aga',\n",
              "  'ould it makes in small one seen they might do so  yhy cowld not tail the duchess rang the duchess as she could not to see it again  i never heard before she said this she said this the went on in a dew youre draggled fetch  alice did not in the mock turtle crumbs said the caterpillar and the thought it would be an old said to alice  then you should',\n",
              "  'at all a poor and so the sespent  but i grow up and began bowing to see it trick and days and drew the best butter you know  so she taid to herself and the thought it wery solemn in the wood if the distance and they saw the king and the others  the dormouse saying to herself it wery so yet it is in the same thing as i get is the went on in a deep v',\n",
              "  'uch pleased and thinking it was a very trutiful child him said the rabbit began alice thought the world of my own to see it the gryphon  its to draw the dormouse saying to her if she went on in a terrent they were looking down on one knee in a hurry all the poor little thing i believe i can gur vo change the sabbit stch a new idea to alice the othe',\n",
              "  'gead off the things being arguen every get so get in a porrowful tone along the well in a lournfully alice began to fo nearer to make out who are you advance twice  no no the same thing ive got to go replied  of course not all the door as a kart remember when i was said alice severely when she had been angrily reen the malled of hearts were seen to',\n",
              "  'ng to be a peroruon of authority among the picked up a lobster alice said no one flap said alice  of course the duchess and the pigeon but i am so very said alice alice  i wish i hadnt begun with it make off yith his head off and the sest of the things beter it was said alice but i know that it makes the same side of the baby and the king going to ',\n",
              "  'e it at all as well as she could not to go and some of the ground and went down on one knee in a great hurry   not a great crowd as she could not to see it at all he could not see it in a rorrowful tone with its arms folded quietly small of all thats the sabbit see as this in the birds and as for repeating  i wish i hadnt see said the hatter went o',\n",
              "  'f anything mady to see it as all coming to see it so she stood near the world of me they live at the went on in a deep voice alongcathis and she went on in the well was sitting one of the tong id had happened so she began in a great hurry  an arm you to say be a crosider you know the same thing as i get what i say the mock turtle seplied at alice a',\n",
              "  't she wood if it begins with a large birds without a gryingpan flower and went in a lou and the game for to the chimney  alice began to sreak with a little of the gryphon i was ginish in the same thing as it went on i grow up get in at the sest of the court and she went on in the wood i was going to begin at the hatter were all rate alice and held ',\n",
              "  'lice  of course the mock turtle began for inso it to grow up and began to see it tried to see it trials they saw alice as she went on in the sly all and some were all sound it away some of the cauerpillar  alice said nothing but she gound it all i never the king live about her look up and being seen them  i wish i had of any done if you dont tee sh',\n",
              "  'red all the well i havent as she went on in a dear little house in a pair of great rurprise  of course not alice taid to the jury and the little does  i havent what i say the mock turtle seplied in another moment the mistake it was close to the kury and the wery soon for it yould not gone to do and perhaps a gryphon in the distance  come on it to f',\n",
              "  't was over and shooking round the rest of the watch and the went on in the said to herself and the party were saying to herself as she went on in a deep voice along the duchess and the other side of the words  i believe said the caterpillar  alice said nothing perhaps  ive tried bausiously replied of little thing he was speaking off the sabbit in a',\n",
              "  'e branches and broke off the gryphon  then you advance they all draw to be a person of procession came in a dear lett the rest of the picked uo a rore     with i had come with i hadnt cried alice i am so suingy about it all was presed in a poor man your pardon cried alice and she went no in the sea the mock turtle said no a crimidatau to make one f',\n",
              "  'ped it so a long breath and said nothing  the dormouse shook its arms folded quietly smoking a gry yould not man said alice a good deal on their paws  its a cheshire cats and said in a hood deal one foot great uerpes  so you are old said the caterpillar  alice said nothing she went on it was a very difficult game indeed said alice in a great hurry ',\n",
              "  'ite forgotten the door of the evening beautiful soup of the sea  the knave did so very said the hatter  i never heard of soughly the season is was for   little looked into the garden and the baby and the knave of hearts who is to grow up and being ar she could not to see the whiting  i never went on in a deather first said the caterpillar and the w',\n",
              "  'anged staring the gryphon in a please go to granc coming off the sores of chance of the sabbit in the little door said alice  i pnly see she meant to see it to grow large as they both sides of it alice they both sat silent and the little door with its arms folded quietly smoking and fairly said alice in a ping  ofrhaps nod side of the ground not to',\n",
              "  'alice  i should like to see the game the queen was sitting on the sea but they were all over with fur chin it alice said to the door and he was sitting one foot to grow up the sabbit in a porrowful tone while she was not an encouraging ovt of tea and who is there were in a curious prened to find it away under it it to grow up go and said nothing   ',\n",
              "  'thing as all a poor a picke but i know who is the season is tell me who felt ready to say the mock turtle  it was seen to draw the door and then they both sat so see the gryphon  i never went on in the distance  and so school in the distance  i cont know said alice a little wider child seemed to be taid the caterpillar  alice fourteed and went in a',\n",
              "  'she was now i said the caterpillar sook the chimney  alice did not queer to find her  well i never heard before she said to herself it was so lany long so much frighten to grow upon it make one foot to them and alice sather doubtfully it hurried before she said to herself alice as she stied to see it trup at the stick and the sest of the gloves and',\n",
              "  'the queen said not a good deal on the cakes and the sabbits voice  not i said the caterpillar  alice said nothing her face but i know who is to she still and alice is over at last the eagled to find that it makes them  and who are you to said the duchess you see  you said the footman and the wery soon found it all said the caterpillar and the other',\n",
              "  'ock turtle replied in a great hurry  an enourr madat least you never to go on i suppose it said the caterpillar  alice said in a hood deal one foot go spld child  alice but i think you could one of the gryphon  i never heard of use in sepeating this size why i should be free of the lobsters and she panther before the chimney and so every what i was',\n",
              "  ' alice  i never heard something of the words   large caught to wish it was sitting on a bit of the gloves and they lind said the hatter  i dont know one said alice   little bill     i ball i kust as i was going to grow up and she said to herself i wonder what they said the caterpillar  alice looked all the watch and said no one of the loral of thin',\n",
              "  ' so en next the duchess did it as all down on one knee as she went on in a minute or two the cook and world it was a very thort reemed to be ture she had not tell you will you join the dance will you wont you wont you join the dance will you wont you wont you jnow said the caterpillar  alice said nothing else     chapter it to say so this moment th',\n",
              "  'ession came up to the dormouse said the caterpillar  the kings crown on a crimson velvet cupioring in the distance  come on a great crash as this so she began rather alarmed one foot to grow upok the door and the whole party at last the same side of the gloves and barking of the lory with a great crowd as she went on in the well in sight and to see',\n",
              "  'noss confusion that she had someone to see the gryphon  i never went on in a dew you can find it as all said alice  i said the caterpillar  i wish you wouldnt kike said alice always to say i once said the caterpillar and the lory as she went on in a deep voice alongcatch his face and went so say it offer the english coast you find it was cerisily i',\n",
              "  'and began in a tone of the thing said the caterpillar  alice said nothing  they lestons they seem to draw the emeventh could not tell me a pitill pf least no time taid the hatter as the stick rardon in a tone of the gloor with a timple qarson soup it must be a wery difficult game and faint in the same side of the game feelings choossan explanations',\n",
              "  ' hedgehogs was the first question you know  it was said alice i am so sing  the queen was silent  the king lade only a rerpent to know she air every gurried off the king and the wery words as soon as the same thing as i get in the sea i should like to be a person of paris and she stood not gelp toon alices shought alice in a sorrowful tone stadrill',\n",
              "  'here put a seally good wery shrinking rapidly so be a pleasantst and the sabbits voice and then some way of escape to she stick and the party so many less gear she could not at last in the wood iss to speak  what for see she hearth and the knave did not said alice wery solemnly ran will the picked herself by this time and alice as she went on in th',\n",
              "  ' the duchess did so very sired of it along the lobsters and the same side of the garden the first figure said the caterpillar  well i never went on in a dewin of keart now i said im a poor man your poor alice but i havent said alice  i wish i had our dinah she went on in a deep voice i adg you ever saw the mistake it a very uncomfortable ten said t',\n",
              "  ' broke but she did not get ho the tail but who is to look it to grow large as last the same shing as it went on i am in a day or two of the well i havent the rosp and said no it was sitting one the bottle for it was in a large cauldron of soup   thing as a drawing now and the cook toldiers were still it all the tail which she was a little nore crab',\n",
              "  ' door but she did not long to get in the well i havent she said to herself as she could not tell when the court and the court and then at last the mock turtle went on in the distance  and in bus i nust go back to the said to herself as she had gou to try the things i used to see it in a loud indeed cried the gryphon  i never heard of use in saying ',\n",
              "  'the dormouse she was now i shant you do said alice  i never heard of use in one of the lobsters and perhaps it but a grin without a pig alarm in a lournful tone of them bowed low to go nearer to make out of the song for in a conversan fold of them alice said very glad to gind that the end of the words  i speak severely what it meant to make out who',\n",
              "  'eems to say the mock turtle and to go with the dormouse doesnt get up tee the sale thing as i grow and so it and said to the same thing as i get the chimney  i never to be a pospows     impatiently and so leep after the tame side of the garden the hatter were in the went on in the distance  and now she smalles is said the caterpillar  i havent so s',\n",
              "  'ife  of course not all the rest of the cailet wanting in a great hurry  an arm you can                                                                                                                           coml of said alice a good deal on the sands of sore indeed said alice  of course they all sat down in a great crash as if he workd not said a',\n",
              "  'rly getting to find that perhaps it had been anxiously i shall have to go nearer if one of the words hedgehog wery sudden change but im a great crash as the could not the chimney and she went on one of the words he came in a poor man your poor made a mittle from the door see as her hedgehogs and the mock turtle interrupted in a very good many vook '],\n",
              " ['ot het the the san cu wte the the the the the it the a t t id ou the the it and a tt it in and thont ant fo hat cot yo vo fou and cef the she a t t sd be cu at ats the taid the a t fe the whe fere ont whe the whe se t a    t w t t t s a tinke the the whe whey cou she the whe of tse at st itse an t t t t yed she the the thing fot the of the and nd c',\n",
              "  'it fot wo ru and the the the and qre the it and an fer so on so heat and was the dou the wo a se w t t sd wo and the all the the it in the the a t a   t t yere berere all it fry all in fow the ev the and she sas ye a ske he t fere on the pl the whe the the and wo the tas the cou the the the whon the the the the the she the the the so it the to the ',\n",
              "  ' t spt fort of and haly he and fis and in one and a lim the she it it she and bu y w sd whonor she the he to the whe the she a wed it on and whe mou the and the the whe the had the it sherse tpt a tt she was the to she tas we wily antte wo beat t t d id tt and the the the and thent of o  sme on heat t w sd the the the and id it said she and she and',\n",
              "  'o she  fon the the  wee in wo sit a co a t t uhe a      t id abom be t  alls the the in on the to wo and the whe and it and shing and lim aling the whe cev the the the the the a d w fe s in the and the ther the the the the she and she it on a     hav the wo a     t t t tt the the she fon her wencer of s id all and the or then the wo the said thee t',\n",
              "  'ill  itt say sass a ge ou of a yerm to shav wit a ye the sit he a the asky it whe of wet ther in he a sd the cas ye ou finke the the and weming she the the whe the at st and one te the thar the ast the the and yere whe be id the the an s t ce y sk it she whe whe to the when the vhe a     con ast at st she sase a t t id the the and it sare the the h',\n",
              "  'is saly a ant and the fou so she yhe thers sas the wo fal it the wered the ant of t sge a t id tt and the sere the the do the the i blle alit fit and on she she the on and the the cat an t the she wo fomt is the wo wery wo don fore the she what and so was and and the the yo wo he t ou the wo hot wo so abu ys sp the     st thing won a t a thing fort',\n",
              "  'it whe and whe on  nd a t t the the and oue as w h be ou fre the ase a    con loke the and whe the thing the and yere says pay tas he tt yhe it to cou the the was and she thu and it and the she she the thor she to the the the her she she of su a r fo a   ild a a fou uhe gor say che to the and one sers she to fant ould fly the the on a the asky the ',\n",
              "  'roow of the alice he the it yhe tas thal it wo she on it ou gor alice she tas in at fem cat s h t dou a     gav a id cly she in it one wo vaid the the whe she and she yas the itth it the her he w t we wers and thing a t sge the the she the her and caseard likes yid so thou whe taid she the she whe it the a t con thing the it the in the a ske sass w',\n",
              "  ' whe thor vhe som on yery foorme the tharke hat cu the wese whe yhe the wo the the tas of  the cou it con ant the hat a the wery lon it at  the whe whe int the dad sat se sky and fr the the pau hed it wo wo pu a wn wers waid lere the the the the she the to ane co ts iere a ll the the to she yhe the it of ws did a t wrt in ons in cuhe a  ll wo to an',\n",
              "  'n alice thy wit terp and the the a t  t t ou the cod con fre vhe the whe  t id the nont the the it she taid whe  dint yers is whept fored on sasgu the wo the the she had and the the  a t a the the the sas ager don a wo the tast thilyn a   coing the it she and yo the tas a te the a t t we the the couing whe were yo the a t nt forer fader co whe like',\n",
              "  't yo a cat thed she lis to the the  t and fow whe she the whe the the the and the the the the the the one the the said don the su and yet were she the don wo she the the the of the it of do thing werok the and and be t agers co t s t t the wo it on the uhe so the the the it the all cou heror and fome cat and the whe thing to it the cat fiss cou  th',\n",
              "  'id int whe nok hery she thit in wit fu frot s t the said we the the she it witt so  vo fid whe gore ser he id the tases a t t fing ovr then aske cou it wat fre     t t  a w s ll she yo she and she the wely the don so the that the the taid the con yhen the a    licid the a t t fon yo and she the thing the the whe wo weror lot of fu ve id t t the uhe',\n",
              "  'cans fer it and a t and tt and on on the the the the agat the the the an s t lead s ou she asd the the thing the the the she the the thort a t t st it she waid a t alice serot the yhe shing fon wit whe way and and and ang it sie wo taid the yerse yhe the the the the way the the befuait the the they a it the whe a t the don and wing begis a se t sd ',\n",
              "  ' of t t and the the con here quh fu wheyn the and call the the the a v ot the the and the and the the and the tail of wereappe a ling whe the whe  t w t sing wo she the the the the an t  m ces is the it the on whing say and wo are the the the the tased of a t at vere thentlys it of the the one the the the whe por fon ande to fon wo the it to she an',\n",
              "  ' the yaid it the wo hent the wit co st sas the the a t t a thad to kise she te the of the the the vaid the not the the wert befut yerows shem the and the wo and the way we t and said a t ou the they the yhe the the of st and yerlant heres the the the han wo it in it yo she the the a n id and fom and the dor and the cu she uher whe one the her a t t',\n",
              "  ' the fing it oues in wne the the sas  waid befu the the don wo fot an sed and hent the and whe the wo the the the cu the it w is the the wo alice the the it the the sering lo she she to the a vhent it the heat id dn alice say it tere it on and con she it thee it and the on the the whe the of qt a t t mes she it the at t ss tay the she it cou con sa',\n",
              "  ' yhe tass the she the the and cou the the the a t t s the the  lit the whonow the to it the the whe she to the the the the on whe ther the the whe and it the the the yhe a w id con of alice the it and whe and whe the in alice to on it vhe the the the the the she a t mike out wo the she co se and thart whe the the the an ot ise cou a s ase the the a',\n",
              "  't dav ll she whe don loke fow a con the said vhe this in a in  the the the yere and the the the whe bee mat on she the she yhe and the fe wit the his the the the the she the co  whe the the one the and the con shen it the and  the at y t wr of t and be i t frs all ou tas fon tat ant and the and to and the it the the that a the the the she ws wime t',\n",
              "  'ou was one a con its its it in the a wce fonse wo heren the the cu she wit the the asem the alice and she whe alice st evs  t ant and wo and whe the sas the it to she wes the fot teat an t sd the in wit the whe it it the whe taid she be it  crot the cone whe wit the hant wo the it the  t a dore the wer a cet hers her it yhe asky the a dou it she a ',\n",
              "  ' fou to hav it sas beatt the he the  wit can yit of see the and  a d w astell sas a t an t t we thing the it waid and the and said the it the ortt suh and and the frow the she on whe it a   d an t t t a the the it she she it shis fon ase wit the thing the wit the the the a t wrt  t t t id and how ser the cor the lis whe it ine the be t y t fis whe ',\n",
              "  'stled mot the one the the the and the it it a id  the of so wren it the te the the the the cate wo the san to she loot say it the fre whe an s     y t  lice the the she she the the the and the a we and the the the  it and shing hard the she lu ev was fu he a ted the wit fav t t y all she and she the whe to     t flly alice the alick ine in she the ',\n",
              "  't y se the the to the she the and con asky a  nd t t yel an a in  in alare tas the the it that fu she the ant and int he t a cope uhe the the cou fered for whing the the to and whe to fon fow the the the s her she she it and and she a   nd ser the of t ye alice the the tay a bont she noo of con a t w w ant it the tas cot i t d the she the thent it ',\n",
              "  'he she the and the and she ase so thad the the and the the the befaid alice she the to fe t s the the and by t s m sd the a rd be wt com whe be the that she cou way aliche wo the cu she to it it the she yat an t ant so the that yo the the a t c sere it the he it and the at id the fon she yo the he a     hall a   t ale a wed the ther was an and taid',\n",
              "  ' it whe a dou thare the off the the the a      cou asas seret the the the she the and the it he and isow for thent the she the the and the yet in a hav on whe alice the sered  t ange then and the whe the a t id a like  the all and she the and the thar and said the of the a dere thes a t uhe the thing to the wit so wo anow the the it it the she ass ',\n",
              "  ' weryn a set in aled ins she  lice con she of coue tall  whe the it she the the was she to the whe the she the  the of the she and uhe wo ou and alice her the to her a it shes and the the a hatting the a t on ons to fot the the the the the the sabu the  bu yo and yas a the thon fe the the the pot alice the whe the thon the sas thing it the  gard th',\n",
              "  'ng she sass  wil im wo fon the wase the the and and and the a ple the whe pp the the it a w s wery on the and she su the the shas the the the the the the it so she she the wo is wero the the the on she it fowp the and the the the don oue the all and the that of ant and the nor yers it wer mowe cot heard par way in she wit all and and the a      t c',\n",
              "  'y a   s t on to cat ant con at id t       w w a pl yere and waid she sere she werted ru the the whe she whe      d uhe she  t aid and cad whe so she pu her the any  s w se she the     tse it her  the and the a      se a cet she saye a t dout a     y ant the whe the bet hers a t sting  it co alice so she a int it the donoke   t heat se se s t se the',\n",
              "  'he that a cow the it thing to so she whe a     spis the  wery welle wo hav t he plyn hat hered it alice whis the  con and the it she alice don she the the the she the the to hers to say n an imed the tule sit and hat and and the be st the the morot and and she the the a t t werome dou it  fu the whot the to to cou thad she as s t and bu thent the t',\n",
              "  'e fis was the ste was the her     t as w an sed waid and she fore whe att to  fit a dou a t t ou and the of cat  wo the yast the she and the the a s s at t an heat went to the it the the cou sat the the uhe whe the the thed sas the it the the thing ittph the ev was and the it the the the whe the the the the ant it qu in wo whe she all of ou it yay ',\n",
              "  ' whe to a the so it font the it sass of the a t an a frok tit it she a t an and so ev were they askes the we t ant to the its the  t  the thing beat the a t fess fore whe to a onit on the ju on the of a the the suse the fok it the she the the whe we w ted the the it she the yo thar the wo i st wo a tt she she sas a  ll an id he the wit tas she thed',\n",
              "  'the whe it it the werst be wite whe acat s t ske the it a t w ant and the the the the a cu it she and com a uhe the all the and cou fou rer whe alice waid went a t t t id sce a t t whe the to in ou she the now mowe the wo yeree the whe a pke the the it she and lis fon a beav w ant the taid and bet hed so and dont and to the it well it and and you i',\n",
              "  ' ou the yn she a s w t t we and sit she she she the the and t t t pn and  carer it the she the the a   tser and a   y t id cou than mow waid whe the alice  t t and wo it the a t fing  sd wer it it of t t t lll the to to she yit so int coue a t s a t t wers  they a t id con be n id he the yeraid she thing the whe we hat a  s t acon serot the to se t',\n",
              "  ' she shy sas the the the the yhe fant it and she of wering the it she lont were low that she and the a s t t d lle t se ws the the it the she welashe fe the fille thad sas she mot fon the it yay the and bege  dvt the thent in the fowre the tan in a  fise the the the lon and the i w fon it wo the cat and them at t id waid of the be ou  the  so the t',\n",
              "  ' taid yhe the the to the the the whe the she hing foree the to the thape ande of alice  r a the a w ou a   t id tall and      t him and md t a to the the the the they and ou uhe yherer the the the and whe alice the a skl the ce t t id  han the the the areen hers she yhe the it he t h t t s a thist shing cat mark the the lot whe and ande the a lit a',\n",
              "  'fou the she wing thed the he wo she the the yo the foow alice yhe the to sas the werom it a   t w and  the whe a w at w w doring sit she the a   fon and the taing the the of the and ben the the and wo toow did the a   fre thapl thed sas what the the she it it it wo waid thing and  con the say con inoke a the the at t an t s an t s alice yhe the the',\n",
              "  ' cow it the the ev theyte whad the the on she hers befle and the and lit don it an t an t t t t t sd she the the to the day tt the yon she she the to the a t id the the sais said the abel yit it she and one it don  cou aboule on the to a t ou to the the it it and the what he t we it she yersle the a t a bou a t ou yaid in the to it she the the low ',\n",
              "  'and wo thon so ase a t a cou the  it it at id sky she the the a lice the the the the the con the a and the the and she ant the the the were whe anow and the and said the ting wo wo was the he the and it and hav the the the a sd the it the frert and the a oner it a tt the the taid an at fer the the the         t tting the don the the and in dou the ',\n",
              "  ' shant she tas at im the she the the the a t tt coue the so so the so she sass on a it the the the the wit wo the the the an t s and a i t wase the sping the the the then the whe the the so the cou wo ler a   nd her to of ske whe wing the whe wo it nok on yill it so my the she the it whe the she thon yere the way the waid wee hed the tay rering the',\n",
              "  'eare the had then the alice sore her she of the frey com it an w cone she tas and the the this the the was the the fot she the the the taid wit and the the it a the the she he s t s be t t the wed wo wo whe and the and it it of s here wis qu wecu and the it she it yet tas and on be t  t id s t a dot whe a t y n wt sit the wering the wit in ont and ',\n",
              "  'he the don to the the the whe the the the the a t t t w skyst waid the thate the thent and  the heart a cu he skard all dont be t id the we a vhe a it the the the asere yell she wo whe the the the the so on at fet the of the she cu cev alis she a t y ou the bu t t t fo a an t fat id alicu she noke wo hers to one she taid to the ars vhe caskes the w',\n",
              "  't whe so and  it it it she yhe the she yhe coners and and the tay shad the the be wet the andd the qu of t fe and the and the yay on the the wo and the we and the the the beat the the her she the the the ly that whe the ly a whe pu fing it she cut the and pe we a   t id the     t t t t the yhe bes the bece cat werme she the the thing whe of the and',\n",
              "  'e she she a t id fu it a   favt in int and an fan ou fu of t ant and  the the sall the the whe she a   t at tt the it it a   bon it whe wit and the thing the the the sass     t croot the the sp an on said on and alice on a the wo a tis the be t a lice the the she she the sas sabt a tay wo fon as t t we a t v all the the is fraid the to thing wo ant',\n",
              "  'v she cou the read corent a t y werte the she cary the frt moke lon the the she oned a t on the whe raid not whe the whey on alice whe taid mot of t one the the this alice wo and beat t w t s id wo wo all ase the a the the she werent and so the the cu the the she the ca t her she of at ast whe ons she and ras font fo a con in whe in dou the  whe of',\n",
              "  'on it the the the the a   t on the the a t w we whe and wo st the thes fou it whe yithou whe it belle allle the the char on all wit the the  caid the the to the said the yhe it at y sd the the sas wo id t uhe a we t an t gers asd a sd t w ut the hopow ser terd     it thed the the yhe the she wo  wer she she she whe the the the alice whe in the the ',\n",
              "  ' and the taid the of the the way it werle lote the the and the a t sd ev is con it ferer werpot it it ase the the the the and the a v a nd cou  yit the whe the it whe the pu ple a t in it the she the the taid whe and the the she uhe begat ant at otle a      bou wo the and wo a         tte a t se the she the the wharke and she the alice yhon ant she',\n",
              "  'yes and so she whe the the and whe so all yent the the con the ons a t w werrent a tt she say the isers wo the st wo the vo of id we whe the the the the sie to  the and and the     s t ple and the she the the the the the thont fe bet the the the the the and the the the so befing now whe the it to id cet a vhe the fong the were the wo don a t w t in',\n",
              "  ' the begat a the of the whe fon and whe asd whe  nd the ce t a  stle wit fad tit she the she the tome the of a   forhe the yen werim the goot cou cat t fon and a t w and and the alice and and  cow at t a the on the a t  the  on a we t on she cat in the she cat id the of the the it the as a    t t w s om to the she anows     ge ou see ras the it and',\n",
              "  't t t w a sd s an the a derm a t t t id the the whe the the whe the cu w a the and the of whe she agane a t id see sas whe she thard the yhe the on fore the yit wo the the yo of the whe to it and and the the a t t le ang she whe sev so qece it the a cat t and wo the fers asess the the in a   t s y ou isse sas the befu it it the uhe the con yee the ',\n",
              "  'tt she the onl onoring yo and y a thing whe whe  ant wet the tu she thing dil yhe taid fat an s t t id wit so the said qu the nay the the a wsowse fou a nd fere the fot wim the wo she the wn a   t fe the it and y t wit the tit she one and thar the wo and the the wit he t t med the a t t s t we in on the this in and the a t t u w t t t ou shat y st ',\n",
              "  ' the wo the ase the a   s ou alice the of a said wo they a the the  sd and begat fit yhe wo in wou it to it so fot of ws tay and ca t t wing car t s the and and thare this the and the the yo to the it the the the to it a     lle so frly the it one the  t t t t t ou it she the the said  tt the she the and jis wo wo and the to the thed the in the wo ',\n",
              "  'e it the bet fot yere whe eort the she the du id t y an t an frle the she the the and the the way rot the the the said and dore we cat ske the the crt the she the one in to a the  ll yhe thethe she whe serping the the of st of whe the the the whe the the the the tite cat t t t and  we on the it it it yo and you it is a ses the she the thatt it and ',\n",
              "  'he yo she the wo shing in it he id was the alicke the sat yit the the a an t t at wed the a      she whe whe an t id the and so the so       t ou wan yo on the dav it she the  t t alice beat yere sas whe to it the the tuld is it the the a cou don wab said the the the the the fole wit to cou and the the to one a t we wasle wo alice the the a cet the',\n",
              "  ' and bee the the the  t s the one the thon she saing of whe that the wo were rhe yan the wo an bu the wo alle the yhe a vhe she and tays lot the she awed but it the fon the the the the the and the the seres hes the the thad the the the the the he frok thon a  t t t a cu ther it hes the and whing said nt and crly ime the mot fot she uhe for a w a th',\n",
              "  ' t t wit and the the nom and the the in im to then so so to the the the the wers a t and the and a t and out bu t a here the the the wit the the the taid the alice the of thed waid the i t t id an cew to a t t a yhe the in shen cus and the mot the the the con  inght of s afore the fon the sete that she the the lon bid the alice  t t t t se se alice',\n",
              "  ' sim to it yit the to the a t so in she the the and be t at waid art alice the  an a dise it on the the it to it whe were the all the fasst the wet it cou frot and it the was thing the to to a    t t her thes wo a abe t all ro fow fon she the i t t t t t t a yere will corerenthe of pl on the the the the cou wo it thee were the ev and lit and she an',\n",
              "  '  the  t t s t id the whe the it don the wert it thar the the thav on was the she wit wo she ther alice the she at n ying the she the she the the asere the heat the the it so the in thre yo isily she the wo the the the of a the ou it a the a   t ll nd the cat t ant yim a sed said thing the the to low re w ou of whe the and a it this a     it mok fo',\n",
              "  'h the and bee she the a t an w t t y ant that hast it it heas whing the at ant  and this fere and on the said said wo whe come su so and he the waid a      t  t s a pl the con a it they se alyerow serok the and yaid the the the all and tas the of wing i se alice the and i id fatss the tas wit she conly herte whe the the it the was the the it and co',\n",
              "  ' the say the the the a t se yhe it whe and begat a yay whe whe it vas and onen a t w w our the ras was bead that  ted pre and and she way pas the the alice she  we id w steed on the alle yo whe the the the wit the wit a t w sky it the mok she way to id the she ally it chard the she the said suly the  it she the to wer it the doping the a t fte you ',\n",
              "  'e whe wo t wt and the to it tor con vhe shing the sem in one whe to cat dou wers the said the wit hat st had sas wer he t antell a the say she wit abon to yhe fis fid yo ait the thes whe sasery an y u ou yas the lalf the to were of wing be t t s id thed a t her at fell he the she the of the the and to the yhon the a   t on the the and she the being',\n",
              "  'not got and whe wo it int it of we the cov copt in it and and the the whe the the wesse and the the lot wo cat as t t fart wess yas a   t asch the the he t y in alice she so fry fis ey and werm the sass and the and and the cat s t vr fis and ou dim it yo id the whe on so in the carch the tasse con a yaid and the whe a d s fu the and the the cead th',\n",
              "  'o the a srt the rery therse way sayle chad the werot cout  the the the a   car as cou at tte and said she wo the they a on the a t t be t h with tas cat ouh i s sen a t t t fe whe tasse ou and pl yerpot so the wo whe the the she the and fre the tay alice a t des alike forn  ske the the the the the and yo a fre she all he t t y oue so was yerow the ',\n",
              "  'wo it and a don the they she the shed the lo it the way cou she the the was in ou nort the the so the be ce  ling wer be  t she the ste a v fis frle a sd the the whe wo and the beft the she ser and a w a in beat t ean t ou we t sd the but the the the thathe thed she whe that by she uhe tas im the yhe it the a plyce bes tat she the sere she vie so a',\n",
              "  't and thing a t id yhe sas the a   w st fon whe it on his yo and the the du wo the to wo the on you thare the she bll she the the waing it the it wo  it in whe the the whe the be t id teat and the a       w s a con and a t t t t he was wo she cu were the she the the of sge casp the wers thad the she and the the the itt the the das ont ont wo whe et',\n",
              "  ' the fou taid she the the the the they the fow so he we her wert she whou a   sky ther te m t t alice a it ray the con it she the the i t fou alice whe con the and crok yhe the a  t in waid thatt the the moting the the the the the raid the the it and then the was vhe yaye the and wo thed say of w t t befu        cow     lokd an ss fou ise bu alle s',\n",
              "  ' the she the thent cor she taid the the rean the saad and the the the the fis and wil taid to shor she the wo the that ting the the the and sed it wit he whe the so ou to and the the it and an s t u an id asd and it whe the we sp don fing the alice the thou a cou nok the she the begat we the the yit so wo the so and yhis the she and on youle hes sh',\n",
              "  'ow goly wo a the to a don sas wing the alice yo she said so ant a t the yas wo and the shed the casd yor fu whe a t s a ll he t on the  an whe did the thark and the the the and  on dou that and wit the yaid fes it the the it on the the the wo alick the the wered con her the the the the a ant and whe it a   it vhe the uhe co fat we att wo a the yhe ',\n",
              "  'n yhe cou a t ant alice core she the to a the to the the con tas this the whe and  bot the of ple the then the and the it the wing it it werots the wayp  rt it so she jon wo id y h the tt to the tas a t at id the the a a t an a terer here the the the alic itt whe the the the ro lard yit in the an id the she they font she a t s fow con her the the t',\n",
              "  't anot of a the wo fis pit lont so an his whe besp the a t t it con yat the and the ant wo all the she the wo and the a t fon calle the he sd ou was alice a     t t tt ageat werpp and the the the he the te tay and the shis whe not one the a t hish of the yo wo s w an it the his the the the it she cou mot re yerait the ad s w alor yo on dou the the ',\n",
              "  ' the yit lall wer uhe con and a t s a r t id t t     t ut an a the wers a a t y od the the and yhe in alore she the the of alice qu the cuhe the the whe it the the the and  yas to the the to it to con it yit wering thing yhe the then fon to wo and he hery wo her wer at all a sp on an and and whe  ou she the tay a cow and at t the gry a     we a t  ',\n",
              "  'e say she waid the the the wile the she wo agant and  the thing the the and the was an id the asion the was at t te id to and ou it heat a   me we see aid one and it thard the thed the wo the whe the and the  a v s t sd the the the a t t whe it it and she the whe and he t t t w the in ded an w t he sd hert a con at s t frp sabe the what is and on  ',\n",
              "  'g not to the the the com she in she  the thers and serme  nd a s and yhe the ver foke sas the tay it the a the whe it more to the a t h whe fry alice it so she the in the and seas ou mok she a t w sge to wit of cou a it and wo wers of d yelle the lo the of in it how cou perorn a t t were whe it the the wites it  it of re the it the she core the so ',\n",
              "  'he the whe sas now the the the se waid whing of taid the ther  ou the of alice chat wo the to whe a t id sered befy the the thing she led the she be ot the the she wase tr was the hee the and the don thard a fl an t id tas the and on therys so a t d the the it the the whe the sed it and ant wing cou and co his alice the don    t id the the alice th',\n",
              "  't yet the she the     bou waid the the and on and welyst the the the and the wery wo and the the fis the she the it on the the it yhe yhe to onaid she the be id tt it dou it the   lice the yhe to and a ll ong whe red  t w s ou and it the she then it a   s id the the alice wo the yile an s st the cou and wo that the and he t t ase then the werow hes',\n",
              "  '  id wit the shen and to thing the the the the the moked taid a onle on the wing to and the say the ru  on alle cou the fou it the to werm on the knt and the can t t for fort he on hall abont low the the  anto yhe wo then she dou the mome and i all she whe the it she then heav dan t loow of and she she taid the in a    ll whed she to  the the hery ',\n",
              "  'e alice it she thol and the the whe thon yit the yhe the con said wo yo sing qu alice thr tas and the it hat her qu all  a t t sr a nd the in she a ses it the thepe it and the yere the said the seat and the the and the whad the the the mot i h it the the it the the the a v on the the sas the the the the the she that taid on thont the so the thed th',\n",
              "  'r the the a t ont thert conght she one  wo chav were she a   t a the the the  sd in the she the whe the the do she the shat the the qu ev fiss the wat the the cou and hat fon this the cou a t fer it seat the the the ny and the ealle the of wo the the the tu fre one whe the and ply a t t the the  t t sky and so and it and the tas it whe whe the she ',\n",
              "  'yo the and the the it a t at antle moke the whe alice and the the she she and cat sd a t sge qu he t v an t an in the and i tere and the whe at a ll he the the the she he the she wo yo it and a t at beid she she he ared we yit of wo wo the the pu wit the cou wily the the the a pn st the dou ev it a   t t asd a  nd w y h w s the the and she the a   ',\n",
              "  'ce wo she she the the the the vhe a lle the  t t t t he vo nee the the the and whe tas the and he wece the far js whe carhe  tt the fow the the the a   t ant  gre the ant the and the and wer the alice sas the the at det and her in whe it it a   red wo her vholor in aset so and tas wont the she tim the taid of the a se the the forrt yo the fer a sk ',\n",
              "  ' it fone whe thousle wo in wo it to the it so the the cou fom it and qply her a t y sge toute the the the she in the the waid wou wase whe dons a t ut she it the it rt a ance to in so a it it a   t t a    s on at s ant the said the the an is of the the she wo she ther an ou whes of t and the the the and so me  on sas fou beging the an t as sery tha',\n",
              "  'e a   t w all ant her and the wis said the whe ar y alice fin so  the yhe  whe groke the thor the they lit she wer wo whe wee the the a don and the yit spot say the whisst  wo laring she serp a     lice wo the wo of s t t n he wo rile a w asem begare the dor she the the the the whe the the on wo thed a t on alice wo to on she she se and she sit so ',\n",
              "  ' thise so whe begatt shon the cou pl the be t ce t wch an werle the qu to on font so and a tse of dou a t h ske she she terow the the to so in wing any the a t t a whe  wo it in it ther asd was feron a t t wit not and anow yhe a the her whe gas irot eid sas it she the and but the whe heat and sas cou the the to on the and to don the ras the the rer',\n",
              "  'a  w fer of so the whe thes the the the the say and the whe the she the the seat the tas the alice the  rl wit whe cand the were wit she weris she bu wert harke the come the yor to she a   t n s her for and and the the the the nome she the the the taid the  pd ou s frow whe it the she the the the  in thing the ant wimey of the tas cou the the the t',\n",
              "  'r a t an  t  yerm it it it and the sast at     t t isee the the she she cou whe the rit a whe and the anon tit a t s the thing the  t t he she yhe she thoned  t ly and and and the eou the she the the the to thou the an t the and sit and tay re the the the taing in fon the whe and a    t wr she it wering the wit fom yhe it wo the the whe com on shin',\n",
              "  't t on it anory and the and alice the all she wo ou whe frse the the did cesseases the a t fu it wo frot fit it the the is and were wo tase there she sent of ims in and the wes she wo the the hed to heart  nd the cafing the she and the yaid and the say a   wy the the the the alice the so anot to the st a   it se s lit anot of bee ys the they the th',\n",
              "  'ing the ferast here  don mere the what her it the she than she she the to the beat ple the whe con thad frp alice yo cat t id the she taid caple alice  skar sit the be and a cou she it uhat the the on the of witt a a ferows in ithe wo the whe con the it the the thed yhe wo the she she a whe whe on thard the she all witt the sas it it tit fat the a ',\n",
              "  'he shent she she con fe t fot whe the the to inok so the wo fad and the it athe a t t ttes alice it it wase and so dow it dorr tass thing a the she whe wo the it ou lor yhe the a ses a   sas an id the werow asd the bu and and wo a ske a con werm the yhe the the don say a taid r a    t w he sky a t s a d and the  t t uhe the all fis she whe yhe she ',\n",
              "  'ome a      t t sle and the the cu on i yn thinke the the and and st the a   r and onthe ande and wo the the so  she she thars wert the and the qot the pu wo the the  wit ant she it the and it the whe the thes it alice to a     rem the the whe the the we the prs the an t is sas the it thing the whe con st acou it intld and and coue abon it a wo the ',\n",
              "  ' don fing she the whe cau vhe the and in ss the it the the she uhe the the alice ot on the so the wiou aserse dou and ther the the the rkl the  the the yon of weror pu he t id pl fad ou fing she the she the the thas all the that the sas for wo frs and don whe mok the yo werory yhe a t st anv whe the wo is the can id t fou it a t t t t aloke yhe the',\n",
              "  ' weryt the it tay int ayeriou the hale tor bent whe the a      t t a to le the yhe wo a   t an ant an sd wo waid the the yed ste the the she that it the the alice so a t s id id the she the a t nter whe now a t st wo at s t t alf whe and say the a t a the   t t we the thad wo whe whe we a the of s all all the thore the sas an t s the said the wery ',\n",
              "  'ill in it she the wers it the and she the wo it yered the wo she it wo and an id t s the cot taid it she ce t don the and a sely and yhe the fis the a se we ss the the the lalf uhe waid to wit the it she fiss to the whing now fou fory of a it she the acore an t id the it wrte and the the and the the so yere they isy of swr she the  t ou ooking she ',\n",
              "  'it low  in uhe as a the the she dou and at fir it whe the sas it the his shore the the a t at at yerot wo she fre the the the and the the the and dom it don the of it whe the it it and the she a t h foly shes and all a   v ant in and the whe and the ser wo she she asd the and yhe the the at a the he the it the a one the the she the a nd  come and y',\n",
              "  'a dou wo fows a t antre whe the fe the lor dol the the cou wo the at he and a t sering the yaid befu the the     ante     d t w d the thile a      w t as ou said  y t a ss fathe ting a       w how ant a ll it a    t t se charke and a t s t s st she the this she her alicerpu the  t bu seat a   lice a t ts a t ant she the the whe the the the wo is al',\n",
              "  ' the the  the the alice waid the puing it and the the fome wo uhe and thing say whals whav whe the  it frice yhe of cou a tr the cots and to she     t h dy the whe a   we id rere the and and the the fow taid this whe she ring ou and the the lom the so the a t t and so wit the the fore the the the sas the caid the so her she the con she hent and a b',\n",
              "  'd the the cou the     lice the wit the alice tharge he the the the the the on the the sar ant and nd s a the whe the wo wo as bu at t t an     se wr than the so fre be t fonen re the she and the it he sky the the she the to she to and the and the con onl she a re at t wch the the  t id an t an this and the the wo lee  s ar uhe the the whing gayent ',\n",
              "  'oke the thing to she whe the fou it heat the it and cow and on she the was it the the the said the the the whe the acere wo fere to waid a t s t t an t ant she it and and alice the ant lottlarering the con the at hat ts and the nont head the thon a t y se the the the se the the whe she wery the the a the ou and and       cuhe hathe the the the moow',\n",
              "  'as t a   sere the all it tp wo a d t w id it to whing  the and  so it the so the whe and whe the and the ou the said the the whe the whe of to vhem the the a t id her don it  the the whe and way her yo id vhe and a   t w here it and see be ant and thed the the belit yhe to wo the the wit to a       fear and thers the he wook then a the and the to a',\n",
              "  ' yit a t t id thou the the to yerle the to it the alice bead it and  st bet she and the she she she she the fooke sers wit it wo don hart of and and s w str she the the it she the she  whe the ches the whe the whe the of st frd i id a yo say ex whe to sas we the tat the terit the the to and the asmay od and the to don     t fer mok the shade it cou',\n",
              "  'ere whe the a       t lalle hat it and and a t y fis arp in a alle the a t y ance tt she       sd wit the dou it the the and a t t a the and the a sd to the sas the the and the the the she to she the thent she and the a vhe the she it the it on whe the ance it it a t t ant frs said whe dongute be sd a t t y hed the now the fow the tp antle the wo i',\n",
              "  'the the two and that so the the the fing lok the thing lor he at t t and and it the a ye taall waid the and a w t were a the teat lle be t t t t fery yhe the the wo yo on the whe it and eay ast the sas whe tay wit thio yhing yo the whed it dont wo sis fre the thay and the whe het and and she the wo be lle taid the terot serov she and wo sas at a co',\n",
              "  'e to it hers mok it the the the it she nor dit whe wo wer the whe wait the ris tas she ple whed she tais the she the taid of he whe the  t a the wo all the on yhe of the the whe she fon that the  t h s id that the the the so it a   sd the ser cat and the on all on the the then ans alice the don the aliceyt wo at s sd to whe the at a   sd vt the the']]"
            ]
          },
          "execution_count": 52,
          "metadata": {},
          "output_type": "execute_result"
        }
      ],
      "source": [
        "results"
      ]
    },
    {
      "cell_type": "code",
      "execution_count": 53,
      "metadata": {},
      "outputs": [
        {
          "name": "stdout",
          "output_type": "stream",
          "text": [
            "Predicted text: hog a bould her way all the said the door began seemed to say  how the fardeners it as the cat said the cat said the queen was said the cat of her the duchess so be a cone down and she was now and she thought alice in a little and then the same the hatter and the hame of the said the door and she was noly know sook and the was the did not peally i \n",
            "English word rateo: 0.9240506329113924\n",
            "Unique words rateo: 0.5569620253164557\n",
            "\n",
            "Predicted text: first sole she rool and the way what when the conversation all that all she said the king and the cat said the mock turtle said the queen was the said the door she said the queen and the rat the same the trembled her to large bear dining and say what the rand the mock turtle said the right and she had no the said the dormouse not in a vords was tha\n",
            "English word rateo: 0.9594594594594594\n",
            "Unique words rateo: 0.527027027027027\n",
            "\n",
            "Predicted text: ch a little said the cat and she was not at all said the cat  i shall you what ill have a door as the room and the pigeon and the sabbit and and the asked  i dont interesting in cone alice was said the mock turtle seen the first had not said the said the gryphon and the skates in the soldiers the said the queen  lice was a great had been a         \n",
            "English word rateo: 0.9459459459459459\n",
            "Unique words rateo: 0.5540540540540541\n",
            "\n",
            "Predicted text: g said the mock turtle  alice round alice haster alice in a said the cat and hand and she mock turtle the dormouse the thought alice what they had not at all said alice round eyactly as she reason the hanced to alice alice will you tee went on siz she gancing and wanted to she dormouse said the first perhaps the mock turtle a bried of her of the mo\n",
            "English word rateo: 0.8169014084507042\n",
            "Unique words rateo: 0.5774647887323944\n",
            "\n",
            "Predicted text: ust she what she had sather was the could not said the dormouse shing she rat to the same the dormouse she said the mock turtle in a lock turtle had a fating and the was a little said the dormouse alice i while her hand been and pastions in the same the mock turtle in the went on said alice alice all drown and said the mock turtle her a mittle for \n",
            "English word rateo: 0.8904109589041096\n",
            "Unique words rateo: 0.4931506849315068\n",
            "\n",
            "Predicted text: eemed to poooop and the mock turtle you say the said the dormouse said the mock turtle in a birds it her head to her a food so the dormouse said the hatter i ceat looked alice come of the thought alice with a little hardenerent that it might and she said the king the rest of the dormouse she mock turtle be she others began mow that it was said the \n",
            "English word rateo: 0.9166666666666666\n",
            "Unique words rateo: 0.5555555555555556\n",
            "\n",
            "Predicted text: t had added and then they had a little down the baby and saying to her fardeners the same the mock turtle said the mock turtle drown to her said the mock the mock turtle all that well a little when i get the first and she rat not a little and hand again i dont said the mock turtle began said the door gold the mock turtle  a  and so tee jus hairence\n",
            "English word rateo: 0.9459459459459459\n",
            "Unique words rateo: 0.5405405405405406\n",
            "\n",
            "Predicted text: laa   becausiortunid a little before said alice thought alice and the jusy and then they lade the dormouse said the cat of the others was saying  you are said the mock turtle the mock turtle it was a disher and alice could its head in a long and not said the cat and the said to say              the pool the whiting and the fand that it was a large \n",
            "English word rateo: 0.8840579710144928\n",
            "Unique words rateo: 0.5652173913043478\n",
            "\n",
            "Predicted text: g so say what it was the court and sure the dormouse the mock turtle it and she was a bone to she was to the fardenerent the shough the queen in a little she first were frown the what it was not much surning to say the same that it on and the thought alice so say in the hame the dormouse when it askeep and began a little of the thought alice in a l\n",
            "English word rateo: 0.9090909090909091\n",
            "Unique words rateo: 0.5064935064935064\n",
            "\n",
            "Predicted text: ith and the said the mouse down the trial and was as last as the mock turtle  the cat of the first into she said the mock turtle  a courte of my life one had louse as all she archbimed began to many little botwered the poly and alice alice said the duchess prouses alice in a that alice what was she dormouse  the mock turtle first for it and then al\n",
            "English word rateo: 0.8611111111111112\n",
            "Unique words rateo: 0.5972222222222222\n",
            "\n",
            "Predicted text: and was going of that she appeared the mock turtle and come or and then the way where was a freat way and the thought alice as well you would have her way in a little plared the march harked it was all the door the mock turtle the said the mock turtle a sather it said the cat and the thought all that she whole been had said the mock turtle alice wa\n",
            "English word rateo: 0.918918918918919\n",
            "Unique words rateo: 0.5405405405405406\n",
            "\n",
            "Predicted text: lice began the dormouse  large like the mock turtle to the waited the mock turtle and the hatter what it was all that down said the conclusion the duchess she said the mock turtle reply as it and she gryphon reply  the gryphon replied to the said the mock turtle the whole hardeners wandering if stiful she mock turtle replied alice  i she cat hive a\n",
            "English word rateo: 0.9393939393939394\n",
            "Unique words rateo: 0.5454545454545454\n",
            "\n",
            "Predicted text: and that all the pool the words and hand that it alice replied to her she particular seemed the cat and said the mock the conversation mad a long deal to lesself she pigeon half called to her said the cat and the mock turtle seplied and the mock turtle of sight seemed to say the first and the king the dormouse said the door the began and then the c\n",
            "English word rateo: 0.9577464788732394\n",
            "Unique words rateo: 0.5492957746478874\n",
            "\n",
            "Predicted text: s a minute for in the said the mock turtle when she raid to her head thought alice had not like the door and the was a good that she had not loutemf and she shought alice remarked  doning that sather the duches head said the cat or might the ranther now said the dormouse she dormouse and she baby to her so you taid the king and the same it more tha\n",
            "English word rateo: 0.863013698630137\n",
            "Unique words rateo: 0.6301369863013698\n",
            "\n",
            "Predicted text: tle had not loud alice reply as it had not and shought said that it wat the same the mock turtle and the was silence  alice what i thought alice  alice so her every any much as the said the mock turtle she hame of that it was said the dormouse ro she felt she rest of the same the dormouse again and she rooces of find she first dare cant in the subj\n",
            "English word rateo: 0.8648648648648649\n",
            "Unique words rateo: 0.5675675675675675\n",
            "\n",
            "Predicted text: u know said the cat wery glad the dormouse again in a thing alice as the same said the mock turtle what it was lore and was the said the mock turtle drawled the duchess and then they all was only because in a fay the mock turtle  alice court but i never where was a low said the dormouse  the mock turtle she said the roof of the mock turtle fire sai\n",
            "English word rateo: 0.9452054794520548\n",
            "Unique words rateo: 0.5616438356164384\n",
            "\n",
            "Predicted text:  alice as she mock turtle and the season the mock turtle she bester playing hear her the words were she mock turtle second sharp make out and she and the said the duchess the sea and said the dormouse said the cat alice with she dormouse not said the lock turtle the cone of the soldiers what it might and the gryphon and she said the dormouse and sh\n",
            "English word rateo: 0.9420289855072463\n",
            "Unique words rateo: 0.4927536231884058\n",
            "\n",
            "Predicted text: alice so she shought alice that she had not mouse with a sone the went on with the shought alice semark she was of the harge like her head that the queen what a cone of the said the caterpillar  how said the mock turtle for head it the right said the mock turtle said the dormouse been the wat  i began and her a little in the bestainly semarked alwa\n",
            "English word rateo: 0.8309859154929577\n",
            "Unique words rateo: 0.6056338028169014\n",
            "\n",
            "Predicted text:  said the cat one seen the had not and the execution the dormouse in a fay and speading her and more it was a hood the rest was so the same the ling she said the hatter seemed the remember half to alice so and then the other wery because all what it might so players the same the jusy was the was noce in a deal the conversation her head it and said \n",
            "English word rateo: 0.9324324324324325\n",
            "Unique words rateo: 0.581081081081081\n",
            "\n",
            "Predicted text: one of the was no not would and seen she said the dormouse for said alice the dat of the baby and began for eye a little she mock turtle down the soldiers she dormouse she dormouse so she poom and she lock turtle  a beautiful said alice invever and the could and the wat now and the sight help about to be said the little dorgout she first so the wan\n",
            "English word rateo: 0.9027777777777778\n",
            "Unique words rateo: 0.5555555555555556\n",
            "\n",
            "Predicted text: f said the mock turtle in a tort of the sight said alice alice course her and the mock turtle the dormouse she was now and the first and she said the hatter when they were me perhaps in anything she was a dear is was a ping and said the mock turtle the dormouse which was a king you see said to that they wou are you are you are yet the sat said the \n",
            "English word rateo: 0.9605263157894737\n",
            "Unique words rateo: 0.5131578947368421\n",
            "\n",
            "Predicted text: d was looking to alice have that it was the same the other the cat just to the roldiers was the sight sound in a little down the door and the thought she sooke alice in a large could her some its she said the cat i have do the way the mock turtle its the mock turtle the window the went of the shought she said the dormouse inte and the same the foot\n",
            "English word rateo: 0.92\n",
            "Unique words rateo: 0.5733333333333334\n",
            "\n",
            "Predicted text: rds with a great happened the door and then they bot of the sable said the dormouse said alice what  i should into a qing the dormouse she dormouse gow in a ming and the was teen the roor little of the thought alice said the mock turtle alice sing and that it was to herself  the dormouse in a freat made a fay in the pame the queensly i should said \n",
            "English word rateo: 0.8472222222222222\n",
            "Unique words rateo: 0.5833333333333334\n",
            "\n",
            "Predicted text: t be not mad you are you makesty that it the others was all that she hame the procession in the tame was a conversat it was an offended it minutes alice sill you know what the cound and the mock turtle the mock turtle said the dormouse so said the mock turtle her in a latter way you cont said the caterpillar and she bross and was dont know the part\n",
            "English word rateo: 0.9027777777777778\n",
            "Unique words rateo: 0.5833333333333334\n",
            "\n",
            "Predicted text:  minute or to be a   chapter way  i the mock turtle said the door and sooke and the baby and all the mock turtle said the king said the hatter  the rabbit and the other the hame of the court and she door them the rabbit said alice did not said the mock turtle how and the sabbit it might alice a little said the mory the rea pound and alice began was\n",
            "English word rateo: 0.8904109589041096\n",
            "Unique words rateo: 0.5342465753424658\n",
            "\n",
            "Predicted text: d the door began in a little and the execution she was going to the could in the thought alice as she said the duchess and alice in a timple the subject the way it was so wine the same as she surned the mock turtle give all the was not and she said the dormouse she door and shen was a minute and the mock turtle put head so she gryphon  a  beautiful\n",
            "English word rateo: 0.918918918918919\n",
            "Unique words rateo: 0.527027027027027\n",
            "\n",
            "Predicted text: at was a disect it and she said the mock turtle to see it any more the door all the gace what it made the doown and down the hame her she fancy and she best in an i that a little mo sooke raid alice replied in a peck and the mock turtle so lind the mock turtle into the duches and alice  what you want the mock turtle like the little and the party sa\n",
            "English word rateo: 0.8701298701298701\n",
            "Unique words rateo: 0.5974025974025974\n",
            "\n",
            "Predicted text:  and she trees to the court and conversation when she mock turtle a little at the harks the rabbit to the found not her and said the door she hame of the sat the same the duchess and wandered the door the coubtfully for the mock turtle to you said the dormouse in the said the hatter she said the mory and the mouse and she court and went on sight sh\n",
            "English word rateo: 0.9583333333333334\n",
            "Unique words rateo: 0.5277777777777778\n",
            "\n",
            "Predicted text: he sabbit the dormouse said the mock turtle so her silent alice in a great hury as it and she had not cont the said the king and alice what a procer down her head it it she dormouse so the first do you know what the could not said to her fart why the dormouse as the mock turtle about in the did not lives she queen and the mock turtle said the mock \n",
            "English word rateo: 0.9333333333333333\n",
            "Unique words rateo: 0.52\n",
            "\n",
            "Predicted text: were she said the mock turtle so the thought alice in a hood a little while the remember and reply as she was jooking all the said the gardener and was now and she said the three gardener the mock turtle her face to the first was seemed hare  i down as it was the doot little and the same the mock turtle seemed to see it and the conversation alice t\n",
            "English word rateo: 0.9444444444444444\n",
            "Unique words rateo: 0.5277777777777778\n",
            "\n",
            "Predicted text: adestainly semarked the queen with a surn in the rame the mock turtle  the mock turtle inttance to alice did not at all the said the queen the had not like the way all the mock turtle reply should have say only and he did not like to alice round and the dormouse again she was so the cat and the was in the said alice went on march hare  you she cour\n",
            "English word rateo: 0.8767123287671232\n",
            "Unique words rateo: 0.5753424657534246\n",
            "\n",
            "Predicted text: hed the mock turtle she conversation alice very seemed that it was a distal of the sime alice to the thought alice i cant that all the door be in a little she hame of her seady to tee mock turtle to see it so do you ling about a little before said the dormouse in her fire and the dormouse     chapter all my life the dodo in a little or two so she s\n",
            "English word rateo: 0.9066666666666666\n",
            "Unique words rateo: 0.6266666666666667\n",
            "\n",
            "Predicted text: thing to say now an are the cat in a said the duchess at the mock turtle replied at the was now and she dormouse to and began cont know what it mustered her and that i should thing of the way  i cont know and she said the mock turtle beain and she said the mock turtle seally said the cat and the cat ought in her lives seen the same the mock turtle \n",
            "English word rateo: 0.9733333333333334\n",
            "Unique words rateo: 0.5066666666666667\n",
            "\n",
            "Predicted text: ed to two said the queen what a rooke down her and she same the queen which said the cat and the orooy what she court and seemed to alice began the mock turtle replied all the thought alice  i cant if you and replied the said the mock turtle so lie the door be a conversation the rabbit wandered to the dormouse for head in a little so say the grypho\n",
            "English word rateo: 0.9305555555555556\n",
            "Unique words rateo: 0.6111111111111112\n",
            "\n",
            "Predicted text: all more and the roldiers  why the was the dormouse the ress of the first were the mock turtle  the cat and reply a course thing make the duchess she thought alice looked at the was to make of the thought cone she dormouse  i because in sone alice  dont and the was said the mock turtle to sing the dormouse went on said the dormouse  the dormouse se\n",
            "English word rateo: 0.8985507246376812\n",
            "Unique words rateo: 0.5507246376811594\n",
            "\n",
            "Predicted text: to and the mock turtle so the mock turtle the dormouse said the dormouse so say the same the foot the duchess was the arch the mock turtle she was a minute into the hanced her chin had howing of the ganced to see hame the liddle hand and said alice in a little she others alice round again and the same thats all she said the mock turtle and the baby\n",
            "English word rateo: 0.8888888888888888\n",
            "Unique words rateo: 0.5277777777777778\n",
            "\n",
            "Predicted text: want you wont you wont you wont you wont you were said the dormouse the same the mock turtle her and the mouse gow the way what a crowd into the said the mock turtle frown and so the door the king and the rook and the was not like the roldiers what you want the first was the said the cat it and the was to say the thing you say the said the gryphon \n",
            "English word rateo: 0.9605263157894737\n",
            "Unique words rateo: 0.4605263157894737\n",
            "\n",
            "Predicted text: l the mock turtle surning to she executed his head doglished the first said the dormouse  the mock turtle a sort of the mock turtle to alice said the cat her like the cone of the same the duchess it so she said the mock turtle so see that she mock turtle and mow the said the mooked and thought alice she dormouse it was talking before to she asch wa\n",
            "English word rateo: 0.9014084507042254\n",
            "Unique words rateo: 0.5211267605633803\n",
            "\n",
            "Predicted text: ell it made of her how taid alice as the ganced hastily said the door askeep and the king said the mock turtle a babeautiful to the hame of what it was so thing and the mock turtle in a minute or they all the way in till the caterpillar sort of the sight he so she began remarked the gryphon indeed to alice alice could it the gryphon mane taid the q\n",
            "English word rateo: 0.8493150684931506\n",
            "Unique words rateo: 0.6301369863013698\n",
            "\n",
            "Predicted text: rome the hame the white reemed the duchess and the said the dormouse  the liddle the door the soldiers to the pool at the mock turtle in a thing all repeat may in a soon it sea a brard know she court and the wat a ping of it is a little seen they all my minutes alice and the mock turtle heard replied and she pueen such to she slates all a ming and \n",
            "English word rateo: 0.88\n",
            "Unique words rateo: 0.6133333333333333\n",
            "\n",
            "Predicted text:  it as she could of the dormouse and the coubt his to her head it off she was in a little said the hatter when the door all the same the dormouse the dormouse said the mock turtle a sulky in the first and she thought alice alice pany as it sat a whiting its you know  it was in the cat and began not and the hatter wou know at all she window in an ou\n",
            "English word rateo: 0.922077922077922\n",
            "Unique words rateo: 0.5714285714285714\n",
            "\n",
            "Predicted text: ed in a hood hair and not alice so she was not alice as it in so see thought alice the mock turtle in a vhiting the door she smate down the was a little seen so seemed the poor like the hame and the mock turtle her and the same the lock turtle she cound not seemed to the rat a great half of the mock turtle all i dont began and the rabbit wanted to \n",
            "English word rateo: 0.8961038961038961\n",
            "Unique words rateo: 0.5584415584415584\n",
            "\n",
            "Predicted text: ing the same a little the door alice replied for time he tauer the first do you know  of she was the mock turtle she dormouse she was not going that had not should it so she could not and she bestainly alice i dont seemed the mock turtle a little said the mock turtle in a thri its to see the hatter what the gryphon more that she what is more at the\n",
            "English word rateo: 0.8918918918918919\n",
            "Unique words rateo: 0.6351351351351351\n",
            "\n",
            "Predicted text: she dormouse and she pool and then to see you have her eyactly and the pight here the queen and she waited hardeners siz you do it was an if so the said the mock turtle and she cat and the thought alice in a polent the you know it must and the narch hare down her and the mock turtle shats all the same she cat and the white replied at the was now an\n",
            "English word rateo: 0.9078947368421053\n",
            "Unique words rateo: 0.5921052631578947\n",
            "\n",
            "Predicted text:  shought alice replied all a that do was all and the hancy said the cat and that had not said the mock turtle of the conpl and shought alice in a little down and the same the hatter said the door any said the march hare  you might he she fance  you mean first into it more and not a minute or the baby the distance to and went the season the mock tur\n",
            "English word rateo: 0.8918918918918919\n",
            "Unique words rateo: 0.6216216216216216\n",
            "\n",
            "Predicted text: bbit in the said the game and that it was the same the mock turtle said the mock turtle  i seen such a thing the way what the execution when she was quite the door as well the rabbit the door and shought alice the little cat i should hardeners that is was said the cat and the said the mock turtle said the mock turtle thing you know she bestainly th\n",
            "English word rateo: 0.9305555555555556\n",
            "Unique words rateo: 0.5277777777777778\n",
            "\n",
            "Predicted text: tman the said the mock turtle she conversation she rooke said the king and the rather she rabbit the dormouse up and shen when she little the said the mock turtle a little him what when they surn a little she food and more i have you know she felt that she had not like the mock turtle it to say  all that all she thought always the same the dormouse\n",
            "English word rateo: 0.9436619718309859\n",
            "Unique words rateo: 0.5633802816901409\n",
            "\n",
            "Predicted text:  sone at the mock turtle sells said the mock that it must the rest of the began with a little she hame the march harden was all the creadful to the pool of the soldiers and the caterpillar  she mock turtle she added you might as it as the mock turtle as the whole looking that the mock turtle she had not see and see said the mock turtle  alice said \n",
            "English word rateo: 0.9436619718309859\n",
            "Unique words rateo: 0.5352112676056338\n",
            "\n",
            "Predicted text: n all the thought alice thought alice as she hardeners in a bone  the march hare said the cat on mot see it does unee  why all a minute or the mock turtle  a         the caterpillar  alice said the mock turtle into a bone and the hatter  you do you mand of the mock turtle  you know what a dear and she first and she said the mock turtle you know wha\n",
            "English word rateo: 0.9166666666666666\n",
            "Unique words rateo: 0.5416666666666666\n",
            "\n",
            "Predicted text: on it was said the dormouse said alice a freat may what a pinute on see want in an impw as she said the cat said the duchess that it was an offended to the gryphon and shen the hame  i dont instes and she was no the feevening shat sound at last the rest of the said the queen the stood the mock turtle i have your you wont you were not were lind the \n",
            "English word rateo: 0.8421052631578947\n",
            "Unique words rateo: 0.6578947368421053\n",
            "\n",
            "Predicted text: nd not said the mock turtle the white reemed to see you are shen the mock turtle into and the gand in the said the king where was quite in the same as the dormouse to say  alice cont uncomfortable alice what she had not like the way all the gardeners and she feeven said the mock turtle what the said the mart moment she dormouse she way all continut\n",
            "English word rateo: 0.8857142857142857\n",
            "Unique words rateo: 0.5571428571428572\n",
            "\n",
            "Predicted text: ent and the shought alice could not could her said alice coubtfully alice into a great hunt and she whole mow the subject it said the dat and the liddle the pool the gryphon and the what where was a thing of the thought alice had no the sone to say why the balled her the was now and the hancy the mock turtle of course its with the pigeon in the was\n",
            "English word rateo: 0.8356164383561644\n",
            "Unique words rateo: 0.6164383561643836\n",
            "\n",
            "Predicted text: he first the soldiers the nock turtle  you say said the duchess he said the mock turtle replied to the reason and alice said the dormouse see the hatter ho the words with the was a little saying her head said the dormouse and the queen so she little said the march hare  alice said alice thought it was to the thought alice as her head so her so see \n",
            "English word rateo: 0.9285714285714286\n",
            "Unique words rateo: 0.5142857142857142\n",
            "\n",
            "Predicted text: se she mock turtle a large party the rest of lived the dormouse shat did not louse that it was a little down the did not was a little down the door messons the was said the cat said the mock turtle dootming alice and she mock turtle to herself it was and she was not she sea the dormouse to the dootman and the king and the soldiers so she said the q\n",
            "English word rateo: 0.918918918918919\n",
            "Unique words rateo: 0.4864864864864865\n",
            "\n",
            "Predicted text: aid the mock turtle she said the mock turtle in a pigh alice looking and they down and the other and she dormouse the soldiers all of her helt happen in the whole of the baby the dodo in a minute stupid hair the mock turtle drown and the cat and was gone or the same the mock turtle so the thought alice all remarked and she was said the dormouse she\n",
            "English word rateo: 0.9444444444444444\n",
            "Unique words rateo: 0.5138888888888888\n",
            "\n",
            "Predicted text: d said the mock turtle she mock turtle replied all the pool its to said the mock turtle said the duchess she said the mock turtle you know what it might she door and the mock turtle  the hatter who is it was a large saying to and she whole caught alice the duchess wery hair the hatter idea how the shought alice she hame she mock turtle said the moc\n",
            "English word rateo: 0.9154929577464789\n",
            "Unique words rateo: 0.5070422535211268\n",
            "\n",
            "Predicted text: the mock turtle said alice as she mock turtle she caterpillar  i should all rat to the gryphon she said to her in the dormouse she could not and the soldiers and party the two no sort of the harter with a than the hame her head that she court and seemed that the pueen staring said the mock turtle she crown it minutes alice that makes all my rather \n",
            "English word rateo: 0.9142857142857143\n",
            "Unique words rateo: 0.6142857142857143\n",
            "\n",
            "Predicted text:                                              that when the was all the rueen she said the duchess and then so say when the mock turtle about the though went on the soldiers  i dont said the mock turtle and she conpuersation it askeep the mock turtle so say the been she dormouse she came an are you into a seally that it was now and the mock turtle t\n",
            "English word rateo: 0.9206349206349206\n",
            "Unique words rateo: 0.5714285714285714\n",
            "\n",
            "Predicted text: he wat said the mock turtle in the soldiers so the mock turtle raid the door me you said alice  i cant gas the thought alice  the cat and she first she said the hatter when she was all the pool of the words a door the  i dont and the dormouse and she a little like a really in the same the mock turtle the of the feevening the gryphon and she rabbit \n",
            "English word rateo: 0.918918918918919\n",
            "Unique words rateo: 0.527027027027027\n",
            "\n",
            "Predicted text: o her a            that it was all she was looking its back the rueen you many to the first said the cat her head said the duchess was a little like a seal noce int for so she dormouse not went on you uer hoing of it so said the mock turtle said the door the caterpillar cone one said the mock turtle all the soldier the suarte say the said the mock \n",
            "English word rateo: 0.9315068493150684\n",
            "Unique words rateo: 0.6027397260273972\n",
            "\n",
            "Predicted text:  other to sing the mock turtle a great could not her and she was talking about her in a minute or to said the dormouse alice in a little the door the same the mock turtle when he had not like the duchess was seemed the soldiers words a minute in a thing of the hame  alice had not said the hatter it may wou know the dormouse her face in a hood the d\n",
            "English word rateo: 0.9466666666666667\n",
            "Unique words rateo: 0.5866666666666667\n",
            "\n",
            "Predicted text: o off the dormouse and the mock turtle for her she soldiers were saying and she said the mock turtle the queen and she said the pool and she rest off the dormouse  the mock turtle said the mock turtle thought alice cone was the same the queen was she was a little in live it a ming the confortable then a large grown and the pight so she of the littl\n",
            "English word rateo: 0.9305555555555556\n",
            "Unique words rateo: 0.5\n",
            "\n",
            "Predicted text:   i forgort and she was a good on the could no his said the cat or mad you are she court and she did not at the feevening the mock the soldiers a little seen the was to be course alice in a great hunping about it make of them and she mock turtle a little which was all the said the door curious the had pade her into alice said the dootman only what \n",
            "English word rateo: 0.9066666666666666\n",
            "Unique words rateo: 0.68\n",
            "\n",
            "Predicted text: our and the mock turtle in a thried  alice which was only all the end of the dormouse so the dormouse so speaking saying in replied alice in a little for the tone and she was and she said the dormouse she dormouse she gryphon into it was still a little pather wery much more all the was very were said alice sp alice and the king said the dormouse th\n",
            "English word rateo: 0.8591549295774648\n",
            "Unique words rateo: 0.5352112676056338\n",
            "\n",
            "Predicted text: ou know should it was said the door and she began for the cat  i shought alice what  how dont the best the court of the ought timidly and the trembled that party all round alice what a convn the food alice in a little ill tilence hand the dormouse she baby to the was a little down her and said the hatter and shen alice to exactly the dormouse shoug\n",
            "English word rateo: 0.8450704225352113\n",
            "Unique words rateo: 0.647887323943662\n",
            "\n",
            "Predicted text:  at the season and she was all of the said to herself up see into and the said the mock turtle  the mock turtle because it said the duchess she first to say you are she is the soldiers and that she bottle  but impe and looked to alice was said the mock turtle  nother doesnt crown and said alice impe said the queen said alice  i dont the door with t\n",
            "English word rateo: 0.8888888888888888\n",
            "Unique words rateo: 0.5555555555555556\n",
            "\n",
            "Predicted text: ell made said the duchess said alice round the hame or and pardow so say the drown the being in a low the and said the cat down and then it was the said the king and the same the might seplied to a long and she rand the cat with a great cone said the dormouse and the was said the rabbits of the food and she table you down the thought alice  and now\n",
            "English word rateo: 0.9342105263157895\n",
            "Unique words rateo: 0.5526315789473685\n",
            "\n",
            "Predicted text: a confused by this it so say into a mittle her the king and she was said the hatter she sail the gryphon she hance so many like the hace of go a deal with the hand her and began of her to one the end of the rabbit want the little she had not like the master all the was a long of the could not alice as the mock turtle down her and she was all them a\n",
            "English word rateo: 0.9375\n",
            "Unique words rateo: 0.5875\n",
            "\n",
            "Predicted text: t she said the mock turtle replied to alice began she dormouse she first as it anxiously said the door the dormouse you know the dormouse  the mock turtle said the cat orocered her a minute what cant as well her flad they sather alice in a little its it said this said the dormouse the mock turtle all a very luch she said the hatter which was so the\n",
            "English word rateo: 0.9142857142857143\n",
            "Unique words rateo: 0.5714285714285714\n",
            "\n",
            "Predicted text: e nouse of the sight hands and she gryphon replied it plan noce what it the same the mock turtle alice began indigng and down a sigh of the sabbit was to thing she sand the mock turtle not                     the mock turtle you down in a the mock turtle said the door like a solemn beautiful said the queen seen and went made she mock turtle alice w\n",
            "English word rateo: 0.8970588235294118\n",
            "Unique words rateo: 0.6029411764705882\n",
            "\n",
            "Predicted text: n a little tncomfortable and the was said the gryphon and her a little so make of the thought alice come when said the mock turtle  you see said in a little the said the queen what the cound and then the door as she mock turtle the said the door and the mock turtle into its frow and the was a little began for was the said the mock turtle shall she \n",
            "English word rateo: 0.9315068493150684\n",
            "Unique words rateo: 0.4794520547945205\n",
            "\n",
            "Predicted text: g the mock turtle thought alice in a really as the mock turtle in a that it was all she thought alice and she best alice in a very learner and the first the dormouse not said the queen and he did said the mock turtle so the silence said the queen wery on which was all my now and the sable spoke alice said alice had not said the mock turtle beautifu\n",
            "English word rateo: 0.9041095890410958\n",
            "Unique words rateo: 0.5068493150684932\n",
            "\n",
            "Predicted text: he said to her as she mock turtle she was a good alice alice all i cant said to be said the mock turtle she dormouse she pight and the march hardeners in the cat and she dormouse said the king her and party so the sight said the mock turtle the words were she mock turtle a little the mock turtle she said the caterpillar  she baby minutes alice shou\n",
            "English word rateo: 0.9295774647887324\n",
            "Unique words rateo: 0.49295774647887325\n",
            "\n",
            "Predicted text: the soldiers do alice that she said the mock turtle her to learn     i said the dormouse not seemed the mock turtle so thing with a great her a fear the little or there were all the said the mock turtle so see if said the gryphon cone the clough the pool the bott and he was down her and the king  alice replied uo the close the feevening to alice sa\n",
            "English word rateo: 0.875\n",
            "Unique words rateo: 0.6111111111111112\n",
            "\n",
            "Predicted text: eemed to the was all said the mock turtle she wonders not said the mock turtle it a great to see that sure all i do so she thought alice inowes the explain and the words and alice a rort of the could not mouse again in a grown was the was nothing the execution and the said the mock to she first the same thing alice in his so she said the queen and \n",
            "English word rateo: 0.9333333333333333\n",
            "Unique words rateo: 0.5333333333333333\n",
            "\n",
            "Predicted text: er and she first for so she had not like cat and the court was said the couble you time the march hare in and said alice didnt the king said the middle  ive their head to the mock turtle  a bare to leave you have her are you know the spldiers what you like     chapter where gown her in a deal was not seemed and said the king and the was looked the \n",
            "English word rateo: 0.9324324324324325\n",
            "Unique words rateo: 0.6081081081081081\n",
            "\n",
            "Predicted text: o the court of thing i dont watch at anything alice and they all my dear idea the mock turtle     beautiful why you wont you wont you were land alice said the cat and the first and she added indeed and she thought alice alice  i have a little she dormouse to thing the was not alice and the thought alice thought alice what a great him a little so he\n",
            "English word rateo: 0.8873239436619719\n",
            "Unique words rateo: 0.6197183098591549\n",
            "\n",
            "Predicted text: ave and saying alone that she said alice thing alice what is my and then she mock turtle mearn she thought alice and then the hatter all its eyes the dormouse said the cat and the mock turtle the words seensly and the mock turtle all a freat lade a little puestion and that what it the mock turtle in a roor and that the bestainly to say what are she\n",
            "English word rateo: 0.8732394366197183\n",
            "Unique words rateo: 0.5352112676056338\n",
            "\n",
            "Predicted text:  said the hatter and that it was a good said the dormouse so she said the cat in a little door like the bestance  the cat so mad so she was now all my dear i should so alice come the dormouse her are you wont you know said the mock turtle into the soldiers half it sepeated all a little  alice and she sea a bourse again its all a ming of the eatter \n",
            "English word rateo: 0.9066666666666666\n",
            "Unique words rateo: 0.6\n",
            "\n",
            "Predicted text: e dormouse not she said the mock turtle the gryphon said alice          the dormouse so the said the hatter what they had a cound her head it sat all the same the dormouse again and she hame to alice said the dormouse began to the said the made severely you wont you wanted and the soldiers in the said the door said the mock turtle replied and thoug\n",
            "English word rateo: 0.9117647058823529\n",
            "Unique words rateo: 0.5588235294117647\n",
            "\n",
            "Predicted text:  mock turtle him a food                 so its said the hatter was the said the just as a dreadful not said the dormouse said the cat out looking alice thought alice was said alice said the gryphon replied all the same the mock turtle the dormouse so speak nouse her said the cat oroduced the door she said the pight wery anxiously and the harch hare\n",
            "English word rateo: 0.8615384615384616\n",
            "Unique words rateo: 0.5692307692307692\n",
            "\n",
            "Predicted text: e pight happent the began said the hatter was in the same the duchess into a simp the queen was the dormouse so say all the thought the pade she hame of the first and she mock turtle the dormouse she was an it the care its wery soon alice so and said alice said the mock turtle the other when and she procersion to its a ming to alice and her face in\n",
            "English word rateo: 0.8513513513513513\n",
            "Unique words rateo: 0.5675675675675675\n",
            "\n",
            "Predicted text: such a righ and was a little  the mock turtle the dormouse and she began had not askeep and the white replied of his said the pigeon she said the cat and she other the door said the mock turtle seen the hame her a whiting alice in a pight way in the cat and shought alice into the king a little down she was to so said the cat and the was a little sh\n",
            "English word rateo: 0.9078947368421053\n",
            "Unique words rateo: 0.5131578947368421\n",
            "\n",
            "Predicted text: n the mock turtle and the dormouse that she was a little  the caterpillar she reason of the same the mock turtle exe seened the same the cook  alice remarked to the mock turtle the mock turtle the doown and we the court as if she said the queen what the harge because of the sea the hatter  it players the same the hatter with an indeed and she could\n",
            "English word rateo: 0.9285714285714286\n",
            "Unique words rateo: 0.5571428571428572\n",
            "\n",
            "Predicted text:  great curious a pight the same the mock turtle alice for she said the mock turtle thing shat the white remember it had not asked all a great mand a pinute into a great could she thought alice the dodo its down at last in she said the mock turtle in a minute and the rool and she was a little down his so seemed to be a confusion the ruand its of her\n",
            "English word rateo: 0.8918918918918919\n",
            "Unique words rateo: 0.6216216216216216\n",
            "\n",
            "Predicted text:  the court march hare the cat were le you and rentted the dodo said the mock turtle like of the dormouse she patter he she conversation the being its as all and she was the mock turtle she hame  i dont she same in an only the hame the gryphon and the judged and how at all the archbis as the mock turtle because it said the dormouse she mock turtle  \n",
            "English word rateo: 0.9014084507042254\n",
            "Unique words rateo: 0.5633802816901409\n",
            "\n",
            "Predicted text: she was asked the mock turtle so say in the was should like the way when how was a bit understand her a          what did not at the was now about as she said the hatter when said the dormouse so and began to the thought alice thought alice alice  how want she garter and began to the mock turtle all off of the dormouse because the duchess head said\n",
            "English word rateo: 0.9571428571428572\n",
            "Unique words rateo: 0.5857142857142857\n",
            "\n",
            "Predicted text:  gryphon what she waited the dormouse as if said the hatter so see in a cay the court and geld to and she dormouse the began ruestion you know  alice said alice a little saying said the cat  i said the mock turtle round the thought alice she mock turtle said alice  what they all the court as all a well you were     chappead half i should so the sho\n",
            "English word rateo: 0.8857142857142857\n",
            "Unique words rateo: 0.5714285714285714\n",
            "\n",
            "Predicted text: ed the duchess she said the king her and the said the mory some the rarting and she game her in the rueen what i eat she garter with a great conthere its a minute her head said alice ruite a bonvn the was a bot very much a sight the thought the queen into a little a little so she ran you mean turtle  a chapther to say the beautify what the was now \n",
            "English word rateo: 0.8933333333333333\n",
            "Unique words rateo: 0.6266666666666667\n",
            "\n",
            "Predicted text: e was a little said the dormouse alice in a ping of the said the mock turtle she rest of the court and she was to be seen when the cat of you itself and the mock turtle as it had not the said the mock turtle said the mock turtle she queen was the could now the pigeon but in a little bear in a minute or said the door and she said the dormouse shough\n",
            "English word rateo: 0.974025974025974\n",
            "Unique words rateo: 0.4935064935064935\n",
            "\n",
            "Predicted text: the was a vond of the bestainly minutes what it seemed and the was a little way the mock turtle a little however the soldiers its a minute anxiously into a food over he wou and she dound into a little mady the that she house to say the same the mock turtle not help that it was a little down her hand a sigh it might and down and she said the cat and\n",
            "English word rateo: 0.9333333333333333\n",
            "Unique words rateo: 0.56\n",
            "\n",
            "Predicted text: nd she was said the mock turtle with a seally the shought alice caught the went on it and the white rabbit semarked to say the thought alice the door have to the door the thought alone that to saying the wood                                                                                                                                              \n",
            "English word rateo: 0.8571428571428571\n",
            "Unique words rateo: 0.6904761904761905\n",
            "\n",
            "Predicted text: s and the was looking and the footman and the was not and she way when alice said the cat and the was not and the gryphon replied and the said the mock turtle she was all she conversation in as the could why said the cat and the rest of the fryphon and she was seemed to speak and she was seemed to she said the dormouse and the words surning about a\n",
            "English word rateo: 0.9459459459459459\n",
            "Unique words rateo: 0.4594594594594595\n",
            "\n",
            "Predicted text: f her face so the conversation the soom of the extrow way in with them the poor and the same alice in a little of the sabbit in a minute and the queen seplied the could and so the door the party the way of the mock turtle alice  when its her and alice a little so see you are the door the dormouse in the said the duchess the said the mock turtle sai\n",
            "English word rateo: 0.8933333333333333\n",
            "Unique words rateo: 0.49333333333333335\n",
            "\n",
            "Predicted text: y and began in a little when alice as she mock turtle rurn itself the gar to you make so the march hardeners she meast she mext and then the cat and the dormouse and she thought alice thought alice she mock turtle she hargen seen the was a bons to grow are you might that she song of the fare her about it the was of the dormouse seally and the dormo\n",
            "English word rateo: 0.863013698630137\n",
            "Unique words rateo: 0.6027397260273972\n",
            "\n",
            "Predicted text: at she was a dish it and she said the mock turtle a soials the ran to see what cone down she asked alice was said the cat to come all that she king back to and she said the duches of the thought all the rame the dat and the propy so she hame her and she was said the cat  i no was to the gryphon and pervous the dormouse to the arches and the gryphon\n",
            "English word rateo: 0.8717948717948718\n",
            "Unique words rateo: 0.5256410256410257\n",
            "\n",
            "Predicted text:  made of his fare that had said the mock turtle had she was a doot be said the mock turtle it a seally the thought alice and she other  i didnt then i should and she said to her silent seply she said the mock turtle not and she was not and alice hastily said the mock turtle  the cat and the jusy and she was a bone as the gance said the dormouse so \n",
            "English word rateo: 0.8933333333333333\n",
            "Unique words rateo: 0.5066666666666667\n",
            "\n",
            "Predicted text:  she arch and went on was so much a that makes and the white rabbit and began was a freat hurried about as the said the queen was to the roldiers said the mock turtle replied the poor little becausiful soup and alice to the sone of the said the mock turtle alice began in an exactly the care you would have and looked the dormouse that did nothing ha\n",
            "English word rateo: 0.9142857142857143\n",
            "Unique words rateo: 0.6428571428571429\n",
            "\n",
            "Predicted text:  the same to to herself that beginning alice a little and the mock turtle a rerpillar  alice seplied the roldiers well you myself you make she mock turtle the was a minute and all down the was said the dormouse you know  the dormouse what if said the mock turtle will she hame so and the feevent and the mock turning to the mock turtle saying the tho\n",
            "English word rateo: 0.8970588235294118\n",
            "Unique words rateo: 0.5294117647058824\n",
            "\n",
            "Predicted text:  the cause as an i that it the was said the mock turtle with she queen and both was not my more and she same the thought of her she said the mock turtle  you are pld was a little wery semark mad find it a bone on it said the mock turtle if you into alice hastily of ling a little began to drawled the first the said the dormouse it was a very sound s\n",
            "English word rateo: 0.948051948051948\n",
            "Unique words rateo: 0.6103896103896104\n",
            "\n",
            "Predicted text:  i beg you see she had somemnly  oh course now head began the first to speak and began turning to alice and it was a tnatch in the same side of the words  i dont see shat it was bill the distance  and yet i wish i couldnt said the caterpillar  alice said to herself now i should like to alice thats the mock turtle and both crowded with the queen con\n",
            "English word rateo: 0.875\n",
            "Unique words rateo: 0.6666666666666666\n",
            "\n",
            "Predicted text: wer to come to see the window  the things being replied alice as she went round it all i care say you never to loow  it was him time  the queen was sitting on the glover and bringing to explain the same side of the poor little thing as it see and went so she began with its nore  you please so sing  im round it all directly as she could not to be th\n",
            "English word rateo: 0.9066666666666666\n",
            "Unique words rateo: 0.68\n",
            "\n",
            "Predicted text: bame to the poor lett the baby and taken the duchess and the party so ran to the fame it hurried off alice could not the balltal of the king and broke off with her head off  nonsense  alice said nothing being replied in an offended tone nore  you are old said the caterpillar  to alice semark  of course the same thing as i get in the sea the hatter \n",
            "English word rateo: 0.8857142857142857\n",
            "Unique words rateo: 0.7\n",
            "\n",
            "Predicted text: f arithmeticambition dicges and the party some of the gryphon in with the dormouse did not see any said alice  i should like to be a person of soup   thing as a drawing and some of the three gardeners were sead as it went on again  you may not go another moment she said to herself and she went on and down to go nearer to make out it was a very deci\n",
            "English word rateo: 0.9178082191780822\n",
            "Unique words rateo: 0.6986301369863014\n",
            "\n",
            "Predicted text: ed herself how am i to do said the caterpillar and the other looked up and bamous cried the gryphon  i never went on in a dog growl no one flapper as it went on in the distance and said not at all soup   sime  ofrhaps now about it in the same thing as it setily it moud thats because it was a very inportant the mock turtle  serpents do you know  and\n",
            "English word rateo: 0.8904109589041096\n",
            "Unique words rateo: 0.7123287671232876\n",
            "\n",
            "Predicted text: hat i say that it meant tell her some words  i wish i had our down the rest of the well i can co said alice and so its ready to lake one said the duchess and the mock turtle sang thing as i get to say thinking as it said the cat as soon as she went on in a fury and said alice   little bill   iml tell you insaterpent and then alice said to the jury \n",
            "English word rateo: 0.9358974358974359\n",
            "Unique words rateo: 0.6666666666666666\n",
            "\n",
            "Predicted text:  two the stick and the party were saying to herself as she stick not and the march hare went so  i dont think i can go sit down the chimney as she could not tell when it was a drimiday of sound a drowersation alice but she felt that in mad said to alice ive tried hedges the duchess by the hatter went on in the same thing as i eat one of the well i \n",
            "English word rateo: 0.9210526315789473\n",
            "Unique words rateo: 0.6973684210526315\n",
            "\n",
            "Predicted text: hon and to listen to alice  the dormouse saying to herself and i dont think over his sort of a pair of whiting it was a child with its arms long crazling about the mock turtle in the distance  i dont want to see the hatter  i havent said alice a good deal on the caterpillar and they saw alice thought this child again  i wish i hadnt cried out a cko\n",
            "English word rateo: 0.875\n",
            "Unique words rateo: 0.7083333333333334\n",
            "\n",
            "Predicted text: lly i should leep to grow up and began the rosnd was sitting on the tong  in afraid than a very decided tone  oh course they saw her to speak and the smallest notice the queen was sitting one of the well i havent she set to work nade her flamingo and broke off the other looked but at all about the rest of the court and the king said to the gryphon \n",
            "English word rateo: 0.9178082191780822\n",
            "Unique words rateo: 0.726027397260274\n",
            "\n",
            "Predicted text: d the king and the words did not coming to alice as she went on in a deep voice are done with the dormouse she could not tell where she was now a bright idea came into it to a gryphon  i never heard before she said to the first do to and he was said alice in a gry dinners in the distance it makes rang the hatter  i care say the mock turtle in the s\n",
            "English word rateo: 0.9487179487179487\n",
            "Unique words rateo: 0.6666666666666666\n",
            "\n",
            "Predicted text: ore nore and say who was put of the world of the baby and she was now ill try and said nothing being run hear her in a sorrowful tone which seemed to be treated so its really now and then they never executes nobody took the end of the same with its rleepy and the words  i speak so see it at all said alice i dont think then they both sat silent and \n",
            "English word rateo: 0.9466666666666667\n",
            "Unique words rateo: 0.7466666666666667\n",
            "\n",
            "Predicted text:  would be a person of paris and she went on in a deather flock to grave and said nothing  what soretree so frave taid the cat as soon as last the mock turtle said no a sorrowful tone for in a rorr of the rest of the lobster quadrille is  i never were said alice wery much ififht as she said this she went on in the distance  and it put the dormouse s\n",
            "English word rateo: 0.8783783783783784\n",
            "Unique words rateo: 0.6891891891891891\n",
            "\n",
            "Predicted text: en they les id co to see it tried to see it  im a parrow said alice a good deal frightened the gryphon  i never heard of suick and said nothing being replied in a pig alain and perhaps it was said alice in a hurried not looking over the hatter went on in the sea the mast concert on the sea the king and the gryphon  then you said the king  it was th\n",
            "English word rateo: 0.8666666666666667\n",
            "Unique words rateo: 0.6266666666666667\n",
            "\n",
            "Predicted text: ing rather a good deal on the cook to please your majesty said alice  i call it would you tell me pauier a good deal on the song  a cay or ill jus very sude by the cook see how he did it as all a great all about for it  no i grow and they saw the mock turtle went on and sound and sound it and she went on in the distance  and yet i wish i hadnt begu\n",
            "English word rateo: 0.9135802469135802\n",
            "Unique words rateo: 0.6790123456790124\n",
            "\n",
            "Predicted text: oved said the gryphon  it was the dodo said alice a good deal one foot up the chimney as it chuckled who at last the hatter went on in a dear little house one of the season is that i was the hedgehog was sitting one foot to go nearer to make one of the birds with the baby with its arms folded quietly and so uhey got the door and the other looked do\n",
            "English word rateo: 0.9466666666666667\n",
            "Unique words rateo: 0.7066666666666667\n",
            "\n",
            "Predicted text: ime  alice looked up and down the game the queen was silent and pepple and the gryphon said in a great hurry  an arm you forget the duchess said alice a good deal on the sea sobs the hatter went on for in a lou voice and she went on again  you said the king  of course the gryphon and then and then alice could not tell when the had found it always g\n",
            "English word rateo: 0.8918918918918919\n",
            "Unique words rateo: 0.6486486486486487\n",
            "\n",
            "Predicted text: d the ming and the baby at all down in a moud crash as it went to the conversation and broke  and so she had crosidered a little of it indeed said the caterpillar  this qemark  of course the dormouse said the mock turtle in the distance and she went on in the sea the mock turtle in the distance  and then the mock turtle and in the distance and brok\n",
            "English word rateo: 0.9295774647887324\n",
            "Unique words rateo: 0.5352112676056338\n",
            "\n",
            "Predicted text: ng away being arches to eat in a rorrowful tone  well i never went on in a dish of sad and then a good deal on the sea but they both sat silence all the gryphon they all crowded round i wish i hadnt begun  the way things are put of the trials beginning to grow up and broke to go nearer to make out who was said alice  i wish i hadnt cried to grow up\n",
            "English word rateo: 0.922077922077922\n",
            "Unique words rateo: 0.7012987012987013\n",
            "\n",
            "Predicted text: ings arguments in the distance  and yet it is i cant get to beautre said the hatter  i never saw one of the birds with its eyelids so draw you know  it was said alice as she went on in the distantly and secondly because it was a dispute not to nake out who are you think you can find out the door and the went on it was sitting on the things being al\n",
            "English word rateo: 0.9333333333333333\n",
            "Unique words rateo: 0.6933333333333334\n",
            "\n",
            "Predicted text: ed to grow up a gry thore terpents the rabbit began singing a sailway tort it to grow up a gry tone of the birds with the best butter you know this i say a drimand your a cound not said the right thing as i get is the well i hadnt breumly i should like the mock turtle replied very indeed   well i havent said alice a good deal on the sands are gone \n",
            "English word rateo: 0.8533333333333334\n",
            "Unique words rateo: 0.72\n",
            "\n",
            "Predicted text: n to see it to grow up again to see it at all taid alice and flat to and broke but nod bill was prizes about and shouting off the gryphon  i never heard of use ill jn a teally most alice cautiously replied in the door  no i know said alice  i passed by his garden the hatter went on in a deep voice are done with the duchess by the words  i didnt kno\n",
            "English word rateo: 0.881578947368421\n",
            "Unique words rateo: 0.75\n",
            "\n",
            "Predicted text: this is more to go replied  of course now i give you do it one said alice a good deal on the sea so its nose     and said the caterpillar  alice in a poor man your majesty said alice as she sooke  a cat may little house it at all said alice always ready to make out it make meft alice as she went on it as all crowded round her chin in a pleased tone\n",
            "English word rateo: 0.9078947368421053\n",
            "Unique words rateo: 0.7105263157894737\n",
            "\n",
            "Predicted text:  dear of such   rad look at it consider and the toldiers were said in a great hurry  an enormous puppy and then they both sat silent and the sespent before she was not at all the pigeon but i nust grow explanations i said the caterpillar  alice thought it would be quite frightened alice and time and secondly because some children she knew the door \n",
            "English word rateo: 0.9230769230769231\n",
            "Unique words rateo: 0.7846153846153846\n",
            "\n",
            "Predicted text: o many teathings are put of the went on in a great crossed in the distance  and shen the door and then turning to alice and looked it off the enormans high  i wish i hadnt dried alice and she went on it was feeling quite forgetting it was very civil of you and dont be all dirpu but i think i eat one of the same was so find that the mouse only shoug\n",
            "English word rateo: 0.88\n",
            "Unique words rateo: 0.7066666666666667\n",
            "\n",
            "Predicted text: know what i fo to see it as you see said the caterpillar and the gryphon  i see  you should say with the game  you are old said the caterpillar  alice thought the hatter as last the mock turtle sound it doesnt matter to make out who was a great letter no many long so now i grow up go and broke off the court and the mosal of that isbirds of a feathe\n",
            "English word rateo: 0.9054054054054054\n",
            "Unique words rateo: 0.7027027027027027\n",
            "\n",
            "Predicted text: ot it off  alice thought this child alice went on in the tong id had a pencil than no i cant tee you are nov the same thing as i get is the court and the cook the chimney  it was the first question you know  it was the baby with its feet to at first the chimney and then a great letter no a great hurry  as yet  theres no such a sidge of the said to \n",
            "English word rateo: 0.9230769230769231\n",
            "Unique words rateo: 0.6794871794871795\n",
            "\n",
            "Predicted text: dded aloud     allow met messon to you and very soo fluot it was tilent and then they both bitwed one of the trees a little animals and said so they began surning to alice  of course you know that i say the hatter was sitting on the bill was the winle party at once without a great crash as soon as she went in a poor alice but a great crowd assemble\n",
            "English word rateo: 0.875\n",
            "Unique words rateo: 0.7638888888888888\n",
            "\n",
            "Predicted text: make one than what it make one foot got it yas said alice i wonder what so used to she began alice thought the fact i dont take as you said the caterpillar  alice said nothing hastily dixe and said nothing being replied in a pencil that squp first it was said alice in a gurry and the gryphon  i never heard before as she went on in a dog growl tone \n",
            "English word rateo: 0.8611111111111112\n",
            "Unique words rateo: 0.6666666666666666\n",
            "\n",
            "Predicted text: mock turtle replied in a pencil res together  what for see she caught it would not could not could not would not could not see anything made her face was so fet in a pinute or two so the bestactly to grow under the duchess did after all i never heard before she said to herself as she went in a loud indignant voice but she had got it in a dear looki\n",
            "English word rateo: 0.9452054794520548\n",
            "Unique words rateo: 0.7123287671232876\n",
            "\n",
            "Predicted text: e world of the sabbit in a freat crash as a baught timidly said alice  who all mad you see  yay the hatter were all crowded round it at all the first first but im the gained courage and went down one of the well with the boastics at last the sabbit in a great hurry  as for i cant get in a poor man you are old father william see you are nor at all a\n",
            "English word rateo: 0.8831168831168831\n",
            "Unique words rateo: 0.6753246753246753\n",
            "\n",
            "Predicted text: ee it tried to see the duchess said alice who seemed to be full of soom for a great many loment to grow up and began to very sing it it was for in the song of the court but at the cook see and went no and did not so go near the english was tilent  alice waited to see it was said alice but i know i have of put of the sime  and yet it at all said ali\n",
            "English word rateo: 0.8780487804878049\n",
            "Unique words rateo: 0.6219512195121951\n",
            "\n",
            "Predicted text: ve part now taid the caterpillar  this was off together  alice said nothing being seen to herself and made her close to the went on in the well i havent been in a pincle of the game for crown one of the guntnded it and said nothing  then you know said the caterpillar and after all i almost wish i hadnt go some difficulty as it went on i know who i \n",
            "English word rateo: 0.9027777777777778\n",
            "Unique words rateo: 0.6944444444444444\n",
            "\n",
            "Predicted text:  the baby and the king leaves the duchess as it said and were passion in the pigeon but i havent the expried off the sabbit in a great crash as if she went on in the distance  and yet  what a pity the knave and the sabbit said alice  i never executed by the soldiers were setting in the went on in a dear little pudstion and broke off a bit of the gl\n",
            "English word rateo: 0.9054054054054054\n",
            "Unique words rateo: 0.5945945945945946\n",
            "\n",
            "Predicted text: xecutioner and join the day and vent in a pinute of the games good impatiently and went in all draw to the conversation and the botwom of a well  take some of the trees was tilent  the king lady one of the court  no said alice and went on and being broken glass  but what a pity the hatter went on in a deep voice along the tense was taid the gryphon\n",
            "English word rateo: 0.9027777777777778\n",
            "Unique words rateo: 0.6388888888888888\n",
            "\n",
            "Predicted text: ll you a crance of anything to see it  then you should think you are no notice this offended to a bird alice said nothing  then you shouldnt salk to she stick and the sores off yith his head off  the caterpillar and she went on in the distance  and yet i wish i had of them and alice went on in a durious present the tong  in a porpoise flaps you wou\n",
            "English word rateo: 0.8904109589041096\n",
            "Unique words rateo: 0.6575342465753424\n",
            "\n",
            "Predicted text: u are old said to the king and the sest of tee and the san off the others  large rider of breath and said in a sorroise indeed  alice said very so see the dormouse said in a great many tee said alice  you might just a child said the hatter  i see said the caterpillar to a mouse that she hot up and said the mock turtle and then they were looking ovt\n",
            "English word rateo: 0.918918918918919\n",
            "Unique words rateo: 0.6351351351351351\n",
            "\n",
            "Predicted text: will you wont you will you wont you will you wont you wont you wont you wouldnt here you never even sound you think i say as for talk as the went to say it out but it does yer honour but the dormouse said the king and she went on in the distance if you do it on you know  im my youth said the duchess said alice  of course the dormouse said alice a l\n",
            "English word rateo: 0.948051948051948\n",
            "Unique words rateo: 0.5584415584415584\n",
            "\n",
            "Predicted text: u dont the mock turtle second very solemnly  alice was not vell usually always gring on a bis so the cauled down the chimney  it is to grow up get one of the sabbit sentence of executions the queen  i never heard before said alice in a great hurry  an arm you find a fryphon i never went to sing  im afraid i dont think i have any raid alice i am so \n",
            "English word rateo: 0.8493150684931506\n",
            "Unique words rateo: 0.7671232876712328\n",
            "\n",
            "Predicted text: grow up again to see it all directly again so very nearly a long way of the march hare went on in a deep voice are done with the door and the whole party saw it ovt to speak and the went on it was talen its flamingo and broke off a bit of the gloves and went in a loud crowd as soon as she went on in the pool and then uncer it seems to grow up and b\n",
            "English word rateo: 0.9629629629629629\n",
            "Unique words rateo: 0.6296296296296297\n",
            "\n",
            "Predicted text: together alice said to the chimney  i dont wery short time to see if they saw alice  come on the birds hurried off  the caterpillar  well i never went on in a dear little house one of the birds with its run fellow she gryphon  i never executed by this time and was looking at the sabbit began in a great hurry and the rest of the well i care say like\n",
            "English word rateo: 0.9166666666666666\n",
            "Unique words rateo: 0.7222222222222222\n",
            "\n",
            "Predicted text: e caterpillar  i should like to be a peroual one foot so the chimney  so go never get one of the lobsters and the others  look in the same thing as it went on in a deep voice alongcatch his grench lessons to grow up and began to see its eyes forget the door and then the was no tears the rest of the court and the baby and now ill tell what would hap\n",
            "English word rateo: 0.96\n",
            "Unique words rateo: 0.7466666666666667\n",
            "\n",
            "Predicted text:  in a serpent they were all talking to herself alice as she went on again  im a patural way  i shought it would be like to see the queen was silent and the whole party word to offend it said alice   lice said very short reemed to find that it meant the march hare  in the distance  and then said the caterpillar  well i never get one of the words  sh\n",
            "English word rateo: 0.9154929577464789\n",
            "Unique words rateo: 0.7605633802816901\n",
            "\n",
            "Predicted text: the gloort was that it was jus very soon found it away to be treated so the rest were said this she was beginning to go down the chimney  alice thought that its a very fine day said alice i dont think they dont give bill the little door but she did not look at the wood i would it was very sudden  you said the caterpillar  alice folded the queen sai\n",
            "English word rateo: 0.8888888888888888\n",
            "Unique words rateo: 0.6944444444444444\n",
            "\n",
            "Predicted text: ng to lake one of them the others  lart could not would not go back  i said the mock turtle  she did not venture to see the dormouse say only alice began to find that it makes replied in another moment they saw all to listen to mearn  i wish i had oaused by this so she went on for it yould be lovd at all this time and the went in the sea  the kess \n",
            "English word rateo: 0.8947368421052632\n",
            "Unique words rateo: 0.75\n",
            "\n",
            "Predicted text: t wery sudden vill she had been angrily ready to grow up get her and the sest of the well was sitting on the bill was sitting on the tong was looking at the wood if it had come to see it to grow up a gry to cry of the song was a good deal on the stick replied in a very decided tone and the things below a really good of stch a rule at processions ch\n",
            "English word rateo: 0.9367088607594937\n",
            "Unique words rateo: 0.6329113924050633\n",
            "\n",
            "Predicted text: hink i ever saw to grow up agree to see it was said alice said to the gryphon  i never heard of some of the evening beaut i will ju said alice  i wish i hadnt gonded to mearned in the distance and then said the rabbit and she began for in a lou voice to see it was the mock turtle drew a long hood crazby to tee the hatter were all over with would no\n",
            "English word rateo: 0.8701298701298701\n",
            "Unique words rateo: 0.6753246753246753\n",
            "\n",
            "Predicted text: ot all the waters of the lobsters to the sea the hatter were said the gryphon  i never heard of saucont and the gryphon  i never heard before she said to herself and she went on in a great hurry and to see it so after all and broken glass from being ar she went on in the end of the gryphon  i never were said the caterpillar  alice shought she had n\n",
            "English word rateo: 0.8904109589041096\n",
            "Unique words rateo: 0.5616438356164384\n",
            "\n",
            "Predicted text:  cats and said to the king was to the best but i never heard off together alice to she stand bamed to alice a good deal on the staject of course to mearn it was evactly one side of the leaves and they saw the gryphon replied in a great hurry  an enormous puppy said alice  so they got to see it to grow up again to see it as a ducumberframes the duch\n",
            "English word rateo: 0.8648648648648649\n",
            "Unique words rateo: 0.6756756756756757\n",
            "\n",
            "Predicted text: ent on in the way who is to grow up galfpast one as last the mock turtle in a great crash as it was said alice wery much in great words  so they lesten said it was a dispute way of the lobster quadrille it as soon as all things i am so see it tried to see it trill it was a dear some wine the queen was silent and the words dinah i wonder what you we\n",
            "English word rateo: 0.9240506329113924\n",
            "Unique words rateo: 0.6582278481012658\n",
            "\n",
            "Predicted text: mber are you think you old fellow  what i say the mast remark  of course the sabbit said alice in a ducugilents like the queen stamping one foot so she waited to see it turning to alice and the cook and the sat still and went in a loud crash and dogs them sounded herself supple nistle thing i ever went on in a tone of the gloor in the sail when i g\n",
            "English word rateo: 0.9054054054054054\n",
            "Unique words rateo: 0.7162162162162162\n",
            "\n",
            "Predicted text: uite rilent and to go rather alice thought the qoor little thing i bel your pardon cried alice and the things being to make out what it meant tell you make me giddy and make one foot to the chimney  once said the caterpillar  well i never went on in a dear little hookah out of its mouth and broke off a bi to do said alice as she went on but off you\n",
            "English word rateo: 0.9054054054054054\n",
            "Unique words rateo: 0.7027027027027027\n",
            "\n",
            "Predicted text: ou know  it makes i can replied in an offended tone  well i should like to be taid the caterpillar  alice said nothing more to be a little bill     i know i said in the same said the hatter  i dont know she said to herself and she went on in the distance if you dont the long hotse in a great hurry  an enormous passion and makes she said it was said\n",
            "English word rateo: 0.9178082191780822\n",
            "Unique words rateo: 0.6027397260273972\n",
            "\n",
            "Predicted text: that it was jus gead impatiently and she went on in a dear little look at it went on in a deep voice who felt the mock turtle said to herself and she sat silent and the gryphon and the little door was that it would be a prizes  i beg you please do to the birds and she went on in a dear little coor see as the door and the baby and the mock turtle re\n",
            "English word rateo: 0.9487179487179487\n",
            "Unique words rateo: 0.5641025641025641\n",
            "\n",
            "Predicted text: ly as soon as she tpok courage it at all do to but what would be said alice i dont think i we no i cant get idea of the court and the other birds and began in a great hurry and then and the mosal of the court and the cook tolemnly dame in reply  it does you know  it was a pittle lore crash and said nothing   bird pf the english confusion  i never w\n",
            "English word rateo: 0.8961038961038961\n",
            "Unique words rateo: 0.7272727272727273\n",
            "\n",
            "Predicted text: hon  i never went on in a dear little house only so now i wonder what they were lying on the seasone  to she began singing in a sorrowful tone dont be at least the gryphon  then you uo go down the chimney  i said the king and the whole party went on in a deep voice along the queen was sitting on the silence of her face and went so said the caterpil\n",
            "English word rateo: 0.9324324324324325\n",
            "Unique words rateo: 0.7162162162162162\n",
            "\n",
            "Predicted text: ed it a very sort of present that i ked of the season in the party were saying to herself as sound the gryphon  i said the caterpillar and this they live alice seplied in reply  thats nod of the words did not come to do next and the soldiers were seen the duchess said as they were looking round alice and said nothing her face with such a new idea t\n",
            "English word rateo: 0.9166666666666666\n",
            "Unique words rateo: 0.7083333333333334\n",
            "\n",
            "Predicted text: ore its eyes i wish i hadnt said alice  and contidered to find that in the jury and the party some of the ground not and the baby and they were looking anxiously about it  i wish i had of all the difficult game it was said alice as she went in sitting off the words  i believe  booss with i hadnt begun said alice  it does you may no talk about the c\n",
            "English word rateo: 0.9054054054054054\n",
            "Unique words rateo: 0.6621621621621622\n",
            "\n",
            "Predicted text: ew the door of the court  no and did not cried the gryphon went on in the pool and the baby at all at all the jury and the qoor lade off the same solemn to its really you know that it makes them so she began say in all the time he had come up and wery soon for it was bill thinking the baby and mooked at tolemn and she went on again  you can  sale s\n",
            "English word rateo: 0.9240506329113924\n",
            "Unique words rateo: 0.6835443037974683\n",
            "\n",
            "Predicted text:  and said the duchess and the party some of the tong i havent the air said alice  i wish i had our does the mock turtle in the distance  come on  im among the duchess said the king and the party some of the lobsters and the other guesss of the sabbit so very sorry to see it at all do you want to the stick noticed alice  of course you fondofofof dog\n",
            "English word rateo: 0.9041095890410958\n",
            "Unique words rateo: 0.6164383561643836\n",
            "\n",
            "Predicted text: life never left off quite a chorus of vhe worl it rather notice of his great uurprise  of course not said alice   little to ill down the duchess said in a great hurry  an enough of marger still it was very long kike to remark myself that it makes rather a good deal on the same side of what is the best way in the well alice went in the sea  the knav\n",
            "English word rateo: 0.9041095890410958\n",
            "Unique words rateo: 0.726027397260274\n",
            "\n",
            "Predicted text: nt her somewhere world it moud to be a person of prand on the same side of the birds with the baby with i hadnt cried on it and said by the end of the gryphon  this creature but no the season iss arms folded with some could not would not could not choosing to a long brayou mean said alice  you might just as well i said the hatter said to alice and \n",
            "English word rateo: 0.8783783783783784\n",
            "Unique words rateo: 0.6756756756756757\n",
            "\n",
            "Predicted text: he gryphon  it does you may not all all the wood is to grow up and down the chimney and then and then uhe gryphon  i never went on in a furrow  it was said alice  what for see what is a curious pf the kitchen  when i was going to be a person of paris and she went on in a deep voice alongcatch him the mock turtle in the distance  and it in things al\n",
            "English word rateo: 0.9090909090909091\n",
            "Unique words rateo: 0.6623376623376623\n",
            "\n",
            "Predicted text: o grow up again it was only betides all the gryphon  it was said the caterpillar  well i never heard before she said to herself i wish i hadnt bround im growing it all my life  but she mouse did not get usy of a piece of breadandbutter  jus a cheshire cat said alice  on i didnt know said alice a little worl it  im a poor alice asked  we called out \n",
            "English word rateo: 0.8055555555555556\n",
            "Unique words rateo: 0.7222222222222222\n",
            "\n",
            "Predicted text: nly not so be all about it in a dear little poup alice seplied in a great crash as if spoke at her and the party were saying to herself if one of the waters of the words  severely who is the whole party look at last in a great hurry  you fondofofo said the caterpillar  alice looked all round it as all a pitill of saucepans to see it to grow up a gr\n",
            "English word rateo: 0.9066666666666666\n",
            "Unique words rateo: 0.68\n",
            "\n",
            "Predicted text: soughartadrille things with the boxed low and then the mock turtle went on it was a dear quietly in a loud pf so  ive tried bame to the baby and the king she went on in the well alice but i am old coes the door and the words did not said alice  i never heard before she said to herself as far the window  the gryphon telling alice but i grow up in a \n",
            "English word rateo: 0.8933333333333333\n",
            "Unique words rateo: 0.68\n",
            "\n",
            "Predicted text: e chimney  oh course not alice as she went on in the sime  of course the caterpillar  alice did not see anything the had flosed it  i never heard of breadandbutter and shook its arms folded quietly make me grow to grow up and began to repeat it but she felt very glad to find that it makes them silence  alice thought the baby with it was so lany aga\n",
            "English word rateo: 0.8857142857142857\n",
            "Unique words rateo: 0.7714285714285715\n",
            "\n",
            "Predicted text: ould it makes in small one seen they might do so  yhy cowld not tail the duchess rang the duchess as she could not to see it again  i never heard before she said this she said this the went on in a dew youre draggled fetch  alice did not in the mock turtle crumbs said the caterpillar and the thought it would be an old said to alice  then you should\n",
            "English word rateo: 0.9027777777777778\n",
            "Unique words rateo: 0.7222222222222222\n",
            "\n",
            "Predicted text: at all a poor and so the sespent  but i grow up and began bowing to see it trick and days and drew the best butter you know  so she taid to herself and the thought it wery solemn in the wood if the distance and they saw the king and the others  the dormouse saying to herself it wery so yet it is in the same thing as i get is the went on in a deep v\n",
            "English word rateo: 0.9493670886075949\n",
            "Unique words rateo: 0.6329113924050633\n",
            "\n",
            "Predicted text: uch pleased and thinking it was a very trutiful child him said the rabbit began alice thought the world of my own to see it the gryphon  its to draw the dormouse saying to her if she went on in a terrent they were looking down on one knee in a hurry all the poor little thing i believe i can gur vo change the sabbit stch a new idea to alice the othe\n",
            "English word rateo: 0.8513513513513513\n",
            "Unique words rateo: 0.7702702702702703\n",
            "\n",
            "Predicted text: gead off the things being arguen every get so get in a porrowful tone along the well in a lournfully alice began to fo nearer to make out who are you advance twice  no no the same thing ive got to go replied  of course not all the door as a kart remember when i was said alice severely when she had been angrily reen the malled of hearts were seen to\n",
            "English word rateo: 0.8611111111111112\n",
            "Unique words rateo: 0.7916666666666666\n",
            "\n",
            "Predicted text: ng to be a peroruon of authority among the picked up a lobster alice said no one flap said alice  of course the duchess and the pigeon but i am so very said alice alice  i wish i hadnt begun with it make off yith his head off and the sest of the things beter it was said alice but i know that it makes the same side of the baby and the king going to \n",
            "English word rateo: 0.8552631578947368\n",
            "Unique words rateo: 0.631578947368421\n",
            "\n",
            "Predicted text: e it at all as well as she could not to go and some of the ground and went down on one knee in a great hurry   not a great crowd as she could not to see it at all he could not see it in a rorrowful tone with its arms folded quietly small of all thats the sabbit see as this in the birds and as for repeating  i wish i hadnt see said the hatter went o\n",
            "English word rateo: 0.95\n",
            "Unique words rateo: 0.6\n",
            "\n",
            "Predicted text: f anything mady to see it as all coming to see it so she stood near the world of me they live at the went on in a deep voice alongcathis and she went on in the well was sitting one of the tong id had happened so she began in a great hurry  an arm you to say be a crosider you know the same thing as i get what i say the mock turtle seplied at alice a\n",
            "English word rateo: 0.9375\n",
            "Unique words rateo: 0.6875\n",
            "\n",
            "Predicted text: t she wood if it begins with a large birds without a gryingpan flower and went in a lou and the game for to the chimney  alice began to sreak with a little of the gryphon i was ginish in the same thing as it went on i grow up get in at the sest of the court and she went on in the wood i was going to begin at the hatter were all rate alice and held \n",
            "English word rateo: 0.8987341772151899\n",
            "Unique words rateo: 0.6075949367088608\n",
            "\n",
            "Predicted text: lice  of course the mock turtle began for inso it to grow up and began to see it tried to see it trials they saw alice as she went on in the sly all and some were all sound it away some of the cauerpillar  alice said nothing but she gound it all i never the king live about her look up and being seen them  i wish i had of any done if you dont tee sh\n",
            "English word rateo: 0.9230769230769231\n",
            "Unique words rateo: 0.7051282051282052\n",
            "\n",
            "Predicted text: red all the well i havent as she went on in a dear little house in a pair of great rurprise  of course not alice taid to the jury and the little does  i havent what i say the mock turtle seplied in another moment the mistake it was close to the kury and the wery soon for it yould not gone to do and perhaps a gryphon in the distance  come on it to f\n",
            "English word rateo: 0.868421052631579\n",
            "Unique words rateo: 0.6578947368421053\n",
            "\n",
            "Predicted text: t was over and shooking round the rest of the watch and the went on in the said to herself and the party were saying to herself as she went on in a deep voice along the duchess and the other side of the words  i believe said the caterpillar  alice said nothing perhaps  ive tried bausiously replied of little thing he was speaking off the sabbit in a\n",
            "English word rateo: 0.927536231884058\n",
            "Unique words rateo: 0.6521739130434783\n",
            "\n",
            "Predicted text: e branches and broke off the gryphon  then you advance they all draw to be a person of procession came in a dear lett the rest of the picked uo a rore     with i had come with i hadnt cried alice i am so suingy about it all was presed in a poor man your pardon cried alice and she went no in the sea the mock turtle said no a crimidatau to make one f\n",
            "English word rateo: 0.868421052631579\n",
            "Unique words rateo: 0.7368421052631579\n",
            "\n",
            "Predicted text: ped it so a long breath and said nothing  the dormouse shook its arms folded quietly smoking a gry yould not man said alice a good deal on their paws  its a cheshire cats and said in a hood deal one foot great uerpes  so you are old said the caterpillar  alice said nothing she went on it was a very difficult game indeed said alice in a great hurry \n",
            "English word rateo: 0.8857142857142857\n",
            "Unique words rateo: 0.6714285714285714\n",
            "\n",
            "Predicted text: ite forgotten the door of the evening beautiful soup of the sea  the knave did so very said the hatter  i never heard of soughly the season is was for   little looked into the garden and the baby and the knave of hearts who is to grow up and being ar she could not to see the whiting  i never went on in a deather first said the caterpillar and the w\n",
            "English word rateo: 0.9444444444444444\n",
            "Unique words rateo: 0.6805555555555556\n",
            "\n",
            "Predicted text: anged staring the gryphon in a please go to granc coming off the sores of chance of the sabbit in the little door said alice  i pnly see she meant to see it to grow large as they both sides of it alice they both sat silent and the little door with its arms folded quietly smoking and fairly said alice in a ping  ofrhaps nod side of the ground not to\n",
            "English word rateo: 0.875\n",
            "Unique words rateo: 0.6666666666666666\n",
            "\n",
            "Predicted text: alice  i should like to see the game the queen was sitting on the sea but they were all over with fur chin it alice said to the door and he was sitting one foot to grow up the sabbit in a porrowful tone while she was not an encouraging ovt of tea and who is there were in a curious prened to find it away under it it to grow up go and said nothing   \n",
            "English word rateo: 0.9210526315789473\n",
            "Unique words rateo: 0.6973684210526315\n",
            "\n",
            "Predicted text: thing as all a poor a picke but i know who is the season is tell me who felt ready to say the mock turtle  it was seen to draw the door and then they both sat so see the gryphon  i never went on in the distance  and so school in the distance  i cont know said alice a little wider child seemed to be taid the caterpillar  alice fourteed and went in a\n",
            "English word rateo: 0.92\n",
            "Unique words rateo: 0.68\n",
            "\n",
            "Predicted text: she was now i said the caterpillar sook the chimney  alice did not queer to find her  well i never heard before she said to herself it was so lany long so much frighten to grow upon it make one foot to them and alice sather doubtfully it hurried before she said to herself alice as she stied to see it trup at the stick and the sest of the gloves and\n",
            "English word rateo: 0.8888888888888888\n",
            "Unique words rateo: 0.6388888888888888\n",
            "\n",
            "Predicted text: the queen said not a good deal on the cakes and the sabbits voice  not i said the caterpillar  alice said nothing her face but i know who is to she still and alice is over at last the eagled to find that it makes them  and who are you to said the duchess you see  you said the footman and the wery soon found it all said the caterpillar and the other\n",
            "English word rateo: 0.9315068493150684\n",
            "Unique words rateo: 0.6027397260273972\n",
            "\n",
            "Predicted text: ock turtle replied in a great hurry  an enourr madat least you never to go on i suppose it said the caterpillar  alice said in a hood deal one foot go spld child  alice but i think you could one of the gryphon  i never heard of use in sepeating this size why i should be free of the lobsters and she panther before the chimney and so every what i was\n",
            "English word rateo: 0.8888888888888888\n",
            "Unique words rateo: 0.7361111111111112\n",
            "\n",
            "Predicted text:  alice  i never heard something of the words   large caught to wish it was sitting on a bit of the gloves and they lind said the hatter  i dont know one said alice   little bill     i ball i kust as i was going to grow up and she said to herself i wonder what they said the caterpillar  alice looked all the watch and said no one of the loral of thin\n",
            "English word rateo: 0.9027777777777778\n",
            "Unique words rateo: 0.6388888888888888\n",
            "\n",
            "Predicted text:  so en next the duchess did it as all down on one knee as she went on in a minute or two the cook and world it was a very thort reemed to be ture she had not tell you will you join the dance will you wont you wont you join the dance will you wont you wont you jnow said the caterpillar  alice said nothing else     chapter it to say so this moment th\n",
            "English word rateo: 0.9210526315789473\n",
            "Unique words rateo: 0.6447368421052632\n",
            "\n",
            "Predicted text: ession came up to the dormouse said the caterpillar  the kings crown on a crimson velvet cupioring in the distance  come on a great crash as this so she began rather alarmed one foot to grow upok the door and the whole party at last the same side of the gloves and barking of the lory with a great crowd as she went on in the well in sight and to see\n",
            "English word rateo: 0.9444444444444444\n",
            "Unique words rateo: 0.6805555555555556\n",
            "\n",
            "Predicted text: noss confusion that she had someone to see the gryphon  i never went on in a dew you can find it as all said alice  i said the caterpillar  i wish you wouldnt kike said alice always to say i once said the caterpillar and the lory as she went on in a deep voice alongcatch his face and went so say it offer the english coast you find it was cerisily i\n",
            "English word rateo: 0.8767123287671232\n",
            "Unique words rateo: 0.6164383561643836\n",
            "\n",
            "Predicted text: and began in a tone of the thing said the caterpillar  alice said nothing  they lestons they seem to draw the emeventh could not tell me a pitill pf least no time taid the hatter as the stick rardon in a tone of the gloor with a timple qarson soup it must be a wery difficult game and faint in the same side of the game feelings choossan explanations\n",
            "English word rateo: 0.8405797101449275\n",
            "Unique words rateo: 0.7101449275362319\n",
            "\n",
            "Predicted text:  hedgehogs was the first question you know  it was said alice i am so sing  the queen was silent  the king lade only a rerpent to know she air every gurried off the king and the wery words as soon as the same thing as i get in the sea i should like to be a person of paris and she stood not gelp toon alices shought alice in a sorrowful tone stadrill\n",
            "English word rateo: 0.8493150684931506\n",
            "Unique words rateo: 0.7123287671232876\n",
            "\n",
            "Predicted text: here put a seally good wery shrinking rapidly so be a pleasantst and the sabbits voice and then some way of escape to she stick and the party so many less gear she could not at last in the wood iss to speak  what for see she hearth and the knave did not said alice wery solemnly ran will the picked herself by this time and alice as she went on in th\n",
            "English word rateo: 0.8767123287671232\n",
            "Unique words rateo: 0.7534246575342466\n",
            "\n",
            "Predicted text:  the duchess did so very sired of it along the lobsters and the same side of the garden the first figure said the caterpillar  well i never went on in a dewin of keart now i said im a poor man your poor alice but i havent said alice  i wish i had our dinah she went on in a deep voice i adg you ever saw the mistake it a very uncomfortable ten said t\n",
            "English word rateo: 0.8947368421052632\n",
            "Unique words rateo: 0.6578947368421053\n",
            "\n",
            "Predicted text:  broke but she did not get ho the tail but who is to look it to grow large as last the same shing as it went on i am in a day or two of the well i havent the rosp and said no it was sitting one the bottle for it was in a large cauldron of soup   thing as a drawing now and the cook toldiers were still it all the tail which she was a little nore crab\n",
            "English word rateo: 0.9382716049382716\n",
            "Unique words rateo: 0.6790123456790124\n",
            "\n",
            "Predicted text:  door but she did not long to get in the well i havent she said to herself as she could not tell when the court and the court and then at last the mock turtle went on in the distance  and in bus i nust go back to the said to herself as she had gou to try the things i used to see it in a loud indeed cried the gryphon  i never heard of use in saying \n",
            "English word rateo: 0.9493670886075949\n",
            "Unique words rateo: 0.6329113924050633\n",
            "\n",
            "Predicted text: the dormouse she was now i shant you do said alice  i never heard of use in one of the lobsters and perhaps it but a grin without a pig alarm in a lournful tone of them bowed low to go nearer to make out of the song for in a conversan fold of them alice said very glad to gind that the end of the words  i speak severely what it meant to make out who\n",
            "English word rateo: 0.922077922077922\n",
            "Unique words rateo: 0.6753246753246753\n",
            "\n",
            "Predicted text: eems to say the mock turtle and to go with the dormouse doesnt get up tee the sale thing as i grow and so it and said to the same thing as i get the chimney  i never to be a pospows     impatiently and so leep after the tame side of the garden the hatter were in the went on in the distance  and now she smalles is said the caterpillar  i havent so s\n",
            "English word rateo: 0.92\n",
            "Unique words rateo: 0.64\n",
            "\n",
            "Predicted text: ife  of course not all the rest of the cailet wanting in a great hurry  an arm you can                                                                                                                           coml of said alice a good deal on the sands of sore indeed said alice  of course they all sat down in a great crash as if he workd not said a\n",
            "English word rateo: 0.8823529411764706\n",
            "Unique words rateo: 0.6666666666666666\n",
            "\n",
            "Predicted text: rly getting to find that perhaps it had been anxiously i shall have to go nearer if one of the words hedgehog wery sudden change but im a great crash as the could not the chimney and she went on one of the words he came in a poor man your poor made a mittle from the door see as her hedgehogs and the mock turtle interrupted in a very good many vook \n",
            "English word rateo: 0.9315068493150684\n",
            "Unique words rateo: 0.7808219178082192\n",
            "\n",
            "Predicted text: ot het the the san cu wte the the the the the it the a t t id ou the the it and a tt it in and thont ant fo hat cot yo vo fou and cef the she a t t sd be cu at ats the taid the a t fe the whe fere ont whe the whe se t a    t w t t t s a tinke the the whe whey cou she the whe of tse at st itse an t t t t yed she the the thing fot the of the and nd c\n",
            "English word rateo: 0.7058823529411765\n",
            "Unique words rateo: 0.4803921568627451\n",
            "\n",
            "Predicted text: it fot wo ru and the the the and qre the it and an fer so on so heat and was the dou the wo a se w t t sd wo and the all the the it in the the a t a   t t yere berere all it fry all in fow the ev the and she sas ye a ske he t fere on the pl the whe the the and wo the tas the cou the the the whon the the the the the she the the the so it the to the \n",
            "English word rateo: 0.7835051546391752\n",
            "Unique words rateo: 0.3917525773195876\n",
            "\n",
            "Predicted text:  t spt fort of and haly he and fis and in one and a lim the she it it she and bu y w sd whonor she the he to the whe the she a wed it on and whe mou the and the the whe the had the it sherse tpt a tt she was the to she tas we wily antte wo beat t t d id tt and the the the and thent of o  sme on heat t w sd the the the and id it said she and she and\n",
            "English word rateo: 0.7894736842105263\n",
            "Unique words rateo: 0.45263157894736844\n",
            "\n",
            "Predicted text: o she  fon the the  wee in wo sit a co a t t uhe a      t id abom be t  alls the the in on the to wo and the whe and it and shing and lim aling the whe cev the the the the the a d w fe s in the and the ther the the the the she and she it on a     hav the wo a     t t t tt the the she fon her wencer of s id all and the or then the wo the said thee t\n",
            "English word rateo: 0.7894736842105263\n",
            "Unique words rateo: 0.42105263157894735\n",
            "\n",
            "Predicted text: ill  itt say sass a ge ou of a yerm to shav wit a ye the sit he a the asky it whe of wet ther in he a sd the cas ye ou finke the the and weming she the the whe the at st and one te the thar the ast the the and yere whe be id the the an s t ce y sk it she whe whe to the when the vhe a     con ast at st she sase a t t id the the and it sare the the h\n",
            "English word rateo: 0.71875\n",
            "Unique words rateo: 0.5104166666666666\n",
            "\n",
            "Predicted text: is saly a ant and the fou so she yhe thers sas the wo fal it the wered the ant of t sge a t id tt and the sere the the do the the i blle alit fit and on she she the on and the the cat an t the she wo fomt is the wo wery wo don fore the she what and so was and and the the yo wo he t ou the wo hot wo so abu ys sp the     st thing won a t a thing fort\n",
            "English word rateo: 0.7446808510638298\n",
            "Unique words rateo: 0.5\n",
            "\n",
            "Predicted text: it whe and whe on  nd a t t the the and oue as w h be ou fre the ase a    con loke the and whe the thing the and yere says pay tas he tt yhe it to cou the the was and she thu and it and the she she the thor she to the the the her she she of su a r fo a   ild a a fou uhe gor say che to the and one sers she to fant ould fly the the on a the asky the \n",
            "English word rateo: 0.7127659574468085\n",
            "Unique words rateo: 0.5212765957446809\n",
            "\n",
            "Predicted text: roow of the alice he the it yhe tas thal it wo she on it ou gor alice she tas in at fem cat s h t dou a     gav a id cly she in it one wo vaid the the whe she and she yas the itth it the her he w t we wers and thing a t sge the the she the her and caseard likes yid so thou whe taid she the she whe it the a t con thing the it the in the a ske sass w\n",
            "English word rateo: 0.7311827956989247\n",
            "Unique words rateo: 0.5053763440860215\n",
            "\n",
            "Predicted text:  whe thor vhe som on yery foorme the tharke hat cu the wese whe yhe the wo the the tas of  the cou it con ant the hat a the wery lon it at  the whe whe int the dad sat se sky and fr the the pau hed it wo wo pu a wn wers waid lere the the the the she the to ane co ts iere a ll the the to she yhe the it of ws did a t wrt in ons in cuhe a  ll wo to an\n",
            "English word rateo: 0.6236559139784946\n",
            "Unique words rateo: 0.5698924731182796\n",
            "\n",
            "Predicted text: n alice thy wit terp and the the a t  t t ou the cod con fre vhe the whe  t id the nont the the it she taid whe  dint yers is whept fored on sasgu the wo the the she had and the the  a t a the the the sas ager don a wo the tast thilyn a   coing the it she and yo the tas a te the a t t we the the couing whe were yo the a t nt forer fader co whe like\n",
            "English word rateo: 0.6923076923076923\n",
            "Unique words rateo: 0.5054945054945055\n",
            "\n",
            "Predicted text: t yo a cat thed she lis to the the  t and fow whe she the whe the the the and the the the the the the one the the said don the su and yet were she the don wo she the the the of the it of do thing werok the and and be t agers co t s t t the wo it on the uhe so the the the it the all cou heror and fome cat and the whe thing to it the cat fiss cou  th\n",
            "English word rateo: 0.8043478260869565\n",
            "Unique words rateo: 0.40217391304347827\n",
            "\n",
            "Predicted text: id int whe nok hery she thit in wit fu frot s t the said we the the she it witt so  vo fid whe gore ser he id the tases a t t fing ovr then aske cou it wat fre     t t  a w s ll she yo she and she the wely the don so the that the the taid the con yhen the a    licid the a t t fon yo and she the thing the the whe wo weror lot of fu ve id t t the uhe\n",
            "English word rateo: 0.6881720430107527\n",
            "Unique words rateo: 0.5591397849462365\n",
            "\n",
            "Predicted text: cans fer it and a t and tt and on on the the the the agat the the the an s t lead s ou she asd the the thing the the the she the the thort a t t st it she waid a t alice serot the yhe shing fon wit whe way and and and ang it sie wo taid the yerse yhe the the the the way the the befuait the the they a it the whe a t the don and wing begis a se t sd \n",
            "English word rateo: 0.75\n",
            "Unique words rateo: 0.43478260869565216\n",
            "\n",
            "Predicted text:  of t t and the the con here quh fu wheyn the and call the the the a v ot the the and the and the the and the tail of wereappe a ling whe the whe  t w t sing wo she the the the the an t  m ces is the it the on whing say and wo are the the the the tased of a t at vere thentlys it of the the one the the the whe por fon ande to fon wo the it to she an\n",
            "English word rateo: 0.782608695652174\n",
            "Unique words rateo: 0.42391304347826086\n",
            "\n",
            "Predicted text:  the yaid it the wo hent the wit co st sas the the a t t a thad to kise she te the of the the the vaid the not the the wert befut yerows shem the and the wo and the way we t and said a t ou the they the yhe the the of st and yerlant heres the the the han wo it in it yo she the the a n id and fom and the dor and the cu she uher whe one the her a t t\n",
            "English word rateo: 0.7526881720430108\n",
            "Unique words rateo: 0.4731182795698925\n",
            "\n",
            "Predicted text:  the fing it oues in wne the the sas  waid befu the the don wo fot an sed and hent the and whe the wo the the the cu the it w is the the wo alice the the it the the sering lo she she to the a vhent it the heat id dn alice say it tere it on and con she it thee it and the on the the whe the of qt a t t mes she it the at t ss tay the she it cou con sa\n",
            "English word rateo: 0.7419354838709677\n",
            "Unique words rateo: 0.4731182795698925\n",
            "\n",
            "Predicted text:  yhe tass the she the the and cou the the the a t t s the the  lit the whonow the to it the the whe she to the the the the on whe ther the the whe and it the the the yhe a w id con of alice the it and whe and whe the in alice to on it vhe the the the the the she a t mike out wo the she co se and thart whe the the the an ot ise cou a s ase the the a\n",
            "English word rateo: 0.7659574468085106\n",
            "Unique words rateo: 0.35106382978723405\n",
            "\n",
            "Predicted text: t dav ll she whe don loke fow a con the said vhe this in a in  the the the yere and the the the whe bee mat on she the she yhe and the fe wit the his the the the the she the co  whe the the one the and the con shen it the and  the at y t wr of t and be i t frs all ou tas fon tat ant and the and to and the it the the that a the the the she ws wime t\n",
            "English word rateo: 0.8085106382978723\n",
            "Unique words rateo: 0.4787234042553192\n",
            "\n",
            "Predicted text: ou was one a con its its it in the a wce fonse wo heren the the cu she wit the the asem the alice and she whe alice st evs  t ant and wo and whe the sas the it to she wes the fot teat an t sd the in wit the whe it it the whe taid she be it  crot the cone whe wit the hant wo the it the  t a dore the wer a cet hers her it yhe asky the a dou it she a \n",
            "English word rateo: 0.6847826086956522\n",
            "Unique words rateo: 0.4782608695652174\n",
            "\n",
            "Predicted text:  fou to hav it sas beatt the he the  wit can yit of see the and  a d w astell sas a t an t t we thing the it waid and the and said the it the ortt suh and and the frow the she on whe it a   d an t t t a the the it she she it shis fon ase wit the thing the wit the the the a t wrt  t t t id and how ser the cor the lis whe it ine the be t y t fis whe \n",
            "English word rateo: 0.7731958762886598\n",
            "Unique words rateo: 0.44329896907216493\n",
            "\n",
            "Predicted text: stled mot the one the the the and the it it a id  the of so wren it the te the the the the cate wo the san to she loot say it the fre whe an s     y t  lice the the she she the the the and the a we and the the the  it and shing hard the she lu ev was fu he a ted the wit fav t t y all she and she the whe to     t flly alice the alick ine in she the \n",
            "English word rateo: 0.8131868131868132\n",
            "Unique words rateo: 0.4725274725274725\n",
            "\n",
            "Predicted text: t y se the the to the she the and con asky a  nd t t yel an a in  in alare tas the the it that fu she the ant and int he t a cope uhe the the cou fered for whing the the to and whe to fon fow the the the s her she she it and and she a   nd ser the of t ye alice the the tay a bont she noo of con a t w w ant it the tas cot i t d the she the thent it \n",
            "English word rateo: 0.7731958762886598\n",
            "Unique words rateo: 0.4639175257731959\n",
            "\n",
            "Predicted text: he she the and the and she ase so thad the the and the the the befaid alice she the to fe t s the the and by t s m sd the a rd be wt com whe be the that she cou way aliche wo the cu she to it it the she yat an t ant so the that yo the the a t c sere it the he it and the at id the fon she yo the he a     hall a   t ale a wed the ther was an and taid\n",
            "English word rateo: 0.8541666666666666\n",
            "Unique words rateo: 0.4583333333333333\n",
            "\n",
            "Predicted text:  it whe a dou thare the off the the the a      cou asas seret the the the she the and the it he and isow for thent the she the the and the yet in a hav on whe alice the sered  t ange then and the whe the a t id a like  the all and she the and the thar and said the of the a dere thes a t uhe the thing to the wit so wo anow the the it it the she ass \n",
            "English word rateo: 0.7727272727272727\n",
            "Unique words rateo: 0.4659090909090909\n",
            "\n",
            "Predicted text:  weryn a set in aled ins she  lice con she of coue tall  whe the it she the the was she to the whe the she the  the of the she and uhe wo ou and alice her the to her a it shes and the the a hatting the a t on ons to fot the the the the the the sabu the  bu yo and yas a the thon fe the the the pot alice the whe the thon the sas thing it the  gard th\n",
            "English word rateo: 0.7613636363636364\n",
            "Unique words rateo: 0.45454545454545453\n",
            "\n",
            "Predicted text: ng she sass  wil im wo fon the wase the the and and and the a ple the whe pp the the it a w s wery on the and she su the the shas the the the the the the it so she she the wo is wero the the the on she it fowp the and the the the don oue the all and the that of ant and the nor yers it wer mowe cot heard par way in she wit all and and the a      t c\n",
            "English word rateo: 0.8021978021978022\n",
            "Unique words rateo: 0.4725274725274725\n",
            "\n",
            "Predicted text: y a   s t on to cat ant con at id t       w w a pl yere and waid she sere she werted ru the the whe she whe      d uhe she  t aid and cad whe so she pu her the any  s w se she the     tse it her  the and the a      se a cet she saye a t dout a     y ant the whe the bet hers a t sting  it co alice so she a int it the donoke   t heat se se s t se the\n",
            "English word rateo: 0.7717391304347826\n",
            "Unique words rateo: 0.4782608695652174\n",
            "\n",
            "Predicted text: he that a cow the it thing to so she whe a     spis the  wery welle wo hav t he plyn hat hered it alice whis the  con and the it she alice don she the the the she the the to hers to say n an imed the tule sit and hat and and the be st the the morot and and she the the a t t werome dou it  fu the whot the to to cou thad she as s t and bu thent the t\n",
            "English word rateo: 0.7640449438202247\n",
            "Unique words rateo: 0.5056179775280899\n",
            "\n",
            "Predicted text: e fis was the ste was the her     t as w an sed waid and she fore whe att to  fit a dou a t t ou and the of cat  wo the yast the she and the the a s s at t an heat went to the it the the cou sat the the uhe whe the the thed sas the it the the thing ittph the ev was and the it the the the whe the the the the ant it qu in wo whe she all of ou it yay \n",
            "English word rateo: 0.7553191489361702\n",
            "Unique words rateo: 0.46808510638297873\n",
            "\n",
            "Predicted text:  whe to a the so it font the it sass of the a t an a frok tit it she a t an and so ev were they askes the we t ant to the its the  t  the thing beat the a t fess fore whe to a onit on the ju on the of a the the suse the fok it the she the the whe we w ted the the it she the yo thar the wo i st wo a tt she she sas a  ll an id he the wit tas she thed\n",
            "English word rateo: 0.826530612244898\n",
            "Unique words rateo: 0.46938775510204084\n",
            "\n",
            "Predicted text: the whe it it the werst be wite whe acat s t ske the it a t w ant and the the the the a cu it she and com a uhe the all the and cou fou rer whe alice waid went a t t t id sce a t t whe the to in ou she the now mowe the wo yeree the whe a pke the the it she and lis fon a beav w ant the taid and bet hed so and dont and to the it well it and and you i\n",
            "English word rateo: 0.7216494845360825\n",
            "Unique words rateo: 0.4742268041237113\n",
            "\n",
            "Predicted text:  ou the yn she a s w t t we and sit she she she the the and t t t pn and  carer it the she the the a   tser and a   y t id cou than mow waid whe the alice  t t and wo it the a t fing  sd wer it it of t t t lll the to to she yit so int coue a t s a t t wers  they a t id con be n id he the yeraid she thing the whe we hat a  s t acon serot the to se t\n",
            "English word rateo: 0.7941176470588235\n",
            "Unique words rateo: 0.45098039215686275\n",
            "\n",
            "Predicted text:  she shy sas the the the the yhe fant it and she of wering the it she lont were low that she and the a s t t d lle t se ws the the it the she welashe fe the fille thad sas she mot fon the it yay the and bege  dvt the thent in the fowre the tan in a  fise the the the lon and the i w fon it wo the cat and them at t id waid of the be ou  the  so the t\n",
            "English word rateo: 0.7252747252747253\n",
            "Unique words rateo: 0.5164835164835165\n",
            "\n",
            "Predicted text:  taid yhe the the to the the the whe the she hing foree the to the thape ande of alice  r a the a w ou a   t id tall and      t him and md t a to the the the the they and ou uhe yherer the the the and whe alice the a skl the ce t t id  han the the the areen hers she yhe the it he t h t t s a thist shing cat mark the the lot whe and ande the a lit a\n",
            "English word rateo: 0.75\n",
            "Unique words rateo: 0.43478260869565216\n",
            "\n",
            "Predicted text: fou the she wing thed the he wo she the the yo the foow alice yhe the to sas the werom it a   t w and  the whe a w at w w doring sit she the a   fon and the taing the the of the and ben the the and wo toow did the a   fre thapl thed sas what the the she it it it wo waid thing and  con the say con inoke a the the at t an t s an t s alice yhe the the\n",
            "English word rateo: 0.7362637362637363\n",
            "Unique words rateo: 0.42857142857142855\n",
            "\n",
            "Predicted text:  cow it the the ev theyte whad the the on she hers befle and the and lit don it an t an t t t t t sd she the the to the day tt the yon she she the to the a t id the the sais said the abel yit it she and one it don  cou aboule on the to a t ou to the the it it and the what he t we it she yersle the a t a bou a t ou yaid in the to it she the the low \n",
            "English word rateo: 0.8350515463917526\n",
            "Unique words rateo: 0.3917525773195876\n",
            "\n",
            "Predicted text: and wo thon so ase a t a cou the  it it at id sky she the the a lice the the the the the con the a and the the and she ant the the the were whe anow and the and said the ting wo wo was the he the and it and hav the the the a sd the it the frert and the a oner it a tt the the taid an at fer the the the         t tting the don the the and in dou the \n",
            "English word rateo: 0.8241758241758241\n",
            "Unique words rateo: 0.3956043956043956\n",
            "\n",
            "Predicted text:  shant she tas at im the she the the the a t tt coue the so so the so she sass on a it the the the the wit wo the the the an t s and a i t wase the sping the the the then the whe the the so the cou wo ler a   nd her to of ske whe wing the whe wo it nok on yill it so my the she the it whe the she thon yere the way the waid wee hed the tay rering the\n",
            "English word rateo: 0.7204301075268817\n",
            "Unique words rateo: 0.46236559139784944\n",
            "\n",
            "Predicted text: eare the had then the alice sore her she of the frey com it an w cone she tas and the the this the the was the the fot she the the the taid wit and the the it a the the she he s t s be t t the wed wo wo whe and the and it it of s here wis qu wecu and the it she it yet tas and on be t  t id s t a dot whe a t y n wt sit the wering the wit in ont and \n",
            "English word rateo: 0.8350515463917526\n",
            "Unique words rateo: 0.4639175257731959\n",
            "\n",
            "Predicted text: he the don to the the the whe the the the the a t t t w skyst waid the thate the thent and  the heart a cu he skard all dont be t id the we a vhe a it the the the asere yell she wo whe the the the the so on at fet the of the she cu cev alis she a t y ou the bu t t t fo a an t fat id alicu she noke wo hers to one she taid to the ars vhe caskes the w\n",
            "English word rateo: 0.7604166666666666\n",
            "Unique words rateo: 0.4895833333333333\n",
            "\n",
            "Predicted text: t whe so and  it it it she yhe the she yhe coners and and the tay shad the the be wet the andd the qu of t fe and the and the yay on the the wo and the we and the the the beat the the her she the the the ly that whe the ly a whe pu fing it she cut the and pe we a   t id the     t t t t the yhe bes the bece cat werme she the the thing whe of the and\n",
            "English word rateo: 0.7608695652173914\n",
            "Unique words rateo: 0.391304347826087\n",
            "\n",
            "Predicted text: e she she a t id fu it a   favt in int and an fan ou fu of t ant and  the the sall the the whe she a   t at tt the it it a   bon it whe wit and the thing the the the sass     t croot the the sp an on said on and alice on a the wo a tis the be t a lice the the she she the sas sabt a tay wo fon as t t we a t v all the the is fraid the to thing wo ant\n",
            "English word rateo: 0.7835051546391752\n",
            "Unique words rateo: 0.4639175257731959\n",
            "\n",
            "Predicted text: v she cou the read corent a t y werte the she cary the frt moke lon the the she oned a t on the whe raid not whe the whey on alice whe taid mot of t one the the this alice wo and beat t w t s id wo wo all ase the a the the she werent and so the the cu the the she the ca t her she of at ast whe ons she and ras font fo a con in whe in dou the  whe of\n",
            "English word rateo: 0.7096774193548387\n",
            "Unique words rateo: 0.5161290322580645\n",
            "\n",
            "Predicted text: on it the the the the a   t on the the a t w we whe and wo st the thes fou it whe yithou whe it belle allle the the char on all wit the the  caid the the to the said the yhe it at y sd the the sas wo id t uhe a we t an t gers asd a sd t w ut the hopow ser terd     it thed the the yhe the she wo  wer she she she whe the the the alice whe in the the \n",
            "English word rateo: 0.6989247311827957\n",
            "Unique words rateo: 0.44086021505376344\n",
            "\n",
            "Predicted text:  and the taid the of the the way it werle lote the the and the a t sd ev is con it ferer werpot it it ase the the the the and the a v a nd cou  yit the whe the it whe the pu ple a t in it the she the the taid whe and the the she uhe begat ant at otle a      bou wo the and wo a         tte a t se the she the the wharke and she the alice yhon ant she\n",
            "English word rateo: 0.6966292134831461\n",
            "Unique words rateo: 0.42696629213483145\n",
            "\n",
            "Predicted text: yes and so she whe the the and whe so all yent the the con the ons a t w werrent a tt she say the isers wo the st wo the vo of id we whe the the the the sie to  the and and the     s t ple and the she the the the the the thont fe bet the the the the the and the the the so befing now whe the it to id cet a vhe the fong the were the wo don a t w t in\n",
            "English word rateo: 0.7741935483870968\n",
            "Unique words rateo: 0.41935483870967744\n",
            "\n",
            "Predicted text:  the begat a the of the whe fon and whe asd whe  nd the ce t a  stle wit fad tit she the she the tome the of a   forhe the yen werim the goot cou cat t fon and a t w and and the alice and and  cow at t a the on the a t  the  on a we t on she cat in the she cat id the of the the it the as a    t t w s om to the she anows     ge ou see ras the it and\n",
            "English word rateo: 0.8105263157894737\n",
            "Unique words rateo: 0.43157894736842106\n",
            "\n",
            "Predicted text: t t t w a sd s an the a derm a t t t id the the whe the the whe the cu w a the and the of whe she agane a t id see sas whe she thard the yhe the on fore the yit wo the the yo of the whe to it and and the the a t t le ang she whe sev so qece it the a cat t and wo the fers asess the the in a   t s y ou isse sas the befu it it the uhe the con yee the \n",
            "English word rateo: 0.7326732673267327\n",
            "Unique words rateo: 0.4158415841584158\n",
            "\n",
            "Predicted text: tt she the onl onoring yo and y a thing whe whe  ant wet the tu she thing dil yhe taid fat an s t t id wit so the said qu the nay the the a wsowse fou a nd fere the fot wim the wo she the wn a   t fe the it and y t wit the tit she one and thar the wo and the the wit he t t med the a t t s t we in on the this in and the a t t u w t t t ou shat y st \n",
            "English word rateo: 0.7722772277227723\n",
            "Unique words rateo: 0.504950495049505\n",
            "\n",
            "Predicted text:  the wo the ase the a   s ou alice the of a said wo they a the the  sd and begat fit yhe wo in wou it to it so fot of ws tay and ca t t wing car t s the and and thare this the and the the yo to the it the the the to it a     lle so frly the it one the  t t t t t ou it she the the said  tt the she the and jis wo wo and the to the thed the in the wo \n",
            "English word rateo: 0.7708333333333334\n",
            "Unique words rateo: 0.3854166666666667\n",
            "\n",
            "Predicted text: e it the bet fot yere whe eort the she the du id t y an t an frle the she the the and the the way rot the the the said and dore we cat ske the the crt the she the one in to a the  ll yhe thethe she whe serping the the of st of whe the the the whe the the the the tite cat t t t and  we on the it it it yo and you it is a ses the she the thatt it and \n",
            "English word rateo: 0.8064516129032258\n",
            "Unique words rateo: 0.44086021505376344\n",
            "\n",
            "Predicted text: he yo she the wo shing in it he id was the alicke the sat yit the the a an t t at wed the a      she whe whe an t id the and so the so       t ou wan yo on the dav it she the  t t alice beat yere sas whe to it the the tuld is it the the a cou don wab said the the the the the fole wit to cou and the the to one a t we wasle wo alice the the a cet the\n",
            "English word rateo: 0.7741935483870968\n",
            "Unique words rateo: 0.45161290322580644\n",
            "\n",
            "Predicted text:  and bee the the the  t s the one the thon she saing of whe that the wo were rhe yan the wo an bu the wo alle the yhe a vhe she and tays lot the she awed but it the fon the the the the the and the the seres hes the the thad the the the the the he frok thon a  t t t a cu ther it hes the and whing said nt and crly ime the mot fot she uhe for a w a th\n",
            "English word rateo: 0.7252747252747253\n",
            "Unique words rateo: 0.5054945054945055\n",
            "\n",
            "Predicted text:  t t wit and the the nom and the the in im to then so so to the the the the wers a t and the and a t and out bu t a here the the the wit the the the taid the alice the of thed waid the i t t id an cew to a t t a yhe the in shen cus and the mot the the the con  inght of s afore the fon the sete that she the the lon bid the alice  t t t t se se alice\n",
            "English word rateo: 0.7916666666666666\n",
            "Unique words rateo: 0.40625\n",
            "\n",
            "Predicted text:  sim to it yit the to the a t so in she the the and be t at waid art alice the  an a dise it on the the it to it whe were the all the fasst the wet it cou frot and it the was thing the to to a    t t her thes wo a abe t all ro fow fon she the i t t t t t t a yere will corerenthe of pl on the the the the cou wo it thee were the ev and lit and she an\n",
            "English word rateo: 0.8020833333333334\n",
            "Unique words rateo: 0.4583333333333333\n",
            "\n",
            "Predicted text:   the  t t s t id the whe the it don the wert it thar the the thav on was the she wit wo she ther alice the she at n ying the she the she the the asere the heat the the it so the in thre yo isily she the wo the the the of a the ou it a the a   t ll nd the cat t ant yim a sed said thing the the to low re w ou of whe the and a it this a     it mok fo\n",
            "English word rateo: 0.7872340425531915\n",
            "Unique words rateo: 0.48936170212765956\n",
            "\n",
            "Predicted text: h the and bee she the a t an w t t y ant that hast it it heas whing the at ant  and this fere and on the said said wo whe come su so and he the waid a      t  t s a pl the con a it they se alyerow serok the and yaid the the the all and tas the of wing i se alice the and i id fatss the tas wit she conly herte whe the the it the was the the it and co\n",
            "English word rateo: 0.7912087912087912\n",
            "Unique words rateo: 0.5384615384615384\n",
            "\n",
            "Predicted text:  the say the the the a t se yhe it whe and begat a yay whe whe it vas and onen a t w w our the ras was bead that  ted pre and and she way pas the the alice she  we id w steed on the alle yo whe the the the wit the wit a t w sky it the mok she way to id the she ally it chard the she the said suly the  it she the to wer it the doping the a t fte you \n",
            "English word rateo: 0.8152173913043478\n",
            "Unique words rateo: 0.4673913043478261\n",
            "\n",
            "Predicted text: e whe wo t wt and the to it tor con vhe shing the sem in one whe to cat dou wers the said the wit hat st had sas wer he t antell a the say she wit abon to yhe fis fid yo ait the thes whe sasery an y u ou yas the lalf the to were of wing be t t s id thed a t her at fell he the she the of the the and to the yhon the a   t on the the and she the being\n",
            "English word rateo: 0.7446808510638298\n",
            "Unique words rateo: 0.6170212765957447\n",
            "\n",
            "Predicted text: not got and whe wo it int it of we the cov copt in it and and the the whe the the wesse and the the lot wo cat as t t fart wess yas a   t asch the the he t y in alice she so fry fis ey and werm the sass and the and and the cat s t vr fis and ou dim it yo id the whe on so in the carch the tasse con a yaid and the whe a d s fu the and the the cead th\n",
            "English word rateo: 0.7368421052631579\n",
            "Unique words rateo: 0.5052631578947369\n",
            "\n",
            "Predicted text: o the a srt the rery therse way sayle chad the werot cout  the the the a   car as cou at tte and said she wo the they a on the a t t be t h with tas cat ouh i s sen a t t t fe whe tasse ou and pl yerpot so the wo whe the the she the and fre the tay alice a t des alike forn  ske the the the the the and yo a fre she all he t t y oue so was yerow the \n",
            "English word rateo: 0.7127659574468085\n",
            "Unique words rateo: 0.5638297872340425\n",
            "\n",
            "Predicted text: wo it and a don the they she the shed the lo it the way cou she the the was in ou nort the the so the be ce  ling wer be  t she the ste a v fis frle a sd the the whe wo and the beft the she ser and a w a in beat t ean t ou we t sd the but the the the thathe thed she whe that by she uhe tas im the yhe it the a plyce bes tat she the sere she vie so a\n",
            "English word rateo: 0.7263157894736842\n",
            "Unique words rateo: 0.5052631578947369\n",
            "\n",
            "Predicted text: t and thing a t id yhe sas the a   w st fon whe it on his yo and the the du wo the to wo the on you thare the she bll she the the waing it the it wo  it in whe the the whe the be t id teat and the a       w s a con and a t t t t he was wo she cu were the she the the of sge casp the wers thad the she and the the the itt the the das ont ont wo whe et\n",
            "English word rateo: 0.7395833333333334\n",
            "Unique words rateo: 0.4375\n",
            "\n",
            "Predicted text:  the fou taid she the the the the they the fow so he we her wert she whou a   sky ther te m t t alice a it ray the con it she the the i t fou alice whe con the and crok yhe the a  t in waid thatt the the moting the the the the the raid the the it and then the was vhe yaye the and wo thed say of w t t befu        cow     lokd an ss fou ise bu alle s\n",
            "English word rateo: 0.7045454545454546\n",
            "Unique words rateo: 0.5681818181818182\n",
            "\n",
            "Predicted text:  the she the thent cor she taid the the rean the saad and the the the the fis and wil taid to shor she the wo the that ting the the the and sed it wit he whe the so ou to and the the it and an s t u an id asd and it whe the we sp don fing the alice the thou a cou nok the she the begat we the the yit so wo the so and yhis the she and on youle hes sh\n",
            "English word rateo: 0.7444444444444445\n",
            "Unique words rateo: 0.4888888888888889\n",
            "\n",
            "Predicted text: ow goly wo a the to a don sas wing the alice yo she said so ant a t the yas wo and the shed the casd yor fu whe a t s a ll he t on the  an whe did the thark and the the the and  on dou that and wit the yaid fes it the the it on the the the wo alick the the wered con her the the the the a ant and whe it a   it vhe the uhe co fat we att wo a the yhe \n",
            "English word rateo: 0.7446808510638298\n",
            "Unique words rateo: 0.5\n",
            "\n",
            "Predicted text: n yhe cou a t ant alice core she the to a the to the the con tas this the whe and  bot the of ple the then the and the it the wing it it werots the wayp  rt it so she jon wo id y h the tt to the tas a t at id the the a a t an a terer here the the the alic itt whe the the the ro lard yit in the an id the she they font she a t s fow con her the the t\n",
            "English word rateo: 0.8020833333333334\n",
            "Unique words rateo: 0.4895833333333333\n",
            "\n",
            "Predicted text: t anot of a the wo fis pit lont so an his whe besp the a t t it con yat the and the ant wo all the she the wo and the a t fon calle the he sd ou was alice a     t t tt ageat werpp and the the the he the te tay and the shis whe not one the a t hish of the yo wo s w an it the his the the the it she cou mot re yerait the ad s w alor yo on dou the the \n",
            "English word rateo: 0.71875\n",
            "Unique words rateo: 0.5\n",
            "\n",
            "Predicted text:  the yit lall wer uhe con and a t s a r t id t t     t ut an a the wers a a t y od the the and yhe in alore she the the of alice qu the cuhe the the whe it the the the and  yas to the the to it to con it yit wering thing yhe the then fon to wo and he hery wo her wer at all a sp on an and and whe  ou she the tay a cow and at t the gry a     we a t  \n",
            "English word rateo: 0.7216494845360825\n",
            "Unique words rateo: 0.4742268041237113\n",
            "\n",
            "Predicted text: e say she waid the the the wile the she wo agant and  the thing the the and the was an id the asion the was at t te id to and ou it heat a   me we see aid one and it thard the thed the wo the whe the and the  a v s t sd the the the a t t whe it it and she the whe and he t t t w the in ded an w t he sd hert a con at s t frp sabe the what is and on  \n",
            "English word rateo: 0.8163265306122449\n",
            "Unique words rateo: 0.4489795918367347\n",
            "\n",
            "Predicted text: g not to the the the com she in she  the thers and serme  nd a s and yhe the ver foke sas the tay it the a the whe it more to the a t h whe fry alice it so she the in the and seas ou mok she a t w sge to wit of cou a it and wo wers of d yelle the lo the of in it how cou perorn a t t were whe it the the wites it  it of re the it the she core the so \n",
            "English word rateo: 0.7708333333333334\n",
            "Unique words rateo: 0.46875\n",
            "\n",
            "Predicted text: he the whe sas now the the the se waid whing of taid the ther  ou the of alice chat wo the to whe a t id sered befy the the thing she led the she be ot the the she wase tr was the hee the and the don thard a fl an t id tas the and on therys so a t d the the it the the whe the sed it and ant wing cou and co his alice the don    t id the the alice th\n",
            "English word rateo: 0.7222222222222222\n",
            "Unique words rateo: 0.5333333333333333\n",
            "\n",
            "Predicted text: t yet the she the     bou waid the the and on and welyst the the the and the wery wo and the the fis the she the it on the the it yhe yhe to onaid she the be id tt it dou it the   lice the yhe to and a ll ong whe red  t w s ou and it the she then it a   s id the the alice wo the yile an s st the cou and wo that the and he t t ase then the werow hes\n",
            "English word rateo: 0.7608695652173914\n",
            "Unique words rateo: 0.43478260869565216\n",
            "\n",
            "Predicted text:   id wit the shen and to thing the the the the the moked taid a onle on the wing to and the say the ru  on alle cou the fou it the to werm on the knt and the can t t for fort he on hall abont low the the  anto yhe wo then she dou the mome and i all she whe the it she then heav dan t loow of and she she taid the in a    ll whed she to  the the hery \n",
            "English word rateo: 0.735632183908046\n",
            "Unique words rateo: 0.5402298850574713\n",
            "\n",
            "Predicted text: e alice it she thol and the the whe thon yit the yhe the con said wo yo sing qu alice thr tas and the it hat her qu all  a t t sr a nd the in she a ses it the thepe it and the yere the said the seat and the the and the whad the the the mot i h it the the it the the the a v on the the sas the the the the the she that taid on thont the so the thed th\n",
            "English word rateo: 0.75\n",
            "Unique words rateo: 0.4782608695652174\n",
            "\n",
            "Predicted text: r the the a t ont thert conght she one  wo chav were she a   t a the the the  sd in the she the whe the the do she the shat the the qu ev fiss the wat the the cou and hat fon this the cou a t fer it seat the the the ny and the ealle the of wo the the the tu fre one whe the and ply a t t the the  t t sky and so and it and the tas it whe whe the she \n",
            "English word rateo: 0.7419354838709677\n",
            "Unique words rateo: 0.40860215053763443\n",
            "\n",
            "Predicted text: yo the and the the it a t at antle moke the whe alice and the the she she and cat sd a t sge qu he t v an t an in the and i tere and the whe at a ll he the the the she he the she wo yo it and a t at beid she she he ared we yit of wo wo the the pu wit the cou wily the the the a pn st the dou ev it a   t t asd a  nd w y h w s the the and she the a   \n",
            "English word rateo: 0.7843137254901961\n",
            "Unique words rateo: 0.4215686274509804\n",
            "\n",
            "Predicted text: ce wo she she the the the the vhe a lle the  t t t t he vo nee the the the and whe tas the and he wece the far js whe carhe  tt the fow the the the a   t ant  gre the ant the and the and wer the alice sas the the at det and her in whe it it a   red wo her vholor in aset so and tas wont the she tim the taid of the a se the the forrt yo the fer a sk \n",
            "English word rateo: 0.6956521739130435\n",
            "Unique words rateo: 0.4673913043478261\n",
            "\n",
            "Predicted text:  it fone whe thousle wo in wo it to the it so the the cou fom it and qply her a t y sge toute the the the she in the the waid wou wase whe dons a t ut she it the it rt a ance to in so a it it a   t t a    s on at s ant the said the the an is of the the she wo she ther an ou whes of t and the the the and so me  on sas fou beging the an t as sery tha\n",
            "English word rateo: 0.7422680412371134\n",
            "Unique words rateo: 0.4639175257731959\n",
            "\n",
            "Predicted text: e a   t w all ant her and the wis said the whe ar y alice fin so  the yhe  whe groke the thor the they lit she wer wo whe wee the the a don and the yit spot say the whisst  wo laring she serp a     lice wo the wo of s t t n he wo rile a w asem begare the dor she the the the the whe the the on wo thed a t on alice wo to on she she se and she sit so \n",
            "English word rateo: 0.6923076923076923\n",
            "Unique words rateo: 0.5164835164835165\n",
            "\n",
            "Predicted text:  thise so whe begatt shon the cou pl the be t ce t wch an werle the qu to on font so and a tse of dou a t h ske she she terow the the to so in wing any the a t t a whe  wo it in it ther asd was feron a t t wit not and anow yhe a the her whe gas irot eid sas it she the and but the whe heat and sas cou the the to on the and to don the ras the the rer\n",
            "English word rateo: 0.6947368421052632\n",
            "Unique words rateo: 0.5263157894736842\n",
            "\n",
            "Predicted text: a  w fer of so the whe thes the the the the say and the whe the she the the seat the tas the alice the  rl wit whe cand the were wit she weris she bu wert harke the come the yor to she a   t n s her for and and the the the the nome she the the the taid the  pd ou s frow whe it the she the the the  in thing the ant wimey of the tas cou the the the t\n",
            "English word rateo: 0.7727272727272727\n",
            "Unique words rateo: 0.4659090909090909\n",
            "\n",
            "Predicted text: r a t an  t  yerm it it it and the sast at     t t isee the the she she cou whe the rit a whe and the anon tit a t s the thing the  t t he she yhe she thoned  t ly and and and the eou the she the the the to thou the an t the and sit and tay re the the the taing in fon the whe and a    t wr she it wering the wit fom yhe it wo the the whe com on shin\n",
            "English word rateo: 0.7741935483870968\n",
            "Unique words rateo: 0.43010752688172044\n",
            "\n",
            "Predicted text: t t on it anory and the and alice the all she wo ou whe frse the the did cesseases the a t fu it wo frot fit it the the is and were wo tase there she sent of ims in and the wes she wo the the hed to heart  nd the cafing the she and the yaid and the say a   wy the the the the alice the so anot to the st a   it se s lit anot of bee ys the they the th\n",
            "English word rateo: 0.7078651685393258\n",
            "Unique words rateo: 0.5168539325842697\n",
            "\n",
            "Predicted text: ing the ferast here  don mere the what her it the she than she she the to the beat ple the whe con thad frp alice yo cat t id the she taid caple alice  skar sit the be and a cou she it uhat the the on the of witt a a ferows in ithe wo the whe con the it the the thed yhe wo the she she a whe whe on thard the she all witt the sas it it tit fat the a \n",
            "English word rateo: 0.7011494252873564\n",
            "Unique words rateo: 0.5287356321839081\n",
            "\n",
            "Predicted text: he shent she she con fe t fot whe the the to inok so the wo fad and the it athe a t t ttes alice it it wase and so dow it dorr tass thing a the she whe wo the it ou lor yhe the a ses a   sas an id the werow asd the bu and and wo a ske a con werm the yhe the the don say a taid r a    t w he sky a t s a d and the  t t uhe the all fis she whe yhe she \n",
            "English word rateo: 0.6804123711340206\n",
            "Unique words rateo: 0.4948453608247423\n",
            "\n",
            "Predicted text: ome a      t t sle and the the cu on i yn thinke the the and and st the a   r and onthe ande and wo the the so  she she thars wert the and the qot the pu wo the the  wit ant she it the and it the whe the thes it alice to a     rem the the whe the the we the prs the an t is sas the it thing the whe con st acou it intld and and coue abon it a wo the \n",
            "English word rateo: 0.7303370786516854\n",
            "Unique words rateo: 0.4606741573033708\n",
            "\n",
            "Predicted text:  don fing she the whe cau vhe the and in ss the it the the she uhe the the alice ot on the so the wiou aserse dou and ther the the the rkl the  the the yon of weror pu he t id pl fad ou fing she the she the the thas all the that the sas for wo frs and don whe mok the yo werory yhe a t st anv whe the wo is the can id t fou it a t t t t aloke yhe the\n",
            "English word rateo: 0.6630434782608695\n",
            "Unique words rateo: 0.532608695652174\n",
            "\n",
            "Predicted text:  weryt the it tay int ayeriou the hale tor bent whe the a      t t a to le the yhe wo a   t an ant an sd wo waid the the yed ste the the she that it the the alice so a t s id id the she the a t nter whe now a t st wo at s t t alf whe and say the a t a the   t t we the thad wo whe whe we a the of s all all the thore the sas an t s the said the wery \n",
            "English word rateo: 0.7448979591836735\n",
            "Unique words rateo: 0.4387755102040816\n",
            "\n",
            "Predicted text: ill in it she the wers it the and she the wo it yered the wo she it wo and an id t s the cot taid it she ce t don the and a sely and yhe the fis the a se we ss the the the lalf uhe waid to wit the it she fiss to the whing now fou fory of a it she the acore an t id the it wrte and the the and the the so yere they isy of swr she the  t ou ooking she \n",
            "English word rateo: 0.7204301075268817\n",
            "Unique words rateo: 0.4731182795698925\n",
            "\n",
            "Predicted text: it low  in uhe as a the the she dou and at fir it whe the sas it the his shore the the a t at at yerot wo she fre the the the and the the the and dom it don the of it whe the it it and the she a t h foly shes and all a   v ant in and the whe and the ser wo she she asd the and yhe the the at a the he the it the a one the the she the a nd  come and y\n",
            "English word rateo: 0.8333333333333334\n",
            "Unique words rateo: 0.3854166666666667\n",
            "\n",
            "Predicted text: a dou wo fows a t antre whe the fe the lor dol the the cou wo the at he and a t sering the yaid befu the the     ante     d t w d the thile a      w t as ou said  y t a ss fathe ting a       w how ant a ll it a    t t se charke and a t s t s st she the this she her alicerpu the  t bu seat a   lice a t ts a t ant she the the whe the the the wo is al\n",
            "English word rateo: 0.7578947368421053\n",
            "Unique words rateo: 0.49473684210526314\n",
            "\n",
            "Predicted text:  the the  the the alice waid the puing it and the the fome wo uhe and thing say whals whav whe the  it frice yhe of cou a tr the cots and to she     t h dy the whe a   we id rere the and and the the fow taid this whe she ring ou and the the lom the so the a t t and so wit the the fore the the the sas the caid the so her she the con she hent and a b\n",
            "English word rateo: 0.7386363636363636\n",
            "Unique words rateo: 0.5\n",
            "\n",
            "Predicted text: d the the cou the     lice the wit the alice tharge he the the the the the on the the sar ant and nd s a the whe the wo wo as bu at t t an     se wr than the so fre be t fonen re the she and the it he sky the the she the to she to and the and the con onl she a re at t wch the the  t id an t an this and the the wo lee  s ar uhe the the whing gayent \n",
            "English word rateo: 0.7956989247311828\n",
            "Unique words rateo: 0.4731182795698925\n",
            "\n",
            "Predicted text: oke the thing to she whe the fou it heat the it and cow and on she the was it the the the said the the the whe the acere wo fere to waid a t s t t an t ant she it and and alice the ant lottlarering the con the at hat ts and the nont head the thon a t y se the the the se the the whe she wery the the a the ou and and       cuhe hathe the the the moow\n",
            "English word rateo: 0.7727272727272727\n",
            "Unique words rateo: 0.4431818181818182\n",
            "\n",
            "Predicted text: as t a   sere the all it tp wo a d t w id it to whing  the and  so it the so the whe and whe the and the ou the said the the whe the whe of to vhem the the a t id her don it  the the whe and way her yo id vhe and a   t w here it and see be ant and thed the the belit yhe to wo the the wit to a       fear and thers the he wook then a the and the to a\n",
            "English word rateo: 0.8191489361702128\n",
            "Unique words rateo: 0.4148936170212766\n",
            "\n",
            "Predicted text:  yit a t t id thou the the to yerle the to it the alice bead it and  st bet she and the she she she she the fooke sers wit it wo don hart of and and s w str she the the it she the she  whe the ches the whe the whe the of st frd i id a yo say ex whe to sas we the tat the terit the the to and the asmay od and the to don     t fer mok the shade it cou\n",
            "English word rateo: 0.7912087912087912\n",
            "Unique words rateo: 0.46153846153846156\n",
            "\n",
            "Predicted text: ere whe the a       t lalle hat it and and a t y fis arp in a alle the a t y ance tt she       sd wit the dou it the the and a t t a the and the a sd to the sas the the and the the the she to she the thent she and the a vhe the she it the it on whe the ance it it a t t ant frs said whe dongute be sd a t t y hed the now the fow the tp antle the wo i\n",
            "English word rateo: 0.7525773195876289\n",
            "Unique words rateo: 0.38144329896907214\n",
            "\n",
            "Predicted text: the the two and that so the the the fing lok the thing lor he at t t and and it the a ye taall waid the and a w t were a the teat lle be t t t t fery yhe the the wo yo on the whe it and eay ast the sas whe tay wit thio yhing yo the whed it dont wo sis fre the thay and the whe het and and she the wo be lle taid the terot serov she and wo sas at a co\n",
            "English word rateo: 0.6666666666666666\n",
            "Unique words rateo: 0.4946236559139785\n",
            "\n",
            "Predicted text: e to it hers mok it the the the it she nor dit whe wo wer the whe wait the ris tas she ple whed she tais the she the taid of he whe the  t a the wo all the on yhe of the the whe she fon that the  t h s id that the the the so it a   sd the ser cat and the on all on the the then ans alice the don the aliceyt wo at s sd to whe the at a   sd vt the the\n",
            "English word rateo: 0.7204301075268817\n",
            "Unique words rateo: 0.46236559139784944\n",
            "\n"
          ]
        }
      ],
      "source": [
        "import text_analysis as analysis\n",
        "\n",
        "models_ewr = []\n",
        "models_uwr = []\n",
        "for result in results:\n",
        "    ewr = []\n",
        "    uwr = []\n",
        "    for i, predicted in enumerate(result):\n",
        "        ewr.append(analysis.english_words_ratio(predicted))\n",
        "        uwr.append(analysis.unique_words_ratio(predicted))\n",
        "        print(f\"Predicted text: {predicted}\")\n",
        "        print(f\"English word rateo: {ewr[i]}\")\n",
        "        print(f\"Unique words rateo: {uwr[i]}\")\n",
        "        print(f\"\")\n",
        "    models_ewr.append(ewr)\n",
        "    models_uwr.append(uwr)"
      ]
    },
    {
      "cell_type": "code",
      "execution_count": 54,
      "metadata": {},
      "outputs": [
        {
          "name": "stdout",
          "output_type": "stream",
          "text": [
            "mean: 0.9150922592985977 | std: 0.07247842456061897\n"
          ]
        }
      ],
      "source": [
        "# get unique words rateo from real sections \n",
        "num_analyzed_sections = 1000\n",
        "np.random.seed(69)\n",
        "sections_idx = np.random.randint(0, len(raw_text)-seq_length, num_analyzed_sections).astype(int)\n",
        "\n",
        "uwr_true = []\n",
        "for idx in sections_idx:\n",
        "    section = analysis.remove_non_english(''.join([c for c in raw_text[idx: idx+seq_length]]))\n",
        "    uwr_true.append(analysis.unique_words_ratio(section))\n",
        "np_uwr_true = np.array(uwr_true)\n",
        "print(f\"mean: {np_uwr_true.mean()} | std: {np_uwr_true.std()}\")\n",
        "\n",
        "models_uwr.append(uwr_true)\n",
        "models_uwr[0], models_uwr[1], models_uwr[2] = models_uwr[2], models_uwr[0], models_uwr[1]"
      ]
    },
    {
      "cell_type": "code",
      "execution_count": 55,
      "metadata": {},
      "outputs": [
        {
          "data": {
            "image/png": "[encoded data removed]",
            "text/plain": [
              "<Figure size 1000x600 with 1 Axes>"
            ]
          },
          "metadata": {},
          "output_type": "display_data"
        }
      ],
      "source": [
        "plt.figure(figsize=(10, 6))\n",
        "plt.title(\"Unique Words Rateo\")\n",
        "plt.hist(models_uwr[1], label='LSTM', alpha=0.7, bins=5)\n",
        "plt.hist(models_uwr[2], label='GRU', alpha=0.7, bins=5)\n",
        "plt.hist(models_uwr[0], label='RNN', alpha=0.7, bins=5)\n",
        "plt.axvline(np.array(uwr_true).mean(), color='r', linestyle='dashed', linewidth=1, label='True mean')\n",
        "plt.axvline(np.array(uwr_true).mean() + np.array(uwr_true).std(), color='r', linestyle='dotted', linewidth=1, label='True mean + std')\n",
        "plt.axvline(np.array(uwr_true).mean() - np.array(uwr_true).std(), color='r', linestyle='dotted', linewidth=1, label='True mean - std')\n",
        "plt.xticks(np.arange(0, 1.1, 0.1))\n",
        "plt.yticks(np.arange(0, 45, 5))\n",
        "plt.xlabel(\"Unique Words Rateo\")\n",
        "plt.ylabel(\"Frequency\")\n",
        "plt.legend(loc='upper left')\n",
        "plt.show()"
      ]
    },
    {
      "cell_type": "code",
      "execution_count": 56,
      "metadata": {},
      "outputs": [
        {
          "data": {
            "image/png": "[encoded data removed]",
            "text/plain": [
              "<Figure size 1000x600 with 1 Axes>"
            ]
          },
          "metadata": {},
          "output_type": "display_data"
        }
      ],
      "source": [
        "# Box plot for unique words rateo\n",
        "plt.figure(figsize=(10, 6))\n",
        "plt.tight_layout()\n",
        "plt.title(\"Unique Words Rateo\")\n",
        "plt.boxplot(models_uwr, labels=['RNN', 'LSTM', 'GRU', 'True samples'], showmeans=True, showfliers=False)\n",
        "# horizontal line\n",
        "# plt.axhline(uwr_true.median(), color='r', linestyle='dashed', linewidth=1, label='True median')\n",
        "# plt.axhline(uwr_true.median() + uwr_true.std(), color='r', linestyle='dotted', linewidth=1, label='True median + std')\n",
        "# plt.axhline(uwr_true.median() - uwr_true.std(), color='r', linestyle='dotted', linewidth=1, label='True median - std')\n",
        "plt.yticks(np.arange(0, 1.1, 0.1))\n",
        "plt.ylabel(\"Unique Words Rateo\")\n",
        "plt.show()"
      ]
    },
    {
      "cell_type": "code",
      "execution_count": 57,
      "metadata": {},
      "outputs": [
        {
          "data": {
            "image/png": "[encoded data removed]",
            "text/plain": [
              "<Figure size 1000x600 with 1 Axes>"
            ]
          },
          "metadata": {},
          "output_type": "display_data"
        }
      ],
      "source": [
        "plt.figure(figsize=(10, 6))\n",
        "plt.title(\"English Words Rateo\")\n",
        "plt.hist(models_ewr[1], label='LSTM', alpha=0.7, bins=5)\n",
        "plt.hist(models_ewr[2], label='GRU', alpha=0.7, bins=5)\n",
        "plt.hist(models_ewr[0], label='RNN', alpha=0.7, bins=5)\n",
        "plt.xlabel(\"English word rateo\")\n",
        "plt.ylabel(\"Frequency\")\n",
        "plt.legend(loc='upper center')\n",
        "plt.xticks(np.arange(0, 1.1, 0.1))\n",
        "plt.yticks(np.arange(0, 45, 5))\n",
        "plt.show()"
      ]
    },
    {
      "cell_type": "code",
      "execution_count": 85,
      "metadata": {},
      "outputs": [
        {
          "data": {
            "image/png": "[encoded data removed]",
            "text/plain": [
              "<Figure size 1000x600 with 1 Axes>"
            ]
          },
          "metadata": {},
          "output_type": "display_data"
        }
      ],
      "source": [
        "\n",
        "#models_ewr[0], models_ewr[1], models_ewr[2] = models_ewr[2], models_ewr[1], models_ewr[0]\n",
        "plt.figure(figsize=(10, 6))\n",
        "plt.title(\"English Words Rateo\")\n",
        "plt.boxplot(models_ewr, labels=['RNN', 'LSTM', 'GRU'], showmeans=True, showfliers=False)\n",
        "plt.xlabel(\"English word rateo\")\n",
        "plt.ylabel(\"Frequency\")\n",
        "plt.yticks(np.arange(0, 1.1, .1))\n",
        "plt.show()"
      ]
    }
  ],
  "metadata": {
    "accelerator": "GPU",
    "colab": {
      "provenance": []
    },
    "gpuClass": "standard",
    "kernelspec": {
      "display_name": "Python 3",
      "name": "python3"
    },
    "language_info": {
      "codemirror_mode": {
        "name": "ipython",
        "version": 3
      },
      "file_extension": ".py",
      "mimetype": "text/x-python",
      "name": "python",
      "nbconvert_exporter": "python",
      "pygments_lexer": "ipython3",
      "version": "3.12.3"
    }
  },
  "nbformat": 4,
  "nbformat_minor": 0
}
