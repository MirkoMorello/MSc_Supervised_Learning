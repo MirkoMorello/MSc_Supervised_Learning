{
 "cells": [
  {
   "cell_type": "markdown",
   "metadata": {},
   "source": [
    "# L02 08/03/24"
   ]
  },
  {
   "cell_type": "markdown",
   "metadata": {},
   "source": []
  },
  {
   "cell_type": "markdown",
   "metadata": {},
   "source": [
    "*psw:* supervLEARN24\n",
    "SUPERlearn23"
   ]
  },
  {
   "cell_type": "markdown",
   "metadata": {},
   "source": [
    "## First matlab lesson"
   ]
  },
  {
   "cell_type": "markdown",
   "metadata": {},
   "source": [
    "clear all  \n",
    "close all  \n",
    "clc  \n",
    "load dataset1.mat  \n"
   ]
  },
  {
   "cell_type": "markdown",
   "metadata": {},
   "source": []
  }
 ],
 "metadata": {
  "language_info": {
   "name": "python"
  }
 },
 "nbformat": 4,
 "nbformat_minor": 2
}
