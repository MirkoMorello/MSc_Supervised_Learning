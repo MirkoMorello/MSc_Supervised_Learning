{
 "cells": [
  {
   "cell_type": "markdown",
   "metadata": {},
   "source": [
    "# L14 13/05/24 "
   ]
  },
  {
   "cell_type": "markdown",
   "metadata": {},
   "source": [
    "# One stage object detection"
   ]
  },
  {
   "cell_type": "markdown",
   "metadata": {},
   "source": [
    "We worked with two stage using RCNN now we use one stage with YOLO"
   ]
  },
  {
   "cell_type": "markdown",
   "metadata": {},
   "source": [
    "Yolo is robust to domain change, like detecting people on artworks when trained on normal pictures  \n",
    "it's a single regression problem, starting from an image it detects bounding box coordinates and class probability"
   ]
  },
  {
   "cell_type": "markdown",
   "metadata": {},
   "source": [
    "![alt text](image-1.png)"
   ]
  },
  {
   "cell_type": "markdown",
   "metadata": {},
   "source": [
    "- we take the input image and divide it in S x S grids\n",
    "- For each grid cell:\n",
    "  - It learns the displacement of the Bounding Box (for precise localization) and Confidence score (the displacement tells us if we have to modify the bounding box)\n",
    "  - It learns class probabilities wrt # classes\n",
    "\n",
    "The tensor is:\n",
    "$S*S(B*5+C)$  \n",
    "with:\n",
    "- S = grid lines\n",
    "- B = bounding boxes to find (objects)\n",
    "- C = classes"
   ]
  },
  {
   "cell_type": "markdown",
   "metadata": {},
   "source": [
    "![alt text](image.png)"
   ]
  },
  {
   "cell_type": "markdown",
   "metadata": {},
   "source": [
    "Yolo it's a modificaiton of inceptionnet"
   ]
  },
  {
   "cell_type": "markdown",
   "metadata": {},
   "source": [
    "![alt text](image-2.png)"
   ]
  },
  {
   "cell_type": "markdown",
   "metadata": {},
   "source": [
    "![alt text](image-3.png)"
   ]
  },
  {
   "cell_type": "markdown",
   "metadata": {},
   "source": [
    "![alt text](image-4.png)"
   ]
  },
  {
   "cell_type": "markdown",
   "metadata": {},
   "source": [
    "How to eliminate bounding boxes? like this:\n",
    "![alt text](image-5.png)"
   ]
  }
 ],
 "metadata": {
  "language_info": {
   "name": "python"
  }
 },
 "nbformat": 4,
 "nbformat_minor": 2
}
